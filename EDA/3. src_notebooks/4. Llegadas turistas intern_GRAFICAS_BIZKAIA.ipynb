{
 "cells": [
  {
   "cell_type": "code",
   "execution_count": 1,
   "metadata": {},
   "outputs": [],
   "source": [
    "import requests\n",
    "import zipfile\n",
    "import pandas as pd\n",
    "import numpy as np\n",
    "import matplotlib.pyplot as plt\n",
    "import seaborn as sns\n"
   ]
  },
  {
   "cell_type": "code",
   "execution_count": 2,
   "metadata": {},
   "outputs": [
    {
     "data": {
      "application/vnd.microsoft.datawrangler.viewer.v0+json": {
       "columns": [
        {
         "name": "index",
         "rawType": "int64",
         "type": "integer"
        },
        {
         "name": "AÑO",
         "rawType": "int64",
         "type": "integer"
        },
        {
         "name": "MES",
         "rawType": "int64",
         "type": "integer"
        },
        {
         "name": "PROVINCIA_DESTINO",
         "rawType": "object",
         "type": "string"
        },
        {
         "name": "CONTINENTE_ORIGEN",
         "rawType": "object",
         "type": "string"
        },
        {
         "name": "PAIS_ORIGEN",
         "rawType": "object",
         "type": "string"
        },
        {
         "name": "TURISTAS",
         "rawType": "float64",
         "type": "float"
        },
        {
         "name": "PERNOCTACIONES",
         "rawType": "object",
         "type": "string"
        },
        {
         "name": "ESTANCIA_MEDIA",
         "rawType": "object",
         "type": "string"
        }
       ],
       "conversionMethod": "pd.DataFrame",
       "ref": "aa973143-f16f-4019-8ab4-dbc469b24cfc",
       "rows": [
        [
         "0",
         "2023",
         "1",
         "A Coru�a",
         "Am�rica",
         "Argentina",
         "295.0",
         "3098,0",
         "10,5"
        ],
        [
         "1",
         "2023",
         "1",
         "A Coru�a",
         "Am�rica",
         "Brasil",
         "498.0",
         "4084,0",
         "8,2"
        ],
        [
         "2",
         "2023",
         "1",
         "A Coru�a",
         "Am�rica",
         "Canad�",
         "1385.0",
         "15512,0",
         "11,2"
        ],
        [
         "3",
         "2023",
         "1",
         "A Coru�a",
         "Am�rica",
         "Chile",
         "58.0",
         "505,0",
         "8,7"
        ],
        [
         "4",
         "2023",
         "1",
         "A Coru�a",
         "Am�rica",
         "Colombia",
         "370.0",
         "4662,0",
         "12,6"
        ],
        [
         "5",
         "2023",
         "1",
         "A Coru�a",
         "Am�rica",
         "Estados Unidos de Am�rica",
         "1559.0",
         "19332,0",
         "12,4"
        ],
        [
         "6",
         "2023",
         "1",
         "A Coru�a",
         "Am�rica",
         "M�xico",
         "334.0",
         "2605,0",
         "7,8"
        ],
        [
         "7",
         "2023",
         "1",
         "A Coru�a",
         "Am�rica",
         "Panam�",
         "44.0",
         "629,0",
         "14,3"
        ],
        [
         "8",
         "2023",
         "1",
         "A Coru�a",
         "Am�rica",
         "Per�",
         "73.0",
         "847,0",
         "11,6"
        ],
        [
         "9",
         "2023",
         "1",
         "A Coru�a",
         "Am�rica",
         "Uruguay",
         "62.0",
         "800,0",
         "12,9"
        ],
        [
         "10",
         "2023",
         "1",
         "A Coru�a",
         "Am�rica",
         "Venezuela",
         "187.0",
         "2712,0",
         "14,5"
        ],
        [
         "11",
         "2023",
         "1",
         "A Coru�a",
         "Asia",
         "China",
         "155.0",
         "1023,0",
         "6,6"
        ],
        [
         "12",
         "2023",
         "1",
         "A Coru�a",
         "Asia",
         "Corea",
         "62.0",
         "434,0",
         "7,0"
        ],
        [
         "13",
         "2023",
         "1",
         "A Coru�a",
         "Asia",
         "Emiratos �rabes Unidos",
         "36.0",
         "313,0",
         "8,7"
        ],
        [
         "14",
         "2023",
         "1",
         "A Coru�a",
         "Asia",
         "Filipinas",
         "298.0",
         "2026,0",
         "6,8"
        ],
        [
         "15",
         "2023",
         "1",
         "A Coru�a",
         "Asia",
         "India",
         "61.0",
         "336,0",
         "5,5"
        ],
        [
         "16",
         "2023",
         "1",
         "A Coru�a",
         "Asia",
         "Indonesia",
         "91.0",
         "701,0",
         "7,7"
        ],
        [
         "17",
         "2023",
         "1",
         "A Coru�a",
         "Asia",
         "Jap�n",
         "76.0",
         "798,0",
         "10,5"
        ],
        [
         "18",
         "2023",
         "1",
         "A Coru�a",
         "Asia",
         "Tailandia",
         "44.0",
         "211,0",
         "4,8"
        ],
        [
         "19",
         "2023",
         "1",
         "A Coru�a",
         "Europa",
         "Alemania",
         "2570.0",
         "31097,0",
         "12,1"
        ],
        [
         "20",
         "2023",
         "1",
         "A Coru�a",
         "Europa",
         "Andorra",
         "46.0",
         "377,0",
         "8,2"
        ],
        [
         "21",
         "2023",
         "1",
         "A Coru�a",
         "Europa",
         "Austria",
         "933.0",
         "9890,0",
         "10,6"
        ],
        [
         "22",
         "2023",
         "1",
         "A Coru�a",
         "Europa",
         "Bulgaria",
         "33.0",
         "205,0",
         "6,2"
        ],
        [
         "23",
         "2023",
         "1",
         "A Coru�a",
         "Europa",
         "B�lgica",
         "961.0",
         "9322,0",
         "9,7"
        ],
        [
         "24",
         "2023",
         "1",
         "A Coru�a",
         "Europa",
         "Croacia",
         "80.0",
         "488,0",
         "6,1"
        ],
        [
         "25",
         "2023",
         "1",
         "A Coru�a",
         "Europa",
         "Dinamarca",
         "538.0",
         "6187,0",
         "11,5"
        ],
        [
         "26",
         "2023",
         "1",
         "A Coru�a",
         "Europa",
         "Estonia",
         "56.0",
         "560,0",
         "10,0"
        ],
        [
         "27",
         "2023",
         "1",
         "A Coru�a",
         "Europa",
         "Finlandia",
         "75.0",
         "555,0",
         "7,4"
        ],
        [
         "28",
         "2023",
         "1",
         "A Coru�a",
         "Europa",
         "Francia",
         "3609.0",
         "38616,0",
         "10,7"
        ],
        [
         "29",
         "2023",
         "1",
         "A Coru�a",
         "Europa",
         "Grecia",
         "60.0",
         "390,0",
         "6,5"
        ],
        [
         "30",
         "2023",
         "1",
         "A Coru�a",
         "Europa",
         "Hungr�a",
         "58.0",
         "464,0",
         "8,0"
        ],
        [
         "31",
         "2023",
         "1",
         "A Coru�a",
         "Europa",
         "Irlanda",
         "432.0",
         "3715,0",
         "8,6"
        ],
        [
         "32",
         "2023",
         "1",
         "A Coru�a",
         "Europa",
         "Italia",
         "1404.0",
         "11653,0",
         "8,3"
        ],
        [
         "33",
         "2023",
         "1",
         "A Coru�a",
         "Europa",
         "Letonia",
         "67.0",
         "704,0",
         "10,5"
        ],
        [
         "34",
         "2023",
         "1",
         "A Coru�a",
         "Europa",
         "Liechtenstein",
         "122.0",
         "988,0",
         "8,1"
        ],
        [
         "35",
         "2023",
         "1",
         "A Coru�a",
         "Europa",
         "Lituania",
         "55.0",
         "369,0",
         "6,7"
        ],
        [
         "36",
         "2023",
         "1",
         "A Coru�a",
         "Europa",
         "Luxemburgo",
         "743.0",
         "8322,0",
         "11,2"
        ],
        [
         "37",
         "2023",
         "1",
         "A Coru�a",
         "Europa",
         "Noruega",
         "106.0",
         "943,0",
         "8,9"
        ],
        [
         "38",
         "2023",
         "1",
         "A Coru�a",
         "Europa",
         "Pa�ses Bajos",
         "2796.0",
         "29917,0",
         "10,7"
        ],
        [
         "39",
         "2023",
         "1",
         "A Coru�a",
         "Europa",
         "Polonia",
         "612.0",
         "4529,0",
         "7,4"
        ],
        [
         "40",
         "2023",
         "1",
         "A Coru�a",
         "Europa",
         "Portugal",
         "2961.0",
         "15693,0",
         "5,3"
        ],
        [
         "41",
         "2023",
         "1",
         "A Coru�a",
         "Europa",
         "Reino Unido",
         "3285.0",
         "32193,0",
         "9,8"
        ],
        [
         "42",
         "2023",
         "1",
         "A Coru�a",
         "Europa",
         "Rep�blica Checa",
         "53.0",
         "567,0",
         "10,7"
        ],
        [
         "43",
         "2023",
         "1",
         "A Coru�a",
         "Europa",
         "Ruman�a",
         "87.0",
         "583,0",
         "6,7"
        ],
        [
         "44",
         "2023",
         "1",
         "A Coru�a",
         "Europa",
         "Rusia",
         "121.0",
         "750,0",
         "6,2"
        ],
        [
         "45",
         "2023",
         "1",
         "A Coru�a",
         "Europa",
         "Suecia",
         "752.0",
         "7971,0",
         "10,6"
        ],
        [
         "46",
         "2023",
         "1",
         "A Coru�a",
         "Europa",
         "Suiza",
         "2749.0",
         "31614,0",
         "11,5"
        ],
        [
         "47",
         "2023",
         "1",
         "A Coru�a",
         "Europa",
         "Turqu�a",
         "130.0",
         "611,0",
         "4,7"
        ],
        [
         "48",
         "2023",
         "1",
         "A Coru�a",
         "�frica",
         "Argelia",
         "30.0",
         "447,0",
         "14,9"
        ],
        [
         "49",
         "2023",
         "1",
         "A Coru�a",
         "�frica",
         "Marruecos",
         "189.0",
         "1758,0",
         "9,3"
        ]
       ],
       "shape": {
        "columns": 8,
        "rows": 68088
       }
      },
      "text/html": [
       "<div>\n",
       "<style scoped>\n",
       "    .dataframe tbody tr th:only-of-type {\n",
       "        vertical-align: middle;\n",
       "    }\n",
       "\n",
       "    .dataframe tbody tr th {\n",
       "        vertical-align: top;\n",
       "    }\n",
       "\n",
       "    .dataframe thead th {\n",
       "        text-align: right;\n",
       "    }\n",
       "</style>\n",
       "<table border=\"1\" class=\"dataframe\">\n",
       "  <thead>\n",
       "    <tr style=\"text-align: right;\">\n",
       "      <th></th>\n",
       "      <th>AÑO</th>\n",
       "      <th>MES</th>\n",
       "      <th>PROVINCIA_DESTINO</th>\n",
       "      <th>CONTINENTE_ORIGEN</th>\n",
       "      <th>PAIS_ORIGEN</th>\n",
       "      <th>TURISTAS</th>\n",
       "      <th>PERNOCTACIONES</th>\n",
       "      <th>ESTANCIA_MEDIA</th>\n",
       "    </tr>\n",
       "  </thead>\n",
       "  <tbody>\n",
       "    <tr>\n",
       "      <th>0</th>\n",
       "      <td>2023</td>\n",
       "      <td>1</td>\n",
       "      <td>A Coru�a</td>\n",
       "      <td>Am�rica</td>\n",
       "      <td>Argentina</td>\n",
       "      <td>295.0</td>\n",
       "      <td>3098,0</td>\n",
       "      <td>10,5</td>\n",
       "    </tr>\n",
       "    <tr>\n",
       "      <th>1</th>\n",
       "      <td>2023</td>\n",
       "      <td>1</td>\n",
       "      <td>A Coru�a</td>\n",
       "      <td>Am�rica</td>\n",
       "      <td>Brasil</td>\n",
       "      <td>498.0</td>\n",
       "      <td>4084,0</td>\n",
       "      <td>8,2</td>\n",
       "    </tr>\n",
       "    <tr>\n",
       "      <th>2</th>\n",
       "      <td>2023</td>\n",
       "      <td>1</td>\n",
       "      <td>A Coru�a</td>\n",
       "      <td>Am�rica</td>\n",
       "      <td>Canad�</td>\n",
       "      <td>1385.0</td>\n",
       "      <td>15512,0</td>\n",
       "      <td>11,2</td>\n",
       "    </tr>\n",
       "    <tr>\n",
       "      <th>3</th>\n",
       "      <td>2023</td>\n",
       "      <td>1</td>\n",
       "      <td>A Coru�a</td>\n",
       "      <td>Am�rica</td>\n",
       "      <td>Chile</td>\n",
       "      <td>58.0</td>\n",
       "      <td>505,0</td>\n",
       "      <td>8,7</td>\n",
       "    </tr>\n",
       "    <tr>\n",
       "      <th>4</th>\n",
       "      <td>2023</td>\n",
       "      <td>1</td>\n",
       "      <td>A Coru�a</td>\n",
       "      <td>Am�rica</td>\n",
       "      <td>Colombia</td>\n",
       "      <td>370.0</td>\n",
       "      <td>4662,0</td>\n",
       "      <td>12,6</td>\n",
       "    </tr>\n",
       "    <tr>\n",
       "      <th>...</th>\n",
       "      <td>...</td>\n",
       "      <td>...</td>\n",
       "      <td>...</td>\n",
       "      <td>...</td>\n",
       "      <td>...</td>\n",
       "      <td>...</td>\n",
       "      <td>...</td>\n",
       "      <td>...</td>\n",
       "    </tr>\n",
       "    <tr>\n",
       "      <th>68083</th>\n",
       "      <td>2024</td>\n",
       "      <td>12</td>\n",
       "      <td>�vila</td>\n",
       "      <td>Europa</td>\n",
       "      <td>Reino Unido</td>\n",
       "      <td>192.0</td>\n",
       "      <td>1536,0</td>\n",
       "      <td>8,0</td>\n",
       "    </tr>\n",
       "    <tr>\n",
       "      <th>68084</th>\n",
       "      <td>2024</td>\n",
       "      <td>12</td>\n",
       "      <td>�vila</td>\n",
       "      <td>Europa</td>\n",
       "      <td>Ruman�a</td>\n",
       "      <td>135.0</td>\n",
       "      <td>2160,0</td>\n",
       "      <td>16,0</td>\n",
       "    </tr>\n",
       "    <tr>\n",
       "      <th>68085</th>\n",
       "      <td>2024</td>\n",
       "      <td>12</td>\n",
       "      <td>�vila</td>\n",
       "      <td>Europa</td>\n",
       "      <td>Suecia</td>\n",
       "      <td>296.0</td>\n",
       "      <td>5180,0</td>\n",
       "      <td>17,5</td>\n",
       "    </tr>\n",
       "    <tr>\n",
       "      <th>68086</th>\n",
       "      <td>2024</td>\n",
       "      <td>12</td>\n",
       "      <td>�vila</td>\n",
       "      <td>Europa</td>\n",
       "      <td>Suiza</td>\n",
       "      <td>98.0</td>\n",
       "      <td>490,0</td>\n",
       "      <td>5,0</td>\n",
       "    </tr>\n",
       "    <tr>\n",
       "      <th>68087</th>\n",
       "      <td>2024</td>\n",
       "      <td>12</td>\n",
       "      <td>�vila</td>\n",
       "      <td>�frica</td>\n",
       "      <td>Marruecos</td>\n",
       "      <td>145.0</td>\n",
       "      <td>1189,0</td>\n",
       "      <td>8,2</td>\n",
       "    </tr>\n",
       "  </tbody>\n",
       "</table>\n",
       "<p>68088 rows × 8 columns</p>\n",
       "</div>"
      ],
      "text/plain": [
       "        AÑO  MES PROVINCIA_DESTINO CONTINENTE_ORIGEN  PAIS_ORIGEN  TURISTAS  \\\n",
       "0      2023    1          A Coru�a           Am�rica    Argentina     295.0   \n",
       "1      2023    1          A Coru�a           Am�rica       Brasil     498.0   \n",
       "2      2023    1          A Coru�a           Am�rica       Canad�    1385.0   \n",
       "3      2023    1          A Coru�a           Am�rica        Chile      58.0   \n",
       "4      2023    1          A Coru�a           Am�rica     Colombia     370.0   \n",
       "...     ...  ...               ...               ...          ...       ...   \n",
       "68083  2024   12             �vila            Europa  Reino Unido     192.0   \n",
       "68084  2024   12             �vila            Europa      Ruman�a     135.0   \n",
       "68085  2024   12             �vila            Europa       Suecia     296.0   \n",
       "68086  2024   12             �vila            Europa        Suiza      98.0   \n",
       "68087  2024   12             �vila            �frica    Marruecos     145.0   \n",
       "\n",
       "      PERNOCTACIONES ESTANCIA_MEDIA  \n",
       "0             3098,0           10,5  \n",
       "1             4084,0            8,2  \n",
       "2            15512,0           11,2  \n",
       "3              505,0            8,7  \n",
       "4             4662,0           12,6  \n",
       "...              ...            ...  \n",
       "68083         1536,0            8,0  \n",
       "68084         2160,0           16,0  \n",
       "68085         5180,0           17,5  \n",
       "68086          490,0            5,0  \n",
       "68087         1189,0            8,2  \n",
       "\n",
       "[68088 rows x 8 columns]"
      ]
     },
     "execution_count": 2,
     "metadata": {},
     "output_type": "execute_result"
    }
   ],
   "source": [
    "path = \"C:\\\\Users\\\\Flore\\\\Desktop\\\\EDA_SURF ESKOLA\\\\turismo_receptor_provincia_pais_ARCHIVO_LIMPIO.csv\"\n",
    "turism = pd.read_csv(path, sep=\",\")\n",
    "turism"
   ]
  },
  {
   "cell_type": "code",
   "execution_count": null,
   "metadata": {},
   "outputs": [
    {
     "data": {
      "application/vnd.microsoft.datawrangler.viewer.v0+json": {
       "columns": [
        {
         "name": "index",
         "rawType": "int64",
         "type": "integer"
        },
        {
         "name": "PROVINCIA_DESTINO",
         "rawType": "object",
         "type": "string"
        },
        {
         "name": "PAIS_ORIGEN",
         "rawType": "object",
         "type": "string"
        },
        {
         "name": "TURISTAS",
         "rawType": "float64",
         "type": "float"
        }
       ],
       "conversionMethod": "pd.DataFrame",
       "ref": "845f1c86-37b0-4c95-89d4-f562d887047e",
       "rows": [
        [
         "663",
         "Bizkaia",
         "Francia",
         "166076.0"
        ],
        [
         "634",
         "Bizkaia",
         "Alemania",
         "115761.0"
        ],
        [
         "697",
         "Bizkaia",
         "Pa�ses Bajos",
         "72628.0"
        ],
        [
         "701",
         "Bizkaia",
         "Reino Unido",
         "59691.0"
        ],
        [
         "675",
         "Bizkaia",
         "Italia",
         "38702.0"
        ],
        [
         "659",
         "Bizkaia",
         "Estados Unidos de Am�rica",
         "37910.0"
        ],
        [
         "711",
         "Bizkaia",
         "Suecia",
         "29788.0"
        ],
        [
         "645",
         "Bizkaia",
         "B�lgica",
         "27513.0"
        ],
        [
         "700",
         "Bizkaia",
         "Portugal",
         "27094.0"
        ],
        [
         "640",
         "Bizkaia",
         "Austria",
         "24972.0"
        ],
        [
         "712",
         "Bizkaia",
         "Suiza",
         "20926.0"
        ],
        [
         "699",
         "Bizkaia",
         "Polonia",
         "20807.0"
        ],
        [
         "672",
         "Bizkaia",
         "Irlanda",
         "19989.0"
        ],
        [
         "653",
         "Bizkaia",
         "Dinamarca",
         "12936.0"
        ],
        [
         "681",
         "Bizkaia",
         "Luxemburgo",
         "12048.0"
        ],
        [
         "650",
         "Bizkaia",
         "Colombia",
         "11514.0"
        ],
        [
         "685",
         "Bizkaia",
         "Marruecos",
         "9146.0"
        ],
        [
         "648",
         "Bizkaia",
         "China",
         "7108.0"
        ],
        [
         "705",
         "Bizkaia",
         "Ruman�a",
         "5891.0"
        ],
        [
         "688",
         "Bizkaia",
         "M�xico",
         "5582.0"
        ],
        [
         "680",
         "Bizkaia",
         "Lituania",
         "5255.0"
        ],
        [
         "702",
         "Bizkaia",
         "Rep�blica Checa",
         "4867.0"
        ],
        [
         "646",
         "Bizkaia",
         "Canad�",
         "4549.0"
        ],
        [
         "676",
         "Bizkaia",
         "Jap�n",
         "4416.0"
        ],
        [
         "691",
         "Bizkaia",
         "Noruega",
         "4180.0"
        ],
        [
         "666",
         "Bizkaia",
         "Grecia",
         "4123.0"
        ],
        [
         "662",
         "Bizkaia",
         "Finlandia",
         "4058.0"
        ],
        [
         "643",
         "Bizkaia",
         "Brasil",
         "3811.0"
        ],
        [
         "661",
         "Bizkaia",
         "Filipinas",
         "3702.0"
        ],
        [
         "707",
         "Bizkaia",
         "Senegal",
         "3637.0"
        ],
        [
         "638",
         "Bizkaia",
         "Argentina",
         "3500.0"
        ],
        [
         "670",
         "Bizkaia",
         "India",
         "2770.0"
        ],
        [
         "679",
         "Bizkaia",
         "Liechtenstein",
         "2543.0"
        ],
        [
         "696",
         "Bizkaia",
         "Paraguay",
         "2414.0"
        ],
        [
         "706",
         "Bizkaia",
         "Rusia",
         "2305.0"
        ],
        [
         "639",
         "Bizkaia",
         "Australia",
         "2278.0"
        ],
        [
         "678",
         "Bizkaia",
         "Letonia",
         "2182.0"
        ],
        [
         "717",
         "Bizkaia",
         "Venezuela",
         "2152.0"
        ],
        [
         "714",
         "Bizkaia",
         "Turqu�a",
         "2048.0"
        ],
        [
         "637",
         "Bizkaia",
         "Argelia",
         "2031.0"
        ],
        [
         "669",
         "Bizkaia",
         "Hungr�a",
         "2020.0"
        ],
        [
         "704",
         "Bizkaia",
         "Rep�blica Eslovaca",
         "1962.0"
        ],
        [
         "644",
         "Bizkaia",
         "Bulgaria",
         "1960.0"
        ],
        [
         "658",
         "Bizkaia",
         "Eslovenia",
         "1787.0"
        ],
        [
         "647",
         "Bizkaia",
         "Chile",
         "1480.0"
        ],
        [
         "652",
         "Bizkaia",
         "Croacia",
         "1413.0"
        ],
        [
         "689",
         "Bizkaia",
         "Nicaragua",
         "1152.0"
        ],
        [
         "651",
         "Bizkaia",
         "Corea",
         "1149.0"
        ],
        [
         "660",
         "Bizkaia",
         "Estonia",
         "1098.0"
        ],
        [
         "698",
         "Bizkaia",
         "Per�",
         "1063.0"
        ]
       ],
       "shape": {
        "columns": 3,
        "rows": 85
       }
      },
      "text/html": [
       "<div>\n",
       "<style scoped>\n",
       "    .dataframe tbody tr th:only-of-type {\n",
       "        vertical-align: middle;\n",
       "    }\n",
       "\n",
       "    .dataframe tbody tr th {\n",
       "        vertical-align: top;\n",
       "    }\n",
       "\n",
       "    .dataframe thead th {\n",
       "        text-align: right;\n",
       "    }\n",
       "</style>\n",
       "<table border=\"1\" class=\"dataframe\">\n",
       "  <thead>\n",
       "    <tr style=\"text-align: right;\">\n",
       "      <th></th>\n",
       "      <th>PROVINCIA_DESTINO</th>\n",
       "      <th>PAIS_ORIGEN</th>\n",
       "      <th>TURISTAS</th>\n",
       "    </tr>\n",
       "  </thead>\n",
       "  <tbody>\n",
       "    <tr>\n",
       "      <th>663</th>\n",
       "      <td>Bizkaia</td>\n",
       "      <td>Francia</td>\n",
       "      <td>166076.0</td>\n",
       "    </tr>\n",
       "    <tr>\n",
       "      <th>634</th>\n",
       "      <td>Bizkaia</td>\n",
       "      <td>Alemania</td>\n",
       "      <td>115761.0</td>\n",
       "    </tr>\n",
       "    <tr>\n",
       "      <th>697</th>\n",
       "      <td>Bizkaia</td>\n",
       "      <td>Pa�ses Bajos</td>\n",
       "      <td>72628.0</td>\n",
       "    </tr>\n",
       "    <tr>\n",
       "      <th>701</th>\n",
       "      <td>Bizkaia</td>\n",
       "      <td>Reino Unido</td>\n",
       "      <td>59691.0</td>\n",
       "    </tr>\n",
       "    <tr>\n",
       "      <th>675</th>\n",
       "      <td>Bizkaia</td>\n",
       "      <td>Italia</td>\n",
       "      <td>38702.0</td>\n",
       "    </tr>\n",
       "    <tr>\n",
       "      <th>...</th>\n",
       "      <td>...</td>\n",
       "      <td>...</td>\n",
       "      <td>...</td>\n",
       "    </tr>\n",
       "    <tr>\n",
       "      <th>710</th>\n",
       "      <td>Bizkaia</td>\n",
       "      <td>Sud�frica</td>\n",
       "      <td>62.0</td>\n",
       "    </tr>\n",
       "    <tr>\n",
       "      <th>703</th>\n",
       "      <td>Bizkaia</td>\n",
       "      <td>Rep�blica Dominicana</td>\n",
       "      <td>44.0</td>\n",
       "    </tr>\n",
       "    <tr>\n",
       "      <th>715</th>\n",
       "      <td>Bizkaia</td>\n",
       "      <td>T�nez</td>\n",
       "      <td>41.0</td>\n",
       "    </tr>\n",
       "    <tr>\n",
       "      <th>656</th>\n",
       "      <td>Bizkaia</td>\n",
       "      <td>El Salvador</td>\n",
       "      <td>30.0</td>\n",
       "    </tr>\n",
       "    <tr>\n",
       "      <th>695</th>\n",
       "      <td>Bizkaia</td>\n",
       "      <td>Panam�</td>\n",
       "      <td>30.0</td>\n",
       "    </tr>\n",
       "  </tbody>\n",
       "</table>\n",
       "<p>85 rows × 3 columns</p>\n",
       "</div>"
      ],
      "text/plain": [
       "    PROVINCIA_DESTINO           PAIS_ORIGEN  TURISTAS\n",
       "663           Bizkaia               Francia  166076.0\n",
       "634           Bizkaia              Alemania  115761.0\n",
       "697           Bizkaia          Pa�ses Bajos   72628.0\n",
       "701           Bizkaia           Reino Unido   59691.0\n",
       "675           Bizkaia                Italia   38702.0\n",
       "..                ...                   ...       ...\n",
       "710           Bizkaia             Sud�frica      62.0\n",
       "703           Bizkaia  Rep�blica Dominicana      44.0\n",
       "715           Bizkaia                 T�nez      41.0\n",
       "656           Bizkaia           El Salvador      30.0\n",
       "695           Bizkaia                Panam�      30.0\n",
       "\n",
       "[85 rows x 3 columns]"
      ]
     },
     "execution_count": 5,
     "metadata": {},
     "output_type": "execute_result"
    }
   ],
   "source": [
    "df= pd.DataFrame(turism)\n",
    "\n",
    "filtro = df[df[\"AÑO\"]>=2024]\n",
    "turistas= pd.DataFrame(filtro)\n",
    "\n",
    "#Agrupo los turistas por provincias\n",
    "agrupado= turistas.groupby([\"PROVINCIA_DESTINO\", \"PAIS_ORIGEN\"])[\"TURISTAS\"].sum().reset_index()\n",
    "\n",
    "#Codigo para ir sacando las graficas por las provincias que me interesan para el estudio\n",
    "provincia_Bizkaia= agrupado[agrupado[\"PROVINCIA_DESTINO\"]== \"Bizkaia\"]\n",
    "provincia_Bizkaia.sort_values([\"TURISTAS\"], ascending=False)\n",
    "\n"
   ]
  },
  {
   "cell_type": "code",
   "execution_count": null,
   "metadata": {},
   "outputs": [
    {
     "data": {
      "image/png": "[encoded data removed]",
      "text/plain": [
       "<Figure size 1000x600 with 1 Axes>"
      ]
     },
     "metadata": {},
     "output_type": "display_data"
    }
   ],
   "source": [
    "top_20bizkaia = provincia_Bizkaia.sort_values(\"TURISTAS\", ascending=False).head(20)\n",
    "\n",
    "#Gráfica horizontal\n",
    "plt.figure(figsize=(10, 6))\n",
    "plt.barh(top_20bizkaia[\"PAIS_ORIGEN\"], top_20bizkaia[\"TURISTAS\"], color='skyblue')\n",
    "plt.xlabel(\"TURISTAS\")\n",
    "plt.ylabel(\"PAIS_ORIGEN\")\n",
    "plt.title(\"Top 20 de los países que más visitan Bizkaia\")\n",
    "plt.gca().invert_yaxis()  #Invertir el eje Y para que el país con más turistas esté arriba\n",
    "plt.tight_layout()\n",
    "#plt.yticks([\"Francia\", \"Alemania\", \"Países Bajos\", \"Reino Unido\", \"Italia\", \"Estados Unidos de América\", \"Suecia\", \"Bélgica\", \"Portugal\", \"Austria\", \"Suiza\", \"Polonia\", \"Irlanda\", \"Dinamarca\", \"Luxemburgo\", \"Colombia\", \"Marruecos\", \"China\", \"Rumanía\", \"México\"])\n",
    "\n",
    "plt.show()"
   ]
  },
  {
   "cell_type": "code",
   "execution_count": null,
   "metadata": {},
   "outputs": [
    {
     "data": {
      "application/vnd.microsoft.datawrangler.viewer.v0+json": {
       "columns": [
        {
         "name": "index",
         "rawType": "int64",
         "type": "integer"
        },
        {
         "name": "PROVINCIA_DESTINO",
         "rawType": "object",
         "type": "string"
        },
        {
         "name": "PAIS_ORIGEN",
         "rawType": "object",
         "type": "string"
        },
        {
         "name": "TURISTAS",
         "rawType": "float64",
         "type": "float"
        }
       ],
       "conversionMethod": "pd.DataFrame",
       "ref": "9f15015b-21a4-4f6b-b47d-7b1bee7b78e7",
       "rows": [
        [
         "663",
         "Bizkaia",
         "Francia",
         "166076.0"
        ],
        [
         "634",
         "Bizkaia",
         "Alemania",
         "115761.0"
        ],
        [
         "697",
         "Bizkaia",
         "Pa�ses Bajos",
         "72628.0"
        ],
        [
         "701",
         "Bizkaia",
         "Reino Unido",
         "59691.0"
        ],
        [
         "675",
         "Bizkaia",
         "Italia",
         "38702.0"
        ],
        [
         "659",
         "Bizkaia",
         "Estados Unidos de Am�rica",
         "37910.0"
        ],
        [
         "711",
         "Bizkaia",
         "Suecia",
         "29788.0"
        ],
        [
         "645",
         "Bizkaia",
         "B�lgica",
         "27513.0"
        ],
        [
         "700",
         "Bizkaia",
         "Portugal",
         "27094.0"
        ],
        [
         "640",
         "Bizkaia",
         "Austria",
         "24972.0"
        ],
        [
         "712",
         "Bizkaia",
         "Suiza",
         "20926.0"
        ],
        [
         "699",
         "Bizkaia",
         "Polonia",
         "20807.0"
        ],
        [
         "672",
         "Bizkaia",
         "Irlanda",
         "19989.0"
        ],
        [
         "653",
         "Bizkaia",
         "Dinamarca",
         "12936.0"
        ],
        [
         "681",
         "Bizkaia",
         "Luxemburgo",
         "12048.0"
        ],
        [
         "650",
         "Bizkaia",
         "Colombia",
         "11514.0"
        ],
        [
         "685",
         "Bizkaia",
         "Marruecos",
         "9146.0"
        ],
        [
         "648",
         "Bizkaia",
         "China",
         "7108.0"
        ],
        [
         "705",
         "Bizkaia",
         "Ruman�a",
         "5891.0"
        ],
        [
         "688",
         "Bizkaia",
         "M�xico",
         "5582.0"
        ],
        [
         "680",
         "Bizkaia",
         "Lituania",
         "5255.0"
        ],
        [
         "702",
         "Bizkaia",
         "Rep�blica Checa",
         "4867.0"
        ],
        [
         "646",
         "Bizkaia",
         "Canad�",
         "4549.0"
        ],
        [
         "676",
         "Bizkaia",
         "Jap�n",
         "4416.0"
        ],
        [
         "691",
         "Bizkaia",
         "Noruega",
         "4180.0"
        ],
        [
         "666",
         "Bizkaia",
         "Grecia",
         "4123.0"
        ],
        [
         "662",
         "Bizkaia",
         "Finlandia",
         "4058.0"
        ],
        [
         "643",
         "Bizkaia",
         "Brasil",
         "3811.0"
        ],
        [
         "661",
         "Bizkaia",
         "Filipinas",
         "3702.0"
        ],
        [
         "707",
         "Bizkaia",
         "Senegal",
         "3637.0"
        ],
        [
         "638",
         "Bizkaia",
         "Argentina",
         "3500.0"
        ],
        [
         "670",
         "Bizkaia",
         "India",
         "2770.0"
        ],
        [
         "679",
         "Bizkaia",
         "Liechtenstein",
         "2543.0"
        ],
        [
         "696",
         "Bizkaia",
         "Paraguay",
         "2414.0"
        ],
        [
         "706",
         "Bizkaia",
         "Rusia",
         "2305.0"
        ],
        [
         "639",
         "Bizkaia",
         "Australia",
         "2278.0"
        ],
        [
         "678",
         "Bizkaia",
         "Letonia",
         "2182.0"
        ],
        [
         "717",
         "Bizkaia",
         "Venezuela",
         "2152.0"
        ],
        [
         "714",
         "Bizkaia",
         "Turqu�a",
         "2048.0"
        ],
        [
         "637",
         "Bizkaia",
         "Argelia",
         "2031.0"
        ],
        [
         "669",
         "Bizkaia",
         "Hungr�a",
         "2020.0"
        ],
        [
         "704",
         "Bizkaia",
         "Rep�blica Eslovaca",
         "1962.0"
        ],
        [
         "644",
         "Bizkaia",
         "Bulgaria",
         "1960.0"
        ],
        [
         "658",
         "Bizkaia",
         "Eslovenia",
         "1787.0"
        ],
        [
         "647",
         "Bizkaia",
         "Chile",
         "1480.0"
        ],
        [
         "652",
         "Bizkaia",
         "Croacia",
         "1413.0"
        ],
        [
         "689",
         "Bizkaia",
         "Nicaragua",
         "1152.0"
        ],
        [
         "651",
         "Bizkaia",
         "Corea",
         "1149.0"
        ],
        [
         "660",
         "Bizkaia",
         "Estonia",
         "1098.0"
        ],
        [
         "698",
         "Bizkaia",
         "Per�",
         "1063.0"
        ]
       ],
       "shape": {
        "columns": 3,
        "rows": 85
       }
      },
      "text/html": [
       "<div>\n",
       "<style scoped>\n",
       "    .dataframe tbody tr th:only-of-type {\n",
       "        vertical-align: middle;\n",
       "    }\n",
       "\n",
       "    .dataframe tbody tr th {\n",
       "        vertical-align: top;\n",
       "    }\n",
       "\n",
       "    .dataframe thead th {\n",
       "        text-align: right;\n",
       "    }\n",
       "</style>\n",
       "<table border=\"1\" class=\"dataframe\">\n",
       "  <thead>\n",
       "    <tr style=\"text-align: right;\">\n",
       "      <th></th>\n",
       "      <th>PROVINCIA_DESTINO</th>\n",
       "      <th>PAIS_ORIGEN</th>\n",
       "      <th>TURISTAS</th>\n",
       "    </tr>\n",
       "  </thead>\n",
       "  <tbody>\n",
       "    <tr>\n",
       "      <th>663</th>\n",
       "      <td>Bizkaia</td>\n",
       "      <td>Francia</td>\n",
       "      <td>166076.0</td>\n",
       "    </tr>\n",
       "    <tr>\n",
       "      <th>634</th>\n",
       "      <td>Bizkaia</td>\n",
       "      <td>Alemania</td>\n",
       "      <td>115761.0</td>\n",
       "    </tr>\n",
       "    <tr>\n",
       "      <th>697</th>\n",
       "      <td>Bizkaia</td>\n",
       "      <td>Pa�ses Bajos</td>\n",
       "      <td>72628.0</td>\n",
       "    </tr>\n",
       "    <tr>\n",
       "      <th>701</th>\n",
       "      <td>Bizkaia</td>\n",
       "      <td>Reino Unido</td>\n",
       "      <td>59691.0</td>\n",
       "    </tr>\n",
       "    <tr>\n",
       "      <th>675</th>\n",
       "      <td>Bizkaia</td>\n",
       "      <td>Italia</td>\n",
       "      <td>38702.0</td>\n",
       "    </tr>\n",
       "    <tr>\n",
       "      <th>...</th>\n",
       "      <td>...</td>\n",
       "      <td>...</td>\n",
       "      <td>...</td>\n",
       "    </tr>\n",
       "    <tr>\n",
       "      <th>710</th>\n",
       "      <td>Bizkaia</td>\n",
       "      <td>Sud�frica</td>\n",
       "      <td>62.0</td>\n",
       "    </tr>\n",
       "    <tr>\n",
       "      <th>703</th>\n",
       "      <td>Bizkaia</td>\n",
       "      <td>Rep�blica Dominicana</td>\n",
       "      <td>44.0</td>\n",
       "    </tr>\n",
       "    <tr>\n",
       "      <th>715</th>\n",
       "      <td>Bizkaia</td>\n",
       "      <td>T�nez</td>\n",
       "      <td>41.0</td>\n",
       "    </tr>\n",
       "    <tr>\n",
       "      <th>656</th>\n",
       "      <td>Bizkaia</td>\n",
       "      <td>El Salvador</td>\n",
       "      <td>30.0</td>\n",
       "    </tr>\n",
       "    <tr>\n",
       "      <th>695</th>\n",
       "      <td>Bizkaia</td>\n",
       "      <td>Panam�</td>\n",
       "      <td>30.0</td>\n",
       "    </tr>\n",
       "  </tbody>\n",
       "</table>\n",
       "<p>85 rows × 3 columns</p>\n",
       "</div>"
      ],
      "text/plain": [
       "    PROVINCIA_DESTINO           PAIS_ORIGEN  TURISTAS\n",
       "663           Bizkaia               Francia  166076.0\n",
       "634           Bizkaia              Alemania  115761.0\n",
       "697           Bizkaia          Pa�ses Bajos   72628.0\n",
       "701           Bizkaia           Reino Unido   59691.0\n",
       "675           Bizkaia                Italia   38702.0\n",
       "..                ...                   ...       ...\n",
       "710           Bizkaia             Sud�frica      62.0\n",
       "703           Bizkaia  Rep�blica Dominicana      44.0\n",
       "715           Bizkaia                 T�nez      41.0\n",
       "656           Bizkaia           El Salvador      30.0\n",
       "695           Bizkaia                Panam�      30.0\n",
       "\n",
       "[85 rows x 3 columns]"
      ]
     },
     "execution_count": 8,
     "metadata": {},
     "output_type": "execute_result"
    }
   ],
   "source": [
    "df= pd.DataFrame(turism)\n",
    "\n",
    "filtro = df[df[\"AÑO\"]>=2024]\n",
    "turistas= pd.DataFrame(filtro)\n",
    "\n",
    "#Agrupo los turistas por provincias\n",
    "agrupado= turistas.groupby([\"PROVINCIA_DESTINO\", \"PAIS_ORIGEN\"])[\"TURISTAS\"].sum().reset_index()\n",
    "\n",
    "#Codigo para ir sacando las graficas por las provincias que me interesan para el estudio\n",
    "provincia_Bizkaia= agrupado[agrupado[\"PROVINCIA_DESTINO\"]== \"Bizkaia\"]\n",
    "#provincia_Bizkaia= agrupado[agrupado[\"MES\"]== \"1\"]\n",
    "provincia_Bizkaia.sort_values([\"TURISTAS\"], ascending=False)"
   ]
  }
 ],
 "metadata": {
  "kernelspec": {
   "display_name": "Python 3",
   "language": "python",
   "name": "python3"
  },
  "language_info": {
   "codemirror_mode": {
    "name": "ipython",
    "version": 3
   },
   "file_extension": ".py",
   "mimetype": "text/x-python",
   "name": "python",
   "nbconvert_exporter": "python",
   "pygments_lexer": "ipython3",
   "version": "3.11.9"
  }
 },
 "nbformat": 4,
 "nbformat_minor": 2
}
