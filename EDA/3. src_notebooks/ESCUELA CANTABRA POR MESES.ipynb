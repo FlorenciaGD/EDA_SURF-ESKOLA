{
 "cells": [
  {
   "cell_type": "code",
   "execution_count": 1,
   "id": "7f8a01fb",
   "metadata": {},
   "outputs": [],
   "source": [
    "import requests\n",
    "import zipfile\n",
    "import pandas as pd\n",
    "import numpy as np\n",
    "import matplotlib.pyplot as plt\n",
    "import seaborn as sns"
   ]
  },
  {
   "cell_type": "code",
   "execution_count": 20,
   "id": "ad7c3176",
   "metadata": {},
   "outputs": [
    {
     "data": {
      "application/vnd.microsoft.datawrangler.viewer.v0+json": {
       "columns": [
        {
         "name": "index",
         "rawType": "int64",
         "type": "integer"
        },
        {
         "name": "País",
         "rawType": "object",
         "type": "string"
        },
        {
         "name": "Cuota de tráfico",
         "rawType": "object",
         "type": "string"
        },
        {
         "name": "Visitas",
         "rawType": "int64",
         "type": "integer"
        },
        {
         "name": "Participación en escritorio",
         "rawType": "object",
         "type": "string"
        },
        {
         "name": "Participación en móviles",
         "rawType": "object",
         "type": "string"
        }
       ],
       "conversionMethod": "pd.DataFrame",
       "ref": "1777be33-ee1c-42bf-9a93-5ff1e8cd243e",
       "rows": [
        [
         "0",
         "España",
         "87,33 %",
         "207910",
         "93,75 %",
         "6,25 %"
        ],
        [
         "1",
         "Italia",
         "10,94 %",
         "26057",
         "0,08 %",
         "99,92 %"
        ],
        [
         "2",
         "Suiza",
         "0,44 %",
         "1049",
         "100 %",
         "0 %"
        ],
        [
         "3",
         "Alemania",
         "0,4 %",
         "941",
         "100 %",
         "0 %"
        ],
        [
         "4",
         "Bélgica",
         "0 %",
         "0",
         "0 %",
         "0 %"
        ]
       ],
       "shape": {
        "columns": 5,
        "rows": 5
       }
      },
      "text/html": [
       "<div>\n",
       "<style scoped>\n",
       "    .dataframe tbody tr th:only-of-type {\n",
       "        vertical-align: middle;\n",
       "    }\n",
       "\n",
       "    .dataframe tbody tr th {\n",
       "        vertical-align: top;\n",
       "    }\n",
       "\n",
       "    .dataframe thead th {\n",
       "        text-align: right;\n",
       "    }\n",
       "</style>\n",
       "<table border=\"1\" class=\"dataframe\">\n",
       "  <thead>\n",
       "    <tr style=\"text-align: right;\">\n",
       "      <th></th>\n",
       "      <th>País</th>\n",
       "      <th>Cuota de tráfico</th>\n",
       "      <th>Visitas</th>\n",
       "      <th>Participación en escritorio</th>\n",
       "      <th>Participación en móviles</th>\n",
       "    </tr>\n",
       "  </thead>\n",
       "  <tbody>\n",
       "    <tr>\n",
       "      <th>0</th>\n",
       "      <td>España</td>\n",
       "      <td>87,33 %</td>\n",
       "      <td>207910</td>\n",
       "      <td>93,75 %</td>\n",
       "      <td>6,25 %</td>\n",
       "    </tr>\n",
       "    <tr>\n",
       "      <th>1</th>\n",
       "      <td>Italia</td>\n",
       "      <td>10,94 %</td>\n",
       "      <td>26057</td>\n",
       "      <td>0,08 %</td>\n",
       "      <td>99,92 %</td>\n",
       "    </tr>\n",
       "    <tr>\n",
       "      <th>2</th>\n",
       "      <td>Suiza</td>\n",
       "      <td>0,44 %</td>\n",
       "      <td>1049</td>\n",
       "      <td>100 %</td>\n",
       "      <td>0 %</td>\n",
       "    </tr>\n",
       "    <tr>\n",
       "      <th>3</th>\n",
       "      <td>Alemania</td>\n",
       "      <td>0,4 %</td>\n",
       "      <td>941</td>\n",
       "      <td>100 %</td>\n",
       "      <td>0 %</td>\n",
       "    </tr>\n",
       "    <tr>\n",
       "      <th>4</th>\n",
       "      <td>Bélgica</td>\n",
       "      <td>0 %</td>\n",
       "      <td>0</td>\n",
       "      <td>0 %</td>\n",
       "      <td>0 %</td>\n",
       "    </tr>\n",
       "  </tbody>\n",
       "</table>\n",
       "</div>"
      ],
      "text/plain": [
       "       País Cuota de tráfico  Visitas Participación en escritorio  \\\n",
       "0    España          87,33 %   207910                     93,75 %   \n",
       "1    Italia          10,94 %    26057                      0,08 %   \n",
       "2     Suiza           0,44 %     1049                       100 %   \n",
       "3  Alemania            0,4 %      941                       100 %   \n",
       "4   Bélgica              0 %        0                         0 %   \n",
       "\n",
       "  Participación en móviles  \n",
       "0                   6,25 %  \n",
       "1                  99,92 %  \n",
       "2                      0 %  \n",
       "3                      0 %  \n",
       "4                      0 %  "
      ]
     },
     "execution_count": 20,
     "metadata": {},
     "output_type": "execute_result"
    }
   ],
   "source": [
    "path = \"C:\\\\Users\\\\Flore\\\\Desktop\\\\EDA_SURF ESKOLA\\\\EDA\\\\_ESCUELA_CANTABRA\\\\2024_DATOS_ESCUELA_CANTABRA\\\\Distribución por País_escuelacantabradesurf.com_es__ene – dic 2024_Todos los dispositivos.csv\"\n",
    "anual = pd.read_csv(path, sep=\",\")\n",
    "anual"
   ]
  },
  {
   "cell_type": "code",
   "execution_count": 21,
   "id": "463c8970",
   "metadata": {},
   "outputs": [
    {
     "name": "stdout",
     "output_type": "stream",
     "text": [
      "<class 'pandas.core.frame.DataFrame'>\n",
      "RangeIndex: 5 entries, 0 to 4\n",
      "Data columns (total 5 columns):\n",
      " #   Column                       Non-Null Count  Dtype \n",
      "---  ------                       --------------  ----- \n",
      " 0   País                         5 non-null      object\n",
      " 1   Cuota de tráfico             5 non-null      object\n",
      " 2   Visitas                      5 non-null      int64 \n",
      " 3   Participación en escritorio  5 non-null      object\n",
      " 4   Participación en móviles     5 non-null      object\n",
      "dtypes: int64(1), object(4)\n",
      "memory usage: 332.0+ bytes\n"
     ]
    }
   ],
   "source": [
    "anual.info()"
   ]
  },
  {
   "cell_type": "code",
   "execution_count": 6,
   "id": "1ebce621",
   "metadata": {},
   "outputs": [
    {
     "data": {
      "application/vnd.microsoft.datawrangler.viewer.v0+json": {
       "columns": [
        {
         "name": "index",
         "rawType": "int64",
         "type": "integer"
        },
        {
         "name": "País",
         "rawType": "object",
         "type": "string"
        },
        {
         "name": "Cuota de tráfico",
         "rawType": "object",
         "type": "string"
        },
        {
         "name": "Visitas",
         "rawType": "int64",
         "type": "integer"
        },
        {
         "name": "Participación en escritorio",
         "rawType": "object",
         "type": "string"
        },
        {
         "name": "Participación en móviles",
         "rawType": "object",
         "type": "string"
        }
       ],
       "conversionMethod": "pd.DataFrame",
       "ref": "49031661-1d52-434b-815f-55527105bdc5",
       "rows": [
        [
         "0",
         "España",
         "100 %",
         "155",
         "100 %",
         "0 %"
        ]
       ],
       "shape": {
        "columns": 5,
        "rows": 1
       }
      },
      "text/html": [
       "<div>\n",
       "<style scoped>\n",
       "    .dataframe tbody tr th:only-of-type {\n",
       "        vertical-align: middle;\n",
       "    }\n",
       "\n",
       "    .dataframe tbody tr th {\n",
       "        vertical-align: top;\n",
       "    }\n",
       "\n",
       "    .dataframe thead th {\n",
       "        text-align: right;\n",
       "    }\n",
       "</style>\n",
       "<table border=\"1\" class=\"dataframe\">\n",
       "  <thead>\n",
       "    <tr style=\"text-align: right;\">\n",
       "      <th></th>\n",
       "      <th>País</th>\n",
       "      <th>Cuota de tráfico</th>\n",
       "      <th>Visitas</th>\n",
       "      <th>Participación en escritorio</th>\n",
       "      <th>Participación en móviles</th>\n",
       "    </tr>\n",
       "  </thead>\n",
       "  <tbody>\n",
       "    <tr>\n",
       "      <th>0</th>\n",
       "      <td>España</td>\n",
       "      <td>100 %</td>\n",
       "      <td>155</td>\n",
       "      <td>100 %</td>\n",
       "      <td>0 %</td>\n",
       "    </tr>\n",
       "  </tbody>\n",
       "</table>\n",
       "</div>"
      ],
      "text/plain": [
       "     País Cuota de tráfico  Visitas Participación en escritorio  \\\n",
       "0  España            100 %      155                       100 %   \n",
       "\n",
       "  Participación en móviles  \n",
       "0                      0 %  "
      ]
     },
     "execution_count": 6,
     "metadata": {},
     "output_type": "execute_result"
    }
   ],
   "source": [
    "path = \"C:\\\\Users\\\\Flore\\\\Desktop\\\\EDA_SURF ESKOLA\\EDA\\\\_ESCUELA_CANTABRA\\\\OTROS\\\\Distribución por País_escuelacantabradesurf.com_es__ene 2024_Todos los dispositivos.csv\"\n",
    "enero = pd.read_csv(path, sep=\",\")\n",
    "enero"
   ]
  },
  {
   "cell_type": "code",
   "execution_count": 7,
   "id": "a9b9f850",
   "metadata": {},
   "outputs": [
    {
     "data": {
      "application/vnd.microsoft.datawrangler.viewer.v0+json": {
       "columns": [
        {
         "name": "index",
         "rawType": "int64",
         "type": "integer"
        },
        {
         "name": "País",
         "rawType": "object",
         "type": "string"
        },
        {
         "name": "Cuota de tráfico",
         "rawType": "object",
         "type": "string"
        },
        {
         "name": "Visitas",
         "rawType": "int64",
         "type": "integer"
        },
        {
         "name": "Participación en escritorio",
         "rawType": "object",
         "type": "string"
        },
        {
         "name": "Participación en móviles",
         "rawType": "object",
         "type": "string"
        }
       ],
       "conversionMethod": "pd.DataFrame",
       "ref": "4dd4e972-6616-465b-8507-ccfce0a79b85",
       "rows": [
        [
         "0",
         "España",
         "97,51 %",
         "7866",
         "13,35 %",
         "86,65 %"
        ],
        [
         "1",
         "Estados Unidos",
         "2,48 %",
         "200",
         "100 %",
         "0 %"
        ],
        [
         "2",
         "Irlanda",
         "0,01 %",
         "1",
         "100 %",
         "0 %"
        ],
        [
         "3",
         "Francia",
         "0 %",
         "0",
         "0 %",
         "0 %"
        ]
       ],
       "shape": {
        "columns": 5,
        "rows": 4
       }
      },
      "text/html": [
       "<div>\n",
       "<style scoped>\n",
       "    .dataframe tbody tr th:only-of-type {\n",
       "        vertical-align: middle;\n",
       "    }\n",
       "\n",
       "    .dataframe tbody tr th {\n",
       "        vertical-align: top;\n",
       "    }\n",
       "\n",
       "    .dataframe thead th {\n",
       "        text-align: right;\n",
       "    }\n",
       "</style>\n",
       "<table border=\"1\" class=\"dataframe\">\n",
       "  <thead>\n",
       "    <tr style=\"text-align: right;\">\n",
       "      <th></th>\n",
       "      <th>País</th>\n",
       "      <th>Cuota de tráfico</th>\n",
       "      <th>Visitas</th>\n",
       "      <th>Participación en escritorio</th>\n",
       "      <th>Participación en móviles</th>\n",
       "    </tr>\n",
       "  </thead>\n",
       "  <tbody>\n",
       "    <tr>\n",
       "      <th>0</th>\n",
       "      <td>España</td>\n",
       "      <td>97,51 %</td>\n",
       "      <td>7866</td>\n",
       "      <td>13,35 %</td>\n",
       "      <td>86,65 %</td>\n",
       "    </tr>\n",
       "    <tr>\n",
       "      <th>1</th>\n",
       "      <td>Estados Unidos</td>\n",
       "      <td>2,48 %</td>\n",
       "      <td>200</td>\n",
       "      <td>100 %</td>\n",
       "      <td>0 %</td>\n",
       "    </tr>\n",
       "    <tr>\n",
       "      <th>2</th>\n",
       "      <td>Irlanda</td>\n",
       "      <td>0,01 %</td>\n",
       "      <td>1</td>\n",
       "      <td>100 %</td>\n",
       "      <td>0 %</td>\n",
       "    </tr>\n",
       "    <tr>\n",
       "      <th>3</th>\n",
       "      <td>Francia</td>\n",
       "      <td>0 %</td>\n",
       "      <td>0</td>\n",
       "      <td>0 %</td>\n",
       "      <td>0 %</td>\n",
       "    </tr>\n",
       "  </tbody>\n",
       "</table>\n",
       "</div>"
      ],
      "text/plain": [
       "             País Cuota de tráfico  Visitas Participación en escritorio  \\\n",
       "0          España          97,51 %     7866                     13,35 %   \n",
       "1  Estados Unidos           2,48 %      200                       100 %   \n",
       "2         Irlanda           0,01 %        1                       100 %   \n",
       "3         Francia              0 %        0                         0 %   \n",
       "\n",
       "  Participación en móviles  \n",
       "0                  86,65 %  \n",
       "1                      0 %  \n",
       "2                      0 %  \n",
       "3                      0 %  "
      ]
     },
     "execution_count": 7,
     "metadata": {},
     "output_type": "execute_result"
    }
   ],
   "source": [
    "path = \"C:\\\\Users\\\\Flore\\\\Desktop\\\\EDA_SURF ESKOLA\\EDA\\\\_ESCUELA_CANTABRA\\\\OTROS\\\\Distribución por País_escuelacantabradesurf.com_es__feb 2024_Todos los dispositivos.csv\"\n",
    "febrero = pd.read_csv(path, sep=\",\")\n",
    "febrero"
   ]
  },
  {
   "cell_type": "code",
   "execution_count": 8,
   "id": "d3cfe288",
   "metadata": {},
   "outputs": [
    {
     "data": {
      "application/vnd.microsoft.datawrangler.viewer.v0+json": {
       "columns": [
        {
         "name": "index",
         "rawType": "int64",
         "type": "integer"
        },
        {
         "name": "País",
         "rawType": "object",
         "type": "string"
        },
        {
         "name": "Cuota de tráfico",
         "rawType": "object",
         "type": "string"
        },
        {
         "name": "Visitas",
         "rawType": "int64",
         "type": "integer"
        },
        {
         "name": "Participación en escritorio",
         "rawType": "object",
         "type": "string"
        },
        {
         "name": "Participación en móviles",
         "rawType": "object",
         "type": "string"
        }
       ],
       "conversionMethod": "pd.DataFrame",
       "ref": "d27e8a7e-9e42-4fbd-a75a-3103a9e1686d",
       "rows": [
        [
         "0",
         "España",
         "81,07 %",
         "8148",
         "100 %",
         "0 %"
        ],
        [
         "1",
         "Alemania",
         "9,36 %",
         "941",
         "100 %",
         "0 %"
        ],
        [
         "2",
         "Suiza",
         "8,72 %",
         "876",
         "100 %",
         "0 %"
        ],
        [
         "3",
         "Argentina",
         "0,85 %",
         "85",
         "100 %",
         "0 %"
        ],
        [
         "4",
         "Italia",
         "0 %",
         "0",
         "0 %",
         "0 %"
        ]
       ],
       "shape": {
        "columns": 5,
        "rows": 5
       }
      },
      "text/html": [
       "<div>\n",
       "<style scoped>\n",
       "    .dataframe tbody tr th:only-of-type {\n",
       "        vertical-align: middle;\n",
       "    }\n",
       "\n",
       "    .dataframe tbody tr th {\n",
       "        vertical-align: top;\n",
       "    }\n",
       "\n",
       "    .dataframe thead th {\n",
       "        text-align: right;\n",
       "    }\n",
       "</style>\n",
       "<table border=\"1\" class=\"dataframe\">\n",
       "  <thead>\n",
       "    <tr style=\"text-align: right;\">\n",
       "      <th></th>\n",
       "      <th>País</th>\n",
       "      <th>Cuota de tráfico</th>\n",
       "      <th>Visitas</th>\n",
       "      <th>Participación en escritorio</th>\n",
       "      <th>Participación en móviles</th>\n",
       "    </tr>\n",
       "  </thead>\n",
       "  <tbody>\n",
       "    <tr>\n",
       "      <th>0</th>\n",
       "      <td>España</td>\n",
       "      <td>81,07 %</td>\n",
       "      <td>8148</td>\n",
       "      <td>100 %</td>\n",
       "      <td>0 %</td>\n",
       "    </tr>\n",
       "    <tr>\n",
       "      <th>1</th>\n",
       "      <td>Alemania</td>\n",
       "      <td>9,36 %</td>\n",
       "      <td>941</td>\n",
       "      <td>100 %</td>\n",
       "      <td>0 %</td>\n",
       "    </tr>\n",
       "    <tr>\n",
       "      <th>2</th>\n",
       "      <td>Suiza</td>\n",
       "      <td>8,72 %</td>\n",
       "      <td>876</td>\n",
       "      <td>100 %</td>\n",
       "      <td>0 %</td>\n",
       "    </tr>\n",
       "    <tr>\n",
       "      <th>3</th>\n",
       "      <td>Argentina</td>\n",
       "      <td>0,85 %</td>\n",
       "      <td>85</td>\n",
       "      <td>100 %</td>\n",
       "      <td>0 %</td>\n",
       "    </tr>\n",
       "    <tr>\n",
       "      <th>4</th>\n",
       "      <td>Italia</td>\n",
       "      <td>0 %</td>\n",
       "      <td>0</td>\n",
       "      <td>0 %</td>\n",
       "      <td>0 %</td>\n",
       "    </tr>\n",
       "  </tbody>\n",
       "</table>\n",
       "</div>"
      ],
      "text/plain": [
       "        País Cuota de tráfico  Visitas Participación en escritorio  \\\n",
       "0     España          81,07 %     8148                       100 %   \n",
       "1   Alemania           9,36 %      941                       100 %   \n",
       "2      Suiza           8,72 %      876                       100 %   \n",
       "3  Argentina           0,85 %       85                       100 %   \n",
       "4     Italia              0 %        0                         0 %   \n",
       "\n",
       "  Participación en móviles  \n",
       "0                      0 %  \n",
       "1                      0 %  \n",
       "2                      0 %  \n",
       "3                      0 %  \n",
       "4                      0 %  "
      ]
     },
     "execution_count": 8,
     "metadata": {},
     "output_type": "execute_result"
    }
   ],
   "source": [
    "path = \"C:\\\\Users\\\\Flore\\\\Desktop\\\\EDA_SURF ESKOLA\\EDA\\\\_ESCUELA_CANTABRA\\\\OTROS\\\\Distribución por País_escuelacantabradesurf.com_es__mar 2024_Todos los dispositivos.csv\"\n",
    "marzo = pd.read_csv(path, sep=\",\")\n",
    "marzo"
   ]
  },
  {
   "cell_type": "code",
   "execution_count": 9,
   "id": "7ad9d405",
   "metadata": {},
   "outputs": [
    {
     "data": {
      "application/vnd.microsoft.datawrangler.viewer.v0+json": {
       "columns": [
        {
         "name": "index",
         "rawType": "int64",
         "type": "integer"
        },
        {
         "name": "País",
         "rawType": "object",
         "type": "string"
        },
        {
         "name": "Cuota de tráfico",
         "rawType": "object",
         "type": "string"
        },
        {
         "name": "Visitas",
         "rawType": "int64",
         "type": "integer"
        },
        {
         "name": "Participación en escritorio",
         "rawType": "object",
         "type": "string"
        },
        {
         "name": "Participación en móviles",
         "rawType": "object",
         "type": "string"
        }
       ],
       "conversionMethod": "pd.DataFrame",
       "ref": "3fcc2bcc-17f3-48f9-95d6-1fa4850f1632",
       "rows": [
        [
         "0",
         "España",
         "100 %",
         "33903",
         "100 %",
         "0 %"
        ],
        [
         "1",
         "Bélgica",
         "0 %",
         "0",
         "0 %",
         "0 %"
        ]
       ],
       "shape": {
        "columns": 5,
        "rows": 2
       }
      },
      "text/html": [
       "<div>\n",
       "<style scoped>\n",
       "    .dataframe tbody tr th:only-of-type {\n",
       "        vertical-align: middle;\n",
       "    }\n",
       "\n",
       "    .dataframe tbody tr th {\n",
       "        vertical-align: top;\n",
       "    }\n",
       "\n",
       "    .dataframe thead th {\n",
       "        text-align: right;\n",
       "    }\n",
       "</style>\n",
       "<table border=\"1\" class=\"dataframe\">\n",
       "  <thead>\n",
       "    <tr style=\"text-align: right;\">\n",
       "      <th></th>\n",
       "      <th>País</th>\n",
       "      <th>Cuota de tráfico</th>\n",
       "      <th>Visitas</th>\n",
       "      <th>Participación en escritorio</th>\n",
       "      <th>Participación en móviles</th>\n",
       "    </tr>\n",
       "  </thead>\n",
       "  <tbody>\n",
       "    <tr>\n",
       "      <th>0</th>\n",
       "      <td>España</td>\n",
       "      <td>100 %</td>\n",
       "      <td>33903</td>\n",
       "      <td>100 %</td>\n",
       "      <td>0 %</td>\n",
       "    </tr>\n",
       "    <tr>\n",
       "      <th>1</th>\n",
       "      <td>Bélgica</td>\n",
       "      <td>0 %</td>\n",
       "      <td>0</td>\n",
       "      <td>0 %</td>\n",
       "      <td>0 %</td>\n",
       "    </tr>\n",
       "  </tbody>\n",
       "</table>\n",
       "</div>"
      ],
      "text/plain": [
       "      País Cuota de tráfico  Visitas Participación en escritorio  \\\n",
       "0   España            100 %    33903                       100 %   \n",
       "1  Bélgica              0 %        0                         0 %   \n",
       "\n",
       "  Participación en móviles  \n",
       "0                      0 %  \n",
       "1                      0 %  "
      ]
     },
     "execution_count": 9,
     "metadata": {},
     "output_type": "execute_result"
    }
   ],
   "source": [
    "path = \"C:\\\\Users\\\\Flore\\\\Desktop\\\\EDA_SURF ESKOLA\\EDA\\\\_ESCUELA_CANTABRA\\\\OTROS\\\\Distribución por País_escuelacantabradesurf.com_es__abr 2024_Todos los dispositivos.csv\"\n",
    "abril = pd.read_csv(path, sep=\",\")\n",
    "abril"
   ]
  },
  {
   "cell_type": "code",
   "execution_count": 10,
   "id": "279eee55",
   "metadata": {},
   "outputs": [
    {
     "data": {
      "application/vnd.microsoft.datawrangler.viewer.v0+json": {
       "columns": [
        {
         "name": "index",
         "rawType": "int64",
         "type": "integer"
        },
        {
         "name": "País",
         "rawType": "object",
         "type": "string"
        },
        {
         "name": "Cuota de tráfico",
         "rawType": "object",
         "type": "string"
        },
        {
         "name": "Visitas",
         "rawType": "int64",
         "type": "integer"
        },
        {
         "name": "Participación en escritorio",
         "rawType": "object",
         "type": "string"
        },
        {
         "name": "Participación en móviles",
         "rawType": "object",
         "type": "string"
        }
       ],
       "conversionMethod": "pd.DataFrame",
       "ref": "a92d70f5-978a-4349-98cd-d0f1fb38d2a3",
       "rows": [
        [
         "0",
         "España",
         "90,45 %",
         "7482",
         "100 %",
         "0 %"
        ],
        [
         "1",
         "Colombia",
         "3,06 %",
         "253",
         "100 %",
         "0 %"
        ],
        [
         "2",
         "Suiza",
         "2,09 %",
         "173",
         "100 %",
         "0 %"
        ],
        [
         "3",
         "Estados Unidos",
         "2,02 %",
         "167",
         "100 %",
         "0 %"
        ],
        [
         "4",
         "Portugal",
         "0 %",
         "0",
         "0 %",
         "0 %"
        ]
       ],
       "shape": {
        "columns": 5,
        "rows": 5
       }
      },
      "text/html": [
       "<div>\n",
       "<style scoped>\n",
       "    .dataframe tbody tr th:only-of-type {\n",
       "        vertical-align: middle;\n",
       "    }\n",
       "\n",
       "    .dataframe tbody tr th {\n",
       "        vertical-align: top;\n",
       "    }\n",
       "\n",
       "    .dataframe thead th {\n",
       "        text-align: right;\n",
       "    }\n",
       "</style>\n",
       "<table border=\"1\" class=\"dataframe\">\n",
       "  <thead>\n",
       "    <tr style=\"text-align: right;\">\n",
       "      <th></th>\n",
       "      <th>País</th>\n",
       "      <th>Cuota de tráfico</th>\n",
       "      <th>Visitas</th>\n",
       "      <th>Participación en escritorio</th>\n",
       "      <th>Participación en móviles</th>\n",
       "    </tr>\n",
       "  </thead>\n",
       "  <tbody>\n",
       "    <tr>\n",
       "      <th>0</th>\n",
       "      <td>España</td>\n",
       "      <td>90,45 %</td>\n",
       "      <td>7482</td>\n",
       "      <td>100 %</td>\n",
       "      <td>0 %</td>\n",
       "    </tr>\n",
       "    <tr>\n",
       "      <th>1</th>\n",
       "      <td>Colombia</td>\n",
       "      <td>3,06 %</td>\n",
       "      <td>253</td>\n",
       "      <td>100 %</td>\n",
       "      <td>0 %</td>\n",
       "    </tr>\n",
       "    <tr>\n",
       "      <th>2</th>\n",
       "      <td>Suiza</td>\n",
       "      <td>2,09 %</td>\n",
       "      <td>173</td>\n",
       "      <td>100 %</td>\n",
       "      <td>0 %</td>\n",
       "    </tr>\n",
       "    <tr>\n",
       "      <th>3</th>\n",
       "      <td>Estados Unidos</td>\n",
       "      <td>2,02 %</td>\n",
       "      <td>167</td>\n",
       "      <td>100 %</td>\n",
       "      <td>0 %</td>\n",
       "    </tr>\n",
       "    <tr>\n",
       "      <th>4</th>\n",
       "      <td>Portugal</td>\n",
       "      <td>0 %</td>\n",
       "      <td>0</td>\n",
       "      <td>0 %</td>\n",
       "      <td>0 %</td>\n",
       "    </tr>\n",
       "  </tbody>\n",
       "</table>\n",
       "</div>"
      ],
      "text/plain": [
       "             País Cuota de tráfico  Visitas Participación en escritorio  \\\n",
       "0          España          90,45 %     7482                       100 %   \n",
       "1        Colombia           3,06 %      253                       100 %   \n",
       "2           Suiza           2,09 %      173                       100 %   \n",
       "3  Estados Unidos           2,02 %      167                       100 %   \n",
       "4        Portugal              0 %        0                         0 %   \n",
       "\n",
       "  Participación en móviles  \n",
       "0                      0 %  \n",
       "1                      0 %  \n",
       "2                      0 %  \n",
       "3                      0 %  \n",
       "4                      0 %  "
      ]
     },
     "execution_count": 10,
     "metadata": {},
     "output_type": "execute_result"
    }
   ],
   "source": [
    "path = \"C:\\\\Users\\\\Flore\\\\Desktop\\\\EDA_SURF ESKOLA\\EDA\\\\_ESCUELA_CANTABRA\\\\OTROS\\\\Distribución por País_escuelacantabradesurf.com_es__may 2024_Todos los dispositivos.csv\"\n",
    "mayo = pd.read_csv(path, sep=\",\")\n",
    "mayo"
   ]
  },
  {
   "cell_type": "code",
   "execution_count": 11,
   "id": "6b85df33",
   "metadata": {},
   "outputs": [
    {
     "data": {
      "application/vnd.microsoft.datawrangler.viewer.v0+json": {
       "columns": [
        {
         "name": "index",
         "rawType": "int64",
         "type": "integer"
        },
        {
         "name": "País",
         "rawType": "object",
         "type": "string"
        },
        {
         "name": "Cuota de tráfico",
         "rawType": "object",
         "type": "string"
        },
        {
         "name": "Visitas",
         "rawType": "int64",
         "type": "integer"
        },
        {
         "name": "Participación en escritorio",
         "rawType": "object",
         "type": "string"
        },
        {
         "name": "Participación en móviles",
         "rawType": "object",
         "type": "string"
        }
       ],
       "conversionMethod": "pd.DataFrame",
       "ref": "2333c38a-cc89-4c5f-8b70-85ad7d479740",
       "rows": [
        [
         "0",
         "España",
         "97,53 %",
         "9192",
         "100 %",
         "0 %"
        ],
        [
         "1",
         "Francia",
         "1,52 %",
         "143",
         "100 %",
         "0 %"
        ],
        [
         "2",
         "Venezuela",
         "0,56 %",
         "53",
         "100 %",
         "0 %"
        ],
        [
         "3",
         "Rumanía",
         "0,38 %",
         "36",
         "100 %",
         "0 %"
        ],
        [
         "4",
         "Suiza",
         "0 %",
         "0",
         "0 %",
         "0 %"
        ]
       ],
       "shape": {
        "columns": 5,
        "rows": 5
       }
      },
      "text/html": [
       "<div>\n",
       "<style scoped>\n",
       "    .dataframe tbody tr th:only-of-type {\n",
       "        vertical-align: middle;\n",
       "    }\n",
       "\n",
       "    .dataframe tbody tr th {\n",
       "        vertical-align: top;\n",
       "    }\n",
       "\n",
       "    .dataframe thead th {\n",
       "        text-align: right;\n",
       "    }\n",
       "</style>\n",
       "<table border=\"1\" class=\"dataframe\">\n",
       "  <thead>\n",
       "    <tr style=\"text-align: right;\">\n",
       "      <th></th>\n",
       "      <th>País</th>\n",
       "      <th>Cuota de tráfico</th>\n",
       "      <th>Visitas</th>\n",
       "      <th>Participación en escritorio</th>\n",
       "      <th>Participación en móviles</th>\n",
       "    </tr>\n",
       "  </thead>\n",
       "  <tbody>\n",
       "    <tr>\n",
       "      <th>0</th>\n",
       "      <td>España</td>\n",
       "      <td>97,53 %</td>\n",
       "      <td>9192</td>\n",
       "      <td>100 %</td>\n",
       "      <td>0 %</td>\n",
       "    </tr>\n",
       "    <tr>\n",
       "      <th>1</th>\n",
       "      <td>Francia</td>\n",
       "      <td>1,52 %</td>\n",
       "      <td>143</td>\n",
       "      <td>100 %</td>\n",
       "      <td>0 %</td>\n",
       "    </tr>\n",
       "    <tr>\n",
       "      <th>2</th>\n",
       "      <td>Venezuela</td>\n",
       "      <td>0,56 %</td>\n",
       "      <td>53</td>\n",
       "      <td>100 %</td>\n",
       "      <td>0 %</td>\n",
       "    </tr>\n",
       "    <tr>\n",
       "      <th>3</th>\n",
       "      <td>Rumanía</td>\n",
       "      <td>0,38 %</td>\n",
       "      <td>36</td>\n",
       "      <td>100 %</td>\n",
       "      <td>0 %</td>\n",
       "    </tr>\n",
       "    <tr>\n",
       "      <th>4</th>\n",
       "      <td>Suiza</td>\n",
       "      <td>0 %</td>\n",
       "      <td>0</td>\n",
       "      <td>0 %</td>\n",
       "      <td>0 %</td>\n",
       "    </tr>\n",
       "  </tbody>\n",
       "</table>\n",
       "</div>"
      ],
      "text/plain": [
       "        País Cuota de tráfico  Visitas Participación en escritorio  \\\n",
       "0     España          97,53 %     9192                       100 %   \n",
       "1    Francia           1,52 %      143                       100 %   \n",
       "2  Venezuela           0,56 %       53                       100 %   \n",
       "3    Rumanía           0,38 %       36                       100 %   \n",
       "4      Suiza              0 %        0                         0 %   \n",
       "\n",
       "  Participación en móviles  \n",
       "0                      0 %  \n",
       "1                      0 %  \n",
       "2                      0 %  \n",
       "3                      0 %  \n",
       "4                      0 %  "
      ]
     },
     "execution_count": 11,
     "metadata": {},
     "output_type": "execute_result"
    }
   ],
   "source": [
    "path = \"C:\\\\Users\\\\Flore\\\\Desktop\\\\EDA_SURF ESKOLA\\EDA\\\\_ESCUELA_CANTABRA\\\\OTROS\\\\Distribución por País_escuelacantabradesurf.com_es__jun 2024_Todos los dispositivos.csv\"\n",
    "junio = pd.read_csv(path, sep=\",\")\n",
    "junio"
   ]
  },
  {
   "cell_type": "code",
   "execution_count": 12,
   "id": "6c9c3d65",
   "metadata": {},
   "outputs": [
    {
     "data": {
      "application/vnd.microsoft.datawrangler.viewer.v0+json": {
       "columns": [
        {
         "name": "index",
         "rawType": "int64",
         "type": "integer"
        },
        {
         "name": "País",
         "rawType": "object",
         "type": "string"
        },
        {
         "name": "Cuota de tráfico",
         "rawType": "object",
         "type": "string"
        },
        {
         "name": "Visitas",
         "rawType": "int64",
         "type": "integer"
        },
        {
         "name": "Participación en escritorio",
         "rawType": "object",
         "type": "string"
        },
        {
         "name": "Participación en móviles",
         "rawType": "object",
         "type": "string"
        }
       ],
       "conversionMethod": "pd.DataFrame",
       "ref": "f9d597f4-befe-4086-be61-c77afe6b300e",
       "rows": [
        [
         "0",
         "Italia",
         "51,36 %",
         "19026",
         "0 %",
         "100 %"
        ],
        [
         "1",
         "España",
         "48,47 %",
         "17957",
         "100 %",
         "0 %"
        ],
        [
         "2",
         "Reino Unido",
         "0,17 %",
         "62",
         "100 %",
         "0 %"
        ]
       ],
       "shape": {
        "columns": 5,
        "rows": 3
       }
      },
      "text/html": [
       "<div>\n",
       "<style scoped>\n",
       "    .dataframe tbody tr th:only-of-type {\n",
       "        vertical-align: middle;\n",
       "    }\n",
       "\n",
       "    .dataframe tbody tr th {\n",
       "        vertical-align: top;\n",
       "    }\n",
       "\n",
       "    .dataframe thead th {\n",
       "        text-align: right;\n",
       "    }\n",
       "</style>\n",
       "<table border=\"1\" class=\"dataframe\">\n",
       "  <thead>\n",
       "    <tr style=\"text-align: right;\">\n",
       "      <th></th>\n",
       "      <th>País</th>\n",
       "      <th>Cuota de tráfico</th>\n",
       "      <th>Visitas</th>\n",
       "      <th>Participación en escritorio</th>\n",
       "      <th>Participación en móviles</th>\n",
       "    </tr>\n",
       "  </thead>\n",
       "  <tbody>\n",
       "    <tr>\n",
       "      <th>0</th>\n",
       "      <td>Italia</td>\n",
       "      <td>51,36 %</td>\n",
       "      <td>19026</td>\n",
       "      <td>0 %</td>\n",
       "      <td>100 %</td>\n",
       "    </tr>\n",
       "    <tr>\n",
       "      <th>1</th>\n",
       "      <td>España</td>\n",
       "      <td>48,47 %</td>\n",
       "      <td>17957</td>\n",
       "      <td>100 %</td>\n",
       "      <td>0 %</td>\n",
       "    </tr>\n",
       "    <tr>\n",
       "      <th>2</th>\n",
       "      <td>Reino Unido</td>\n",
       "      <td>0,17 %</td>\n",
       "      <td>62</td>\n",
       "      <td>100 %</td>\n",
       "      <td>0 %</td>\n",
       "    </tr>\n",
       "  </tbody>\n",
       "</table>\n",
       "</div>"
      ],
      "text/plain": [
       "          País Cuota de tráfico  Visitas Participación en escritorio  \\\n",
       "0       Italia          51,36 %    19026                         0 %   \n",
       "1       España          48,47 %    17957                       100 %   \n",
       "2  Reino Unido           0,17 %       62                       100 %   \n",
       "\n",
       "  Participación en móviles  \n",
       "0                    100 %  \n",
       "1                      0 %  \n",
       "2                      0 %  "
      ]
     },
     "execution_count": 12,
     "metadata": {},
     "output_type": "execute_result"
    }
   ],
   "source": [
    "path = \"C:\\\\Users\\\\Flore\\\\Desktop\\\\EDA_SURF ESKOLA\\EDA\\\\_ESCUELA_CANTABRA\\\\OTROS\\\\Distribución por País_escuelacantabradesurf.com_es__jul 2024_Todos los dispositivos.csv\"\n",
    "julio = pd.read_csv(path, sep=\",\")\n",
    "julio"
   ]
  },
  {
   "cell_type": "code",
   "execution_count": 13,
   "id": "76a4188f",
   "metadata": {},
   "outputs": [
    {
     "data": {
      "application/vnd.microsoft.datawrangler.viewer.v0+json": {
       "columns": [
        {
         "name": "index",
         "rawType": "int64",
         "type": "integer"
        },
        {
         "name": "País",
         "rawType": "object",
         "type": "string"
        },
        {
         "name": "Cuota de tráfico",
         "rawType": "object",
         "type": "string"
        },
        {
         "name": "Visitas",
         "rawType": "int64",
         "type": "integer"
        },
        {
         "name": "Participación en escritorio",
         "rawType": "object",
         "type": "string"
        },
        {
         "name": "Participación en móviles",
         "rawType": "object",
         "type": "string"
        }
       ],
       "conversionMethod": "pd.DataFrame",
       "ref": "a3c353cc-62d7-4cb7-a71c-660fabc07ec1",
       "rows": [
        [
         "0",
         "España",
         "81,96 %",
         "32812",
         "87,36 %",
         "12,64 %"
        ],
        [
         "1",
         "Italia",
         "17,2 %",
         "6885",
         "0 %",
         "100 %"
        ],
        [
         "2",
         "Canadá",
         "0 %",
         "0",
         "0 %",
         "0 %"
        ],
        [
         "3",
         "Alemania",
         "0 %",
         "0",
         "0 %",
         "0 %"
        ],
        [
         "4",
         "Austria",
         "0 %",
         "0",
         "0 %",
         "0 %"
        ]
       ],
       "shape": {
        "columns": 5,
        "rows": 5
       }
      },
      "text/html": [
       "<div>\n",
       "<style scoped>\n",
       "    .dataframe tbody tr th:only-of-type {\n",
       "        vertical-align: middle;\n",
       "    }\n",
       "\n",
       "    .dataframe tbody tr th {\n",
       "        vertical-align: top;\n",
       "    }\n",
       "\n",
       "    .dataframe thead th {\n",
       "        text-align: right;\n",
       "    }\n",
       "</style>\n",
       "<table border=\"1\" class=\"dataframe\">\n",
       "  <thead>\n",
       "    <tr style=\"text-align: right;\">\n",
       "      <th></th>\n",
       "      <th>País</th>\n",
       "      <th>Cuota de tráfico</th>\n",
       "      <th>Visitas</th>\n",
       "      <th>Participación en escritorio</th>\n",
       "      <th>Participación en móviles</th>\n",
       "    </tr>\n",
       "  </thead>\n",
       "  <tbody>\n",
       "    <tr>\n",
       "      <th>0</th>\n",
       "      <td>España</td>\n",
       "      <td>81,96 %</td>\n",
       "      <td>32812</td>\n",
       "      <td>87,36 %</td>\n",
       "      <td>12,64 %</td>\n",
       "    </tr>\n",
       "    <tr>\n",
       "      <th>1</th>\n",
       "      <td>Italia</td>\n",
       "      <td>17,2 %</td>\n",
       "      <td>6885</td>\n",
       "      <td>0 %</td>\n",
       "      <td>100 %</td>\n",
       "    </tr>\n",
       "    <tr>\n",
       "      <th>2</th>\n",
       "      <td>Canadá</td>\n",
       "      <td>0 %</td>\n",
       "      <td>0</td>\n",
       "      <td>0 %</td>\n",
       "      <td>0 %</td>\n",
       "    </tr>\n",
       "    <tr>\n",
       "      <th>3</th>\n",
       "      <td>Alemania</td>\n",
       "      <td>0 %</td>\n",
       "      <td>0</td>\n",
       "      <td>0 %</td>\n",
       "      <td>0 %</td>\n",
       "    </tr>\n",
       "    <tr>\n",
       "      <th>4</th>\n",
       "      <td>Austria</td>\n",
       "      <td>0 %</td>\n",
       "      <td>0</td>\n",
       "      <td>0 %</td>\n",
       "      <td>0 %</td>\n",
       "    </tr>\n",
       "  </tbody>\n",
       "</table>\n",
       "</div>"
      ],
      "text/plain": [
       "       País Cuota de tráfico  Visitas Participación en escritorio  \\\n",
       "0    España          81,96 %    32812                     87,36 %   \n",
       "1    Italia           17,2 %     6885                         0 %   \n",
       "2    Canadá              0 %        0                         0 %   \n",
       "3  Alemania              0 %        0                         0 %   \n",
       "4   Austria              0 %        0                         0 %   \n",
       "\n",
       "  Participación en móviles  \n",
       "0                  12,64 %  \n",
       "1                    100 %  \n",
       "2                      0 %  \n",
       "3                      0 %  \n",
       "4                      0 %  "
      ]
     },
     "execution_count": 13,
     "metadata": {},
     "output_type": "execute_result"
    }
   ],
   "source": [
    "path = \"C:\\\\Users\\\\Flore\\\\Desktop\\\\EDA_SURF ESKOLA\\EDA\\\\_ESCUELA_CANTABRA\\\\OTROS\\\\Distribución por País_escuelacantabradesurf.com_es__ago 2024_Todos los dispositivos.csv\"\n",
    "agosto = pd.read_csv(path, sep=\",\")\n",
    "agosto"
   ]
  },
  {
   "cell_type": "code",
   "execution_count": 15,
   "id": "c607070c",
   "metadata": {},
   "outputs": [
    {
     "data": {
      "application/vnd.microsoft.datawrangler.viewer.v0+json": {
       "columns": [
        {
         "name": "index",
         "rawType": "int64",
         "type": "integer"
        },
        {
         "name": "País",
         "rawType": "object",
         "type": "string"
        },
        {
         "name": "Cuota de tráfico",
         "rawType": "object",
         "type": "string"
        },
        {
         "name": "Visitas",
         "rawType": "int64",
         "type": "integer"
        },
        {
         "name": "Participación en escritorio",
         "rawType": "object",
         "type": "string"
        },
        {
         "name": "Participación en móviles",
         "rawType": "object",
         "type": "string"
        }
       ],
       "conversionMethod": "pd.DataFrame",
       "ref": "aab9ef85-1a6e-4965-bcfe-b397c6a78554",
       "rows": [
        [
         "0",
         "España",
         "99,26 %",
         "16822",
         "100 %",
         "0 %"
        ],
        [
         "1",
         "Italia",
         "0,74 %",
         "125",
         "0 %",
         "100 %"
        ],
        [
         "2",
         "Reino Unido",
         "0 %",
         "0",
         "0 %",
         "0 %"
        ]
       ],
       "shape": {
        "columns": 5,
        "rows": 3
       }
      },
      "text/html": [
       "<div>\n",
       "<style scoped>\n",
       "    .dataframe tbody tr th:only-of-type {\n",
       "        vertical-align: middle;\n",
       "    }\n",
       "\n",
       "    .dataframe tbody tr th {\n",
       "        vertical-align: top;\n",
       "    }\n",
       "\n",
       "    .dataframe thead th {\n",
       "        text-align: right;\n",
       "    }\n",
       "</style>\n",
       "<table border=\"1\" class=\"dataframe\">\n",
       "  <thead>\n",
       "    <tr style=\"text-align: right;\">\n",
       "      <th></th>\n",
       "      <th>País</th>\n",
       "      <th>Cuota de tráfico</th>\n",
       "      <th>Visitas</th>\n",
       "      <th>Participación en escritorio</th>\n",
       "      <th>Participación en móviles</th>\n",
       "    </tr>\n",
       "  </thead>\n",
       "  <tbody>\n",
       "    <tr>\n",
       "      <th>0</th>\n",
       "      <td>España</td>\n",
       "      <td>99,26 %</td>\n",
       "      <td>16822</td>\n",
       "      <td>100 %</td>\n",
       "      <td>0 %</td>\n",
       "    </tr>\n",
       "    <tr>\n",
       "      <th>1</th>\n",
       "      <td>Italia</td>\n",
       "      <td>0,74 %</td>\n",
       "      <td>125</td>\n",
       "      <td>0 %</td>\n",
       "      <td>100 %</td>\n",
       "    </tr>\n",
       "    <tr>\n",
       "      <th>2</th>\n",
       "      <td>Reino Unido</td>\n",
       "      <td>0 %</td>\n",
       "      <td>0</td>\n",
       "      <td>0 %</td>\n",
       "      <td>0 %</td>\n",
       "    </tr>\n",
       "  </tbody>\n",
       "</table>\n",
       "</div>"
      ],
      "text/plain": [
       "          País Cuota de tráfico  Visitas Participación en escritorio  \\\n",
       "0       España          99,26 %    16822                       100 %   \n",
       "1       Italia           0,74 %      125                         0 %   \n",
       "2  Reino Unido              0 %        0                         0 %   \n",
       "\n",
       "  Participación en móviles  \n",
       "0                      0 %  \n",
       "1                    100 %  \n",
       "2                      0 %  "
      ]
     },
     "execution_count": 15,
     "metadata": {},
     "output_type": "execute_result"
    }
   ],
   "source": [
    "path = \"C:\\\\Users\\\\Flore\\\\Desktop\\\\EDA_SURF ESKOLA\\EDA\\\\_ESCUELA_CANTABRA\\\\OTROS\\\\Distribución por País_escuelacantabradesurf.com_es__sept 2024_Todos los dispositivos.csv\"\n",
    "septiembre = pd.read_csv(path, sep=\",\")\n",
    "septiembre"
   ]
  },
  {
   "cell_type": "code",
   "execution_count": 16,
   "id": "fe8a7ab1",
   "metadata": {},
   "outputs": [
    {
     "data": {
      "application/vnd.microsoft.datawrangler.viewer.v0+json": {
       "columns": [
        {
         "name": "index",
         "rawType": "int64",
         "type": "integer"
        },
        {
         "name": "País",
         "rawType": "object",
         "type": "string"
        },
        {
         "name": "Cuota de tráfico",
         "rawType": "object",
         "type": "string"
        },
        {
         "name": "Visitas",
         "rawType": "int64",
         "type": "integer"
        },
        {
         "name": "Participación en escritorio",
         "rawType": "object",
         "type": "string"
        },
        {
         "name": "Participación en móviles",
         "rawType": "object",
         "type": "string"
        }
       ],
       "conversionMethod": "pd.DataFrame",
       "ref": "cc978332-125c-4901-a23d-06155e449136",
       "rows": [
        [
         "0",
         "España",
         "98,47 %",
         "32412",
         "93,71 %",
         "6,29 %"
        ],
        [
         "1",
         "México",
         "1,11 %",
         "367",
         "100 %",
         "0 %"
        ],
        [
         "2",
         "Estados Unidos",
         "0,3 %",
         "99",
         "100 %",
         "0 %"
        ],
        [
         "3",
         "Venezuela",
         "0,06 %",
         "20",
         "100 %",
         "0 %"
        ],
        [
         "4",
         "Italia",
         "0,05 %",
         "18",
         "100 %",
         "0 %"
        ]
       ],
       "shape": {
        "columns": 5,
        "rows": 5
       }
      },
      "text/html": [
       "<div>\n",
       "<style scoped>\n",
       "    .dataframe tbody tr th:only-of-type {\n",
       "        vertical-align: middle;\n",
       "    }\n",
       "\n",
       "    .dataframe tbody tr th {\n",
       "        vertical-align: top;\n",
       "    }\n",
       "\n",
       "    .dataframe thead th {\n",
       "        text-align: right;\n",
       "    }\n",
       "</style>\n",
       "<table border=\"1\" class=\"dataframe\">\n",
       "  <thead>\n",
       "    <tr style=\"text-align: right;\">\n",
       "      <th></th>\n",
       "      <th>País</th>\n",
       "      <th>Cuota de tráfico</th>\n",
       "      <th>Visitas</th>\n",
       "      <th>Participación en escritorio</th>\n",
       "      <th>Participación en móviles</th>\n",
       "    </tr>\n",
       "  </thead>\n",
       "  <tbody>\n",
       "    <tr>\n",
       "      <th>0</th>\n",
       "      <td>España</td>\n",
       "      <td>98,47 %</td>\n",
       "      <td>32412</td>\n",
       "      <td>93,71 %</td>\n",
       "      <td>6,29 %</td>\n",
       "    </tr>\n",
       "    <tr>\n",
       "      <th>1</th>\n",
       "      <td>México</td>\n",
       "      <td>1,11 %</td>\n",
       "      <td>367</td>\n",
       "      <td>100 %</td>\n",
       "      <td>0 %</td>\n",
       "    </tr>\n",
       "    <tr>\n",
       "      <th>2</th>\n",
       "      <td>Estados Unidos</td>\n",
       "      <td>0,3 %</td>\n",
       "      <td>99</td>\n",
       "      <td>100 %</td>\n",
       "      <td>0 %</td>\n",
       "    </tr>\n",
       "    <tr>\n",
       "      <th>3</th>\n",
       "      <td>Venezuela</td>\n",
       "      <td>0,06 %</td>\n",
       "      <td>20</td>\n",
       "      <td>100 %</td>\n",
       "      <td>0 %</td>\n",
       "    </tr>\n",
       "    <tr>\n",
       "      <th>4</th>\n",
       "      <td>Italia</td>\n",
       "      <td>0,05 %</td>\n",
       "      <td>18</td>\n",
       "      <td>100 %</td>\n",
       "      <td>0 %</td>\n",
       "    </tr>\n",
       "  </tbody>\n",
       "</table>\n",
       "</div>"
      ],
      "text/plain": [
       "             País Cuota de tráfico  Visitas Participación en escritorio  \\\n",
       "0          España          98,47 %    32412                     93,71 %   \n",
       "1          México           1,11 %      367                       100 %   \n",
       "2  Estados Unidos            0,3 %       99                       100 %   \n",
       "3       Venezuela           0,06 %       20                       100 %   \n",
       "4          Italia           0,05 %       18                       100 %   \n",
       "\n",
       "  Participación en móviles  \n",
       "0                   6,29 %  \n",
       "1                      0 %  \n",
       "2                      0 %  \n",
       "3                      0 %  \n",
       "4                      0 %  "
      ]
     },
     "execution_count": 16,
     "metadata": {},
     "output_type": "execute_result"
    }
   ],
   "source": [
    "path = \"C:\\\\Users\\\\Flore\\\\Desktop\\\\EDA_SURF ESKOLA\\EDA\\\\_ESCUELA_CANTABRA\\\\OTROS\\\\Distribución por País_escuelacantabradesurf.com_es__oct 2024_Todos los dispositivos.csv\"\n",
    "octubre = pd.read_csv(path, sep=\",\")\n",
    "octubre"
   ]
  },
  {
   "cell_type": "code",
   "execution_count": 17,
   "id": "599a8615",
   "metadata": {},
   "outputs": [
    {
     "data": {
      "application/vnd.microsoft.datawrangler.viewer.v0+json": {
       "columns": [
        {
         "name": "index",
         "rawType": "int64",
         "type": "integer"
        },
        {
         "name": "País",
         "rawType": "object",
         "type": "string"
        },
        {
         "name": "Cuota de tráfico",
         "rawType": "object",
         "type": "string"
        },
        {
         "name": "Visitas",
         "rawType": "int64",
         "type": "integer"
        },
        {
         "name": "Participación en escritorio",
         "rawType": "object",
         "type": "string"
        },
        {
         "name": "Participación en móviles",
         "rawType": "object",
         "type": "string"
        }
       ],
       "conversionMethod": "pd.DataFrame",
       "ref": "0fd4954f-710d-4c94-a303-4340548454cb",
       "rows": [
        [
         "0",
         "España",
         "99,98 %",
         "18325",
         "100 %",
         "0 %"
        ],
        [
         "1",
         "Italia",
         "0,02 %",
         "3",
         "100 %",
         "0 %"
        ]
       ],
       "shape": {
        "columns": 5,
        "rows": 2
       }
      },
      "text/html": [
       "<div>\n",
       "<style scoped>\n",
       "    .dataframe tbody tr th:only-of-type {\n",
       "        vertical-align: middle;\n",
       "    }\n",
       "\n",
       "    .dataframe tbody tr th {\n",
       "        vertical-align: top;\n",
       "    }\n",
       "\n",
       "    .dataframe thead th {\n",
       "        text-align: right;\n",
       "    }\n",
       "</style>\n",
       "<table border=\"1\" class=\"dataframe\">\n",
       "  <thead>\n",
       "    <tr style=\"text-align: right;\">\n",
       "      <th></th>\n",
       "      <th>País</th>\n",
       "      <th>Cuota de tráfico</th>\n",
       "      <th>Visitas</th>\n",
       "      <th>Participación en escritorio</th>\n",
       "      <th>Participación en móviles</th>\n",
       "    </tr>\n",
       "  </thead>\n",
       "  <tbody>\n",
       "    <tr>\n",
       "      <th>0</th>\n",
       "      <td>España</td>\n",
       "      <td>99,98 %</td>\n",
       "      <td>18325</td>\n",
       "      <td>100 %</td>\n",
       "      <td>0 %</td>\n",
       "    </tr>\n",
       "    <tr>\n",
       "      <th>1</th>\n",
       "      <td>Italia</td>\n",
       "      <td>0,02 %</td>\n",
       "      <td>3</td>\n",
       "      <td>100 %</td>\n",
       "      <td>0 %</td>\n",
       "    </tr>\n",
       "  </tbody>\n",
       "</table>\n",
       "</div>"
      ],
      "text/plain": [
       "     País Cuota de tráfico  Visitas Participación en escritorio  \\\n",
       "0  España          99,98 %    18325                       100 %   \n",
       "1  Italia           0,02 %        3                       100 %   \n",
       "\n",
       "  Participación en móviles  \n",
       "0                      0 %  \n",
       "1                      0 %  "
      ]
     },
     "execution_count": 17,
     "metadata": {},
     "output_type": "execute_result"
    }
   ],
   "source": [
    "path = \"C:\\\\Users\\\\Flore\\\\Desktop\\\\EDA_SURF ESKOLA\\EDA\\\\_ESCUELA_CANTABRA\\\\OTROS\\\\Distribución por País_escuelacantabradesurf.com_es__nov 2024_Todos los dispositivos.csv\"\n",
    "noviembre = pd.read_csv(path, sep=\",\")\n",
    "noviembre"
   ]
  },
  {
   "cell_type": "code",
   "execution_count": 18,
   "id": "8fa659e9",
   "metadata": {},
   "outputs": [
    {
     "data": {
      "application/vnd.microsoft.datawrangler.viewer.v0+json": {
       "columns": [
        {
         "name": "index",
         "rawType": "int64",
         "type": "integer"
        },
        {
         "name": "País",
         "rawType": "object",
         "type": "string"
        },
        {
         "name": "Cuota de tráfico",
         "rawType": "object",
         "type": "string"
        },
        {
         "name": "Visitas",
         "rawType": "int64",
         "type": "integer"
        },
        {
         "name": "Participación en escritorio",
         "rawType": "object",
         "type": "string"
        },
        {
         "name": "Participación en móviles",
         "rawType": "object",
         "type": "string"
        }
       ],
       "conversionMethod": "pd.DataFrame",
       "ref": "48aa8af5-90ca-40de-b887-7881dad3bde9",
       "rows": [
        [
         "0",
         "España",
         "99,54 %",
         "22836",
         "100 %",
         "0 %"
        ],
        [
         "1",
         "Países Bajos",
         "0,46 %",
         "106",
         "100 %",
         "0 %"
        ]
       ],
       "shape": {
        "columns": 5,
        "rows": 2
       }
      },
      "text/html": [
       "<div>\n",
       "<style scoped>\n",
       "    .dataframe tbody tr th:only-of-type {\n",
       "        vertical-align: middle;\n",
       "    }\n",
       "\n",
       "    .dataframe tbody tr th {\n",
       "        vertical-align: top;\n",
       "    }\n",
       "\n",
       "    .dataframe thead th {\n",
       "        text-align: right;\n",
       "    }\n",
       "</style>\n",
       "<table border=\"1\" class=\"dataframe\">\n",
       "  <thead>\n",
       "    <tr style=\"text-align: right;\">\n",
       "      <th></th>\n",
       "      <th>País</th>\n",
       "      <th>Cuota de tráfico</th>\n",
       "      <th>Visitas</th>\n",
       "      <th>Participación en escritorio</th>\n",
       "      <th>Participación en móviles</th>\n",
       "    </tr>\n",
       "  </thead>\n",
       "  <tbody>\n",
       "    <tr>\n",
       "      <th>0</th>\n",
       "      <td>España</td>\n",
       "      <td>99,54 %</td>\n",
       "      <td>22836</td>\n",
       "      <td>100 %</td>\n",
       "      <td>0 %</td>\n",
       "    </tr>\n",
       "    <tr>\n",
       "      <th>1</th>\n",
       "      <td>Países Bajos</td>\n",
       "      <td>0,46 %</td>\n",
       "      <td>106</td>\n",
       "      <td>100 %</td>\n",
       "      <td>0 %</td>\n",
       "    </tr>\n",
       "  </tbody>\n",
       "</table>\n",
       "</div>"
      ],
      "text/plain": [
       "           País Cuota de tráfico  Visitas Participación en escritorio  \\\n",
       "0        España          99,54 %    22836                       100 %   \n",
       "1  Países Bajos           0,46 %      106                       100 %   \n",
       "\n",
       "  Participación en móviles  \n",
       "0                      0 %  \n",
       "1                      0 %  "
      ]
     },
     "execution_count": 18,
     "metadata": {},
     "output_type": "execute_result"
    }
   ],
   "source": [
    "path = \"C:\\\\Users\\\\Flore\\\\Desktop\\\\EDA_SURF ESKOLA\\EDA\\\\_ESCUELA_CANTABRA\\\\OTROS\\\\Distribución por País_escuelacantabradesurf.com_es__dic 2024_Todos los dispositivos.csv\"\n",
    "diciembre = pd.read_csv(path, sep=\",\")\n",
    "diciembre"
   ]
  },
  {
   "cell_type": "code",
   "execution_count": null,
   "id": "9fb046ae",
   "metadata": {},
   "outputs": [],
   "source": []
  },
  {
   "cell_type": "code",
   "execution_count": null,
   "id": "7c5c241f",
   "metadata": {},
   "outputs": [],
   "source": []
  }
 ],
 "metadata": {
  "kernelspec": {
   "display_name": "Python 3",
   "language": "python",
   "name": "python3"
  },
  "language_info": {
   "codemirror_mode": {
    "name": "ipython",
    "version": 3
   },
   "file_extension": ".py",
   "mimetype": "text/x-python",
   "name": "python",
   "nbconvert_exporter": "python",
   "pygments_lexer": "ipython3",
   "version": "3.11.9"
  }
 },
 "nbformat": 4,
 "nbformat_minor": 5
}
