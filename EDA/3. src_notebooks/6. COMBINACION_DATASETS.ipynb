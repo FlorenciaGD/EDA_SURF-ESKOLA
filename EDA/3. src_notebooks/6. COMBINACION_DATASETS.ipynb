{
 "cells": [
  {
   "cell_type": "code",
   "execution_count": 1,
   "id": "5cfed477",
   "metadata": {},
   "outputs": [],
   "source": [
    "import requests\n",
    "import zipfile\n",
    "import pandas as pd\n",
    "import numpy as np\n",
    "import matplotlib.pyplot as plt\n",
    "import seaborn as sns"
   ]
  },
  {
   "cell_type": "code",
   "execution_count": 2,
   "id": "4ed8c015",
   "metadata": {},
   "outputs": [],
   "source": [
    "df_turismo= pd.read_csv(\"C:\\\\Users\\\\Flore\\\\Desktop\\\\EDA_SURF ESKOLA\\\\EDA\\\\2. src_data\\\\1. archivo_limpio.csv\", sep=(\",\"))\n",
    "\n",
    "\n",
    "df_tendencia= pd.read_csv(\"C:\\\\Users\\\\Flore\\\\Desktop\\\\EDA_SURF ESKOLA\\\\EDA\\\\2. src_data\\\\1.2. atracciones_recursos_turisticosII.csv\", sep=(\";\"))\n"
   ]
  },
  {
   "cell_type": "code",
   "execution_count": 13,
   "id": "8ab1bc0c",
   "metadata": {},
   "outputs": [
    {
     "data": {
      "application/vnd.microsoft.datawrangler.viewer.v0+json": {
       "columns": [
        {
         "name": "index",
         "rawType": "int64",
         "type": "integer"
        },
        {
         "name": "AÑO",
         "rawType": "int64",
         "type": "integer"
        },
        {
         "name": "MES",
         "rawType": "int64",
         "type": "integer"
        },
        {
         "name": "PROVINCIA_DESTINO",
         "rawType": "object",
         "type": "string"
        },
        {
         "name": "CONTINENTE_ORIGEN",
         "rawType": "object",
         "type": "string"
        },
        {
         "name": "PAIS_ORIGEN",
         "rawType": "object",
         "type": "string"
        },
        {
         "name": "TURISTAS",
         "rawType": "float64",
         "type": "float"
        },
        {
         "name": "PERNOCTACIONES",
         "rawType": "object",
         "type": "string"
        },
        {
         "name": "ESTANCIA_MEDIA",
         "rawType": "object",
         "type": "string"
        }
       ],
       "conversionMethod": "pd.DataFrame",
       "ref": "81a828e3-fa1a-4b22-9e78-a2001403b73a",
       "rows": [
        [
         "0",
         "2023",
         "1",
         "A Coru�a",
         "Am�rica",
         "Argentina",
         "295.0",
         "3098,0",
         "10,5"
        ],
        [
         "1",
         "2023",
         "1",
         "A Coru�a",
         "Am�rica",
         "Brasil",
         "498.0",
         "4084,0",
         "8,2"
        ],
        [
         "2",
         "2023",
         "1",
         "A Coru�a",
         "Am�rica",
         "Canad�",
         "1385.0",
         "15512,0",
         "11,2"
        ],
        [
         "3",
         "2023",
         "1",
         "A Coru�a",
         "Am�rica",
         "Chile",
         "58.0",
         "505,0",
         "8,7"
        ],
        [
         "4",
         "2023",
         "1",
         "A Coru�a",
         "Am�rica",
         "Colombia",
         "370.0",
         "4662,0",
         "12,6"
        ],
        [
         "5",
         "2023",
         "1",
         "A Coru�a",
         "Am�rica",
         "Estados Unidos de Am�rica",
         "1559.0",
         "19332,0",
         "12,4"
        ],
        [
         "6",
         "2023",
         "1",
         "A Coru�a",
         "Am�rica",
         "M�xico",
         "334.0",
         "2605,0",
         "7,8"
        ],
        [
         "7",
         "2023",
         "1",
         "A Coru�a",
         "Am�rica",
         "Panam�",
         "44.0",
         "629,0",
         "14,3"
        ],
        [
         "8",
         "2023",
         "1",
         "A Coru�a",
         "Am�rica",
         "Per�",
         "73.0",
         "847,0",
         "11,6"
        ],
        [
         "9",
         "2023",
         "1",
         "A Coru�a",
         "Am�rica",
         "Uruguay",
         "62.0",
         "800,0",
         "12,9"
        ],
        [
         "10",
         "2023",
         "1",
         "A Coru�a",
         "Am�rica",
         "Venezuela",
         "187.0",
         "2712,0",
         "14,5"
        ],
        [
         "11",
         "2023",
         "1",
         "A Coru�a",
         "Asia",
         "China",
         "155.0",
         "1023,0",
         "6,6"
        ],
        [
         "12",
         "2023",
         "1",
         "A Coru�a",
         "Asia",
         "Corea",
         "62.0",
         "434,0",
         "7,0"
        ],
        [
         "13",
         "2023",
         "1",
         "A Coru�a",
         "Asia",
         "Emiratos �rabes Unidos",
         "36.0",
         "313,0",
         "8,7"
        ],
        [
         "14",
         "2023",
         "1",
         "A Coru�a",
         "Asia",
         "Filipinas",
         "298.0",
         "2026,0",
         "6,8"
        ],
        [
         "15",
         "2023",
         "1",
         "A Coru�a",
         "Asia",
         "India",
         "61.0",
         "336,0",
         "5,5"
        ],
        [
         "16",
         "2023",
         "1",
         "A Coru�a",
         "Asia",
         "Indonesia",
         "91.0",
         "701,0",
         "7,7"
        ],
        [
         "17",
         "2023",
         "1",
         "A Coru�a",
         "Asia",
         "Jap�n",
         "76.0",
         "798,0",
         "10,5"
        ],
        [
         "18",
         "2023",
         "1",
         "A Coru�a",
         "Asia",
         "Tailandia",
         "44.0",
         "211,0",
         "4,8"
        ],
        [
         "19",
         "2023",
         "1",
         "A Coru�a",
         "Europa",
         "Alemania",
         "2570.0",
         "31097,0",
         "12,1"
        ],
        [
         "20",
         "2023",
         "1",
         "A Coru�a",
         "Europa",
         "Andorra",
         "46.0",
         "377,0",
         "8,2"
        ],
        [
         "21",
         "2023",
         "1",
         "A Coru�a",
         "Europa",
         "Austria",
         "933.0",
         "9890,0",
         "10,6"
        ],
        [
         "22",
         "2023",
         "1",
         "A Coru�a",
         "Europa",
         "Bulgaria",
         "33.0",
         "205,0",
         "6,2"
        ],
        [
         "23",
         "2023",
         "1",
         "A Coru�a",
         "Europa",
         "B�lgica",
         "961.0",
         "9322,0",
         "9,7"
        ],
        [
         "24",
         "2023",
         "1",
         "A Coru�a",
         "Europa",
         "Croacia",
         "80.0",
         "488,0",
         "6,1"
        ],
        [
         "25",
         "2023",
         "1",
         "A Coru�a",
         "Europa",
         "Dinamarca",
         "538.0",
         "6187,0",
         "11,5"
        ],
        [
         "26",
         "2023",
         "1",
         "A Coru�a",
         "Europa",
         "Estonia",
         "56.0",
         "560,0",
         "10,0"
        ],
        [
         "27",
         "2023",
         "1",
         "A Coru�a",
         "Europa",
         "Finlandia",
         "75.0",
         "555,0",
         "7,4"
        ],
        [
         "28",
         "2023",
         "1",
         "A Coru�a",
         "Europa",
         "Francia",
         "3609.0",
         "38616,0",
         "10,7"
        ],
        [
         "29",
         "2023",
         "1",
         "A Coru�a",
         "Europa",
         "Grecia",
         "60.0",
         "390,0",
         "6,5"
        ],
        [
         "30",
         "2023",
         "1",
         "A Coru�a",
         "Europa",
         "Hungr�a",
         "58.0",
         "464,0",
         "8,0"
        ],
        [
         "31",
         "2023",
         "1",
         "A Coru�a",
         "Europa",
         "Irlanda",
         "432.0",
         "3715,0",
         "8,6"
        ],
        [
         "32",
         "2023",
         "1",
         "A Coru�a",
         "Europa",
         "Italia",
         "1404.0",
         "11653,0",
         "8,3"
        ],
        [
         "33",
         "2023",
         "1",
         "A Coru�a",
         "Europa",
         "Letonia",
         "67.0",
         "704,0",
         "10,5"
        ],
        [
         "34",
         "2023",
         "1",
         "A Coru�a",
         "Europa",
         "Liechtenstein",
         "122.0",
         "988,0",
         "8,1"
        ],
        [
         "35",
         "2023",
         "1",
         "A Coru�a",
         "Europa",
         "Lituania",
         "55.0",
         "369,0",
         "6,7"
        ],
        [
         "36",
         "2023",
         "1",
         "A Coru�a",
         "Europa",
         "Luxemburgo",
         "743.0",
         "8322,0",
         "11,2"
        ],
        [
         "37",
         "2023",
         "1",
         "A Coru�a",
         "Europa",
         "Noruega",
         "106.0",
         "943,0",
         "8,9"
        ],
        [
         "38",
         "2023",
         "1",
         "A Coru�a",
         "Europa",
         "Pa�ses Bajos",
         "2796.0",
         "29917,0",
         "10,7"
        ],
        [
         "39",
         "2023",
         "1",
         "A Coru�a",
         "Europa",
         "Polonia",
         "612.0",
         "4529,0",
         "7,4"
        ],
        [
         "40",
         "2023",
         "1",
         "A Coru�a",
         "Europa",
         "Portugal",
         "2961.0",
         "15693,0",
         "5,3"
        ],
        [
         "41",
         "2023",
         "1",
         "A Coru�a",
         "Europa",
         "Reino Unido",
         "3285.0",
         "32193,0",
         "9,8"
        ],
        [
         "42",
         "2023",
         "1",
         "A Coru�a",
         "Europa",
         "Rep�blica Checa",
         "53.0",
         "567,0",
         "10,7"
        ],
        [
         "43",
         "2023",
         "1",
         "A Coru�a",
         "Europa",
         "Ruman�a",
         "87.0",
         "583,0",
         "6,7"
        ],
        [
         "44",
         "2023",
         "1",
         "A Coru�a",
         "Europa",
         "Rusia",
         "121.0",
         "750,0",
         "6,2"
        ],
        [
         "45",
         "2023",
         "1",
         "A Coru�a",
         "Europa",
         "Suecia",
         "752.0",
         "7971,0",
         "10,6"
        ],
        [
         "46",
         "2023",
         "1",
         "A Coru�a",
         "Europa",
         "Suiza",
         "2749.0",
         "31614,0",
         "11,5"
        ],
        [
         "47",
         "2023",
         "1",
         "A Coru�a",
         "Europa",
         "Turqu�a",
         "130.0",
         "611,0",
         "4,7"
        ],
        [
         "48",
         "2023",
         "1",
         "A Coru�a",
         "�frica",
         "Argelia",
         "30.0",
         "447,0",
         "14,9"
        ],
        [
         "49",
         "2023",
         "1",
         "A Coru�a",
         "�frica",
         "Marruecos",
         "189.0",
         "1758,0",
         "9,3"
        ]
       ],
       "shape": {
        "columns": 8,
        "rows": 68088
       }
      },
      "text/html": [
       "<div>\n",
       "<style scoped>\n",
       "    .dataframe tbody tr th:only-of-type {\n",
       "        vertical-align: middle;\n",
       "    }\n",
       "\n",
       "    .dataframe tbody tr th {\n",
       "        vertical-align: top;\n",
       "    }\n",
       "\n",
       "    .dataframe thead th {\n",
       "        text-align: right;\n",
       "    }\n",
       "</style>\n",
       "<table border=\"1\" class=\"dataframe\">\n",
       "  <thead>\n",
       "    <tr style=\"text-align: right;\">\n",
       "      <th></th>\n",
       "      <th>AÑO</th>\n",
       "      <th>MES</th>\n",
       "      <th>PROVINCIA_DESTINO</th>\n",
       "      <th>CONTINENTE_ORIGEN</th>\n",
       "      <th>PAIS_ORIGEN</th>\n",
       "      <th>TURISTAS</th>\n",
       "      <th>PERNOCTACIONES</th>\n",
       "      <th>ESTANCIA_MEDIA</th>\n",
       "    </tr>\n",
       "  </thead>\n",
       "  <tbody>\n",
       "    <tr>\n",
       "      <th>0</th>\n",
       "      <td>2023</td>\n",
       "      <td>1</td>\n",
       "      <td>A Coru�a</td>\n",
       "      <td>Am�rica</td>\n",
       "      <td>Argentina</td>\n",
       "      <td>295.0</td>\n",
       "      <td>3098,0</td>\n",
       "      <td>10,5</td>\n",
       "    </tr>\n",
       "    <tr>\n",
       "      <th>1</th>\n",
       "      <td>2023</td>\n",
       "      <td>1</td>\n",
       "      <td>A Coru�a</td>\n",
       "      <td>Am�rica</td>\n",
       "      <td>Brasil</td>\n",
       "      <td>498.0</td>\n",
       "      <td>4084,0</td>\n",
       "      <td>8,2</td>\n",
       "    </tr>\n",
       "    <tr>\n",
       "      <th>2</th>\n",
       "      <td>2023</td>\n",
       "      <td>1</td>\n",
       "      <td>A Coru�a</td>\n",
       "      <td>Am�rica</td>\n",
       "      <td>Canad�</td>\n",
       "      <td>1385.0</td>\n",
       "      <td>15512,0</td>\n",
       "      <td>11,2</td>\n",
       "    </tr>\n",
       "    <tr>\n",
       "      <th>3</th>\n",
       "      <td>2023</td>\n",
       "      <td>1</td>\n",
       "      <td>A Coru�a</td>\n",
       "      <td>Am�rica</td>\n",
       "      <td>Chile</td>\n",
       "      <td>58.0</td>\n",
       "      <td>505,0</td>\n",
       "      <td>8,7</td>\n",
       "    </tr>\n",
       "    <tr>\n",
       "      <th>4</th>\n",
       "      <td>2023</td>\n",
       "      <td>1</td>\n",
       "      <td>A Coru�a</td>\n",
       "      <td>Am�rica</td>\n",
       "      <td>Colombia</td>\n",
       "      <td>370.0</td>\n",
       "      <td>4662,0</td>\n",
       "      <td>12,6</td>\n",
       "    </tr>\n",
       "    <tr>\n",
       "      <th>...</th>\n",
       "      <td>...</td>\n",
       "      <td>...</td>\n",
       "      <td>...</td>\n",
       "      <td>...</td>\n",
       "      <td>...</td>\n",
       "      <td>...</td>\n",
       "      <td>...</td>\n",
       "      <td>...</td>\n",
       "    </tr>\n",
       "    <tr>\n",
       "      <th>68083</th>\n",
       "      <td>2024</td>\n",
       "      <td>12</td>\n",
       "      <td>�vila</td>\n",
       "      <td>Europa</td>\n",
       "      <td>Reino Unido</td>\n",
       "      <td>192.0</td>\n",
       "      <td>1536,0</td>\n",
       "      <td>8,0</td>\n",
       "    </tr>\n",
       "    <tr>\n",
       "      <th>68084</th>\n",
       "      <td>2024</td>\n",
       "      <td>12</td>\n",
       "      <td>�vila</td>\n",
       "      <td>Europa</td>\n",
       "      <td>Ruman�a</td>\n",
       "      <td>135.0</td>\n",
       "      <td>2160,0</td>\n",
       "      <td>16,0</td>\n",
       "    </tr>\n",
       "    <tr>\n",
       "      <th>68085</th>\n",
       "      <td>2024</td>\n",
       "      <td>12</td>\n",
       "      <td>�vila</td>\n",
       "      <td>Europa</td>\n",
       "      <td>Suecia</td>\n",
       "      <td>296.0</td>\n",
       "      <td>5180,0</td>\n",
       "      <td>17,5</td>\n",
       "    </tr>\n",
       "    <tr>\n",
       "      <th>68086</th>\n",
       "      <td>2024</td>\n",
       "      <td>12</td>\n",
       "      <td>�vila</td>\n",
       "      <td>Europa</td>\n",
       "      <td>Suiza</td>\n",
       "      <td>98.0</td>\n",
       "      <td>490,0</td>\n",
       "      <td>5,0</td>\n",
       "    </tr>\n",
       "    <tr>\n",
       "      <th>68087</th>\n",
       "      <td>2024</td>\n",
       "      <td>12</td>\n",
       "      <td>�vila</td>\n",
       "      <td>�frica</td>\n",
       "      <td>Marruecos</td>\n",
       "      <td>145.0</td>\n",
       "      <td>1189,0</td>\n",
       "      <td>8,2</td>\n",
       "    </tr>\n",
       "  </tbody>\n",
       "</table>\n",
       "<p>68088 rows × 8 columns</p>\n",
       "</div>"
      ],
      "text/plain": [
       "        AÑO  MES PROVINCIA_DESTINO CONTINENTE_ORIGEN  PAIS_ORIGEN  TURISTAS  \\\n",
       "0      2023    1          A Coru�a           Am�rica    Argentina     295.0   \n",
       "1      2023    1          A Coru�a           Am�rica       Brasil     498.0   \n",
       "2      2023    1          A Coru�a           Am�rica       Canad�    1385.0   \n",
       "3      2023    1          A Coru�a           Am�rica        Chile      58.0   \n",
       "4      2023    1          A Coru�a           Am�rica     Colombia     370.0   \n",
       "...     ...  ...               ...               ...          ...       ...   \n",
       "68083  2024   12             �vila            Europa  Reino Unido     192.0   \n",
       "68084  2024   12             �vila            Europa      Ruman�a     135.0   \n",
       "68085  2024   12             �vila            Europa       Suecia     296.0   \n",
       "68086  2024   12             �vila            Europa        Suiza      98.0   \n",
       "68087  2024   12             �vila            �frica    Marruecos     145.0   \n",
       "\n",
       "      PERNOCTACIONES ESTANCIA_MEDIA  \n",
       "0             3098,0           10,5  \n",
       "1             4084,0            8,2  \n",
       "2            15512,0           11,2  \n",
       "3              505,0            8,7  \n",
       "4             4662,0           12,6  \n",
       "...              ...            ...  \n",
       "68083         1536,0            8,0  \n",
       "68084         2160,0           16,0  \n",
       "68085         5180,0           17,5  \n",
       "68086          490,0            5,0  \n",
       "68087         1189,0            8,2  \n",
       "\n",
       "[68088 rows x 8 columns]"
      ]
     },
     "execution_count": 13,
     "metadata": {},
     "output_type": "execute_result"
    }
   ],
   "source": [
    "df_turismo"
   ]
  },
  {
   "cell_type": "code",
   "execution_count": null,
   "id": "d58da6fd",
   "metadata": {},
   "outputs": [],
   "source": [
    "df_tendencia = df_tendencia.copy()       \n",
    "\n",
    "# Filtrar por Bizkaia y categoría \"Naturaleza\"\n",
    "df_bizkaia_valoraciones = df_tendencia[\n",
    "    (df_tendencia['PROVINCIA'].str.lower() == 'bizkaia') &\n",
    "    (df_tendencia['CATEGORIA'].str.lower() == 'naturaleza')\n",
    "]"
   ]
  },
  {
   "cell_type": "code",
   "execution_count": 9,
   "id": "7bfd19a5",
   "metadata": {},
   "outputs": [
    {
     "data": {
      "application/vnd.microsoft.datawrangler.viewer.v0+json": {
       "columns": [
        {
         "name": "index",
         "rawType": "int64",
         "type": "integer"
        },
        {
         "name": "CATEGORIA",
         "rawType": "object",
         "type": "string"
        },
        {
         "name": "CCAA",
         "rawType": "object",
         "type": "string"
        },
        {
         "name": "PROVINCIA",
         "rawType": "object",
         "type": "string"
        },
        {
         "name": "VALORACION_POR_CATEGORIA",
         "rawType": "float64",
         "type": "float"
        },
        {
         "name": "TOTAL_OPINIONES_CATEGORIA",
         "rawType": "int64",
         "type": "integer"
        },
        {
         "name": "VALORACION_GENERAL",
         "rawType": "float64",
         "type": "float"
        },
        {
         "name": "Unnamed: 6",
         "rawType": "float64",
         "type": "float"
        },
        {
         "name": "Unnamed: 7",
         "rawType": "float64",
         "type": "float"
        },
        {
         "name": "Unnamed: 8",
         "rawType": "float64",
         "type": "float"
        },
        {
         "name": "Unnamed: 9",
         "rawType": "float64",
         "type": "float"
        },
        {
         "name": "Unnamed: 10",
         "rawType": "float64",
         "type": "float"
        },
        {
         "name": "Unnamed: 11",
         "rawType": "float64",
         "type": "float"
        },
        {
         "name": "Err:501",
         "rawType": "float64",
         "type": "float"
        }
       ],
       "conversionMethod": "pd.DataFrame",
       "ref": "af40e9c7-cbae-4b76-b1a5-cb7885a349f1",
       "rows": [
        [
         "47",
         "Naturaleza",
         "Pais Vasco",
         "Bizkaia",
         "4.45",
         "3085",
         "4.36",
         null,
         null,
         null,
         null,
         null,
         null,
         null
        ]
       ],
       "shape": {
        "columns": 13,
        "rows": 1
       }
      },
      "text/html": [
       "<div>\n",
       "<style scoped>\n",
       "    .dataframe tbody tr th:only-of-type {\n",
       "        vertical-align: middle;\n",
       "    }\n",
       "\n",
       "    .dataframe tbody tr th {\n",
       "        vertical-align: top;\n",
       "    }\n",
       "\n",
       "    .dataframe thead th {\n",
       "        text-align: right;\n",
       "    }\n",
       "</style>\n",
       "<table border=\"1\" class=\"dataframe\">\n",
       "  <thead>\n",
       "    <tr style=\"text-align: right;\">\n",
       "      <th></th>\n",
       "      <th>CATEGORIA</th>\n",
       "      <th>CCAA</th>\n",
       "      <th>PROVINCIA</th>\n",
       "      <th>VALORACION_POR_CATEGORIA</th>\n",
       "      <th>TOTAL_OPINIONES_CATEGORIA</th>\n",
       "      <th>VALORACION_GENERAL</th>\n",
       "      <th>Unnamed: 6</th>\n",
       "      <th>Unnamed: 7</th>\n",
       "      <th>Unnamed: 8</th>\n",
       "      <th>Unnamed: 9</th>\n",
       "      <th>Unnamed: 10</th>\n",
       "      <th>Unnamed: 11</th>\n",
       "      <th>Err:501</th>\n",
       "    </tr>\n",
       "  </thead>\n",
       "  <tbody>\n",
       "    <tr>\n",
       "      <th>47</th>\n",
       "      <td>Naturaleza</td>\n",
       "      <td>Pais Vasco</td>\n",
       "      <td>Bizkaia</td>\n",
       "      <td>4.45</td>\n",
       "      <td>3085</td>\n",
       "      <td>4.36</td>\n",
       "      <td>NaN</td>\n",
       "      <td>NaN</td>\n",
       "      <td>NaN</td>\n",
       "      <td>NaN</td>\n",
       "      <td>NaN</td>\n",
       "      <td>NaN</td>\n",
       "      <td>NaN</td>\n",
       "    </tr>\n",
       "  </tbody>\n",
       "</table>\n",
       "</div>"
      ],
      "text/plain": [
       "     CATEGORIA        CCAA PROVINCIA  VALORACION_POR_CATEGORIA  \\\n",
       "47  Naturaleza  Pais Vasco   Bizkaia                      4.45   \n",
       "\n",
       "    TOTAL_OPINIONES_CATEGORIA  VALORACION_GENERAL  Unnamed: 6  Unnamed: 7  \\\n",
       "47                       3085                4.36         NaN         NaN   \n",
       "\n",
       "    Unnamed: 8  Unnamed: 9  Unnamed: 10  Unnamed: 11  Err:501  \n",
       "47         NaN         NaN          NaN          NaN      NaN  "
      ]
     },
     "execution_count": 9,
     "metadata": {},
     "output_type": "execute_result"
    }
   ],
   "source": [
    "df_bizkaia_valoraciones"
   ]
  },
  {
   "cell_type": "code",
   "execution_count": 15,
   "id": "186977cd",
   "metadata": {},
   "outputs": [
    {
     "data": {
      "application/vnd.microsoft.datawrangler.viewer.v0+json": {
       "columns": [
        {
         "name": "index",
         "rawType": "int64",
         "type": "integer"
        },
        {
         "name": "MES",
         "rawType": "int64",
         "type": "integer"
        },
        {
         "name": "PROVINCIA_DESTINO",
         "rawType": "object",
         "type": "string"
        },
        {
         "name": "PAIS_ORIGEN",
         "rawType": "object",
         "type": "string"
        },
        {
         "name": "TURISTAS",
         "rawType": "float64",
         "type": "float"
        }
       ],
       "conversionMethod": "pd.DataFrame",
       "ref": "1834d79a-1923-42b2-8cd5-212cadb6773a",
       "rows": [
        [
         "20561",
         "8",
         "Bizkaia",
         "Francia",
         "22048.0"
        ],
        [
         "11476",
         "5",
         "Bizkaia",
         "Francia",
         "17018.0"
        ],
        [
         "8526",
         "4",
         "Bizkaia",
         "Francia",
         "16568.0"
        ],
        [
         "17502",
         "7",
         "Bizkaia",
         "Francia",
         "15714.0"
        ],
        [
         "26802",
         "10",
         "Bizkaia",
         "Francia",
         "14462.0"
        ],
        [
         "23685",
         "9",
         "Bizkaia",
         "Francia",
         "12911.0"
        ],
        [
         "14491",
         "6",
         "Bizkaia",
         "Francia",
         "12707.0"
        ],
        [
         "26775",
         "10",
         "Bizkaia",
         "Alemania",
         "11978.0"
        ],
        [
         "23659",
         "9",
         "Bizkaia",
         "Alemania",
         "11893.0"
        ],
        [
         "5731",
         "3",
         "Bizkaia",
         "Francia",
         "11884.0"
        ],
        [
         "491",
         "1",
         "Bizkaia",
         "Francia",
         "11427.0"
        ],
        [
         "29979",
         "11",
         "Bizkaia",
         "Francia",
         "11321.0"
        ],
        [
         "20534",
         "8",
         "Bizkaia",
         "Alemania",
         "11189.0"
        ],
        [
         "11449",
         "5",
         "Bizkaia",
         "Alemania",
         "11068.0"
        ],
        [
         "14464",
         "6",
         "Bizkaia",
         "Alemania",
         "10638.0"
        ],
        [
         "8500",
         "4",
         "Bizkaia",
         "Alemania",
         "10443.0"
        ],
        [
         "33010",
         "12",
         "Bizkaia",
         "Francia",
         "10418.0"
        ],
        [
         "17475",
         "7",
         "Bizkaia",
         "Alemania",
         "10217.0"
        ],
        [
         "5707",
         "3",
         "Bizkaia",
         "Alemania",
         "10078.0"
        ],
        [
         "3084",
         "2",
         "Bizkaia",
         "Francia",
         "9598.0"
        ],
        [
         "20572",
         "8",
         "Bizkaia",
         "Italia",
         "8640.0"
        ],
        [
         "20591",
         "8",
         "Bizkaia",
         "Pa�ses Bajos",
         "8236.0"
        ],
        [
         "26833",
         "10",
         "Bizkaia",
         "Pa�ses Bajos",
         "8230.0"
        ],
        [
         "467",
         "1",
         "Bizkaia",
         "Alemania",
         "7691.0"
        ],
        [
         "20595",
         "8",
         "Bizkaia",
         "Reino Unido",
         "7657.0"
        ],
        [
         "23712",
         "9",
         "Bizkaia",
         "Pa�ses Bajos",
         "7438.0"
        ],
        [
         "17527",
         "7",
         "Bizkaia",
         "Pa�ses Bajos",
         "7263.0"
        ],
        [
         "17531",
         "7",
         "Bizkaia",
         "Reino Unido",
         "7177.0"
        ],
        [
         "11503",
         "5",
         "Bizkaia",
         "Pa�ses Bajos",
         "7166.0"
        ],
        [
         "32983",
         "12",
         "Bizkaia",
         "Alemania",
         "6953.0"
        ],
        [
         "29954",
         "11",
         "Bizkaia",
         "Alemania",
         "6879.0"
        ],
        [
         "14520",
         "6",
         "Bizkaia",
         "Pa�ses Bajos",
         "6788.0"
        ],
        [
         "3060",
         "2",
         "Bizkaia",
         "Alemania",
         "6734.0"
        ],
        [
         "23716",
         "9",
         "Bizkaia",
         "Reino Unido",
         "6613.0"
        ],
        [
         "14524",
         "6",
         "Bizkaia",
         "Reino Unido",
         "6450.0"
        ],
        [
         "8550",
         "4",
         "Bizkaia",
         "Pa�ses Bajos",
         "6218.0"
        ],
        [
         "26837",
         "10",
         "Bizkaia",
         "Reino Unido",
         "6092.0"
        ],
        [
         "11507",
         "5",
         "Bizkaia",
         "Reino Unido",
         "5955.0"
        ],
        [
         "23681",
         "9",
         "Bizkaia",
         "Estados Unidos de Am�rica",
         "5712.0"
        ],
        [
         "17498",
         "7",
         "Bizkaia",
         "Estados Unidos de Am�rica",
         "5196.0"
        ],
        [
         "5754",
         "3",
         "Bizkaia",
         "Pa�ses Bajos",
         "5064.0"
        ],
        [
         "11472",
         "5",
         "Bizkaia",
         "Estados Unidos de Am�rica",
         "4966.0"
        ],
        [
         "8554",
         "4",
         "Bizkaia",
         "Reino Unido",
         "4949.0"
        ],
        [
         "30005",
         "11",
         "Bizkaia",
         "Pa�ses Bajos",
         "4841.0"
        ],
        [
         "14487",
         "6",
         "Bizkaia",
         "Estados Unidos de Am�rica",
         "4485.0"
        ],
        [
         "33034",
         "12",
         "Bizkaia",
         "Pa�ses Bajos",
         "4439.0"
        ],
        [
         "17486",
         "7",
         "Bizkaia",
         "B�lgica",
         "4292.0"
        ],
        [
         "5758",
         "3",
         "Bizkaia",
         "Reino Unido",
         "4201.0"
        ],
        [
         "17512",
         "7",
         "Bizkaia",
         "Italia",
         "4042.0"
        ],
        [
         "26798",
         "10",
         "Bizkaia",
         "Estados Unidos de Am�rica",
         "3918.0"
        ]
       ],
       "shape": {
        "columns": 4,
        "rows": 838
       }
      },
      "text/html": [
       "<div>\n",
       "<style scoped>\n",
       "    .dataframe tbody tr th:only-of-type {\n",
       "        vertical-align: middle;\n",
       "    }\n",
       "\n",
       "    .dataframe tbody tr th {\n",
       "        vertical-align: top;\n",
       "    }\n",
       "\n",
       "    .dataframe thead th {\n",
       "        text-align: right;\n",
       "    }\n",
       "</style>\n",
       "<table border=\"1\" class=\"dataframe\">\n",
       "  <thead>\n",
       "    <tr style=\"text-align: right;\">\n",
       "      <th></th>\n",
       "      <th>MES</th>\n",
       "      <th>PROVINCIA_DESTINO</th>\n",
       "      <th>PAIS_ORIGEN</th>\n",
       "      <th>TURISTAS</th>\n",
       "    </tr>\n",
       "  </thead>\n",
       "  <tbody>\n",
       "    <tr>\n",
       "      <th>20561</th>\n",
       "      <td>8</td>\n",
       "      <td>Bizkaia</td>\n",
       "      <td>Francia</td>\n",
       "      <td>22048.0</td>\n",
       "    </tr>\n",
       "    <tr>\n",
       "      <th>11476</th>\n",
       "      <td>5</td>\n",
       "      <td>Bizkaia</td>\n",
       "      <td>Francia</td>\n",
       "      <td>17018.0</td>\n",
       "    </tr>\n",
       "    <tr>\n",
       "      <th>8526</th>\n",
       "      <td>4</td>\n",
       "      <td>Bizkaia</td>\n",
       "      <td>Francia</td>\n",
       "      <td>16568.0</td>\n",
       "    </tr>\n",
       "    <tr>\n",
       "      <th>17502</th>\n",
       "      <td>7</td>\n",
       "      <td>Bizkaia</td>\n",
       "      <td>Francia</td>\n",
       "      <td>15714.0</td>\n",
       "    </tr>\n",
       "    <tr>\n",
       "      <th>26802</th>\n",
       "      <td>10</td>\n",
       "      <td>Bizkaia</td>\n",
       "      <td>Francia</td>\n",
       "      <td>14462.0</td>\n",
       "    </tr>\n",
       "    <tr>\n",
       "      <th>...</th>\n",
       "      <td>...</td>\n",
       "      <td>...</td>\n",
       "      <td>...</td>\n",
       "      <td>...</td>\n",
       "    </tr>\n",
       "    <tr>\n",
       "      <th>3103</th>\n",
       "      <td>2</td>\n",
       "      <td>Bizkaia</td>\n",
       "      <td>Pakist�n</td>\n",
       "      <td>30.0</td>\n",
       "    </tr>\n",
       "    <tr>\n",
       "      <th>26846</th>\n",
       "      <td>10</td>\n",
       "      <td>Bizkaia</td>\n",
       "      <td>Sud�frica</td>\n",
       "      <td>30.0</td>\n",
       "    </tr>\n",
       "    <tr>\n",
       "      <th>29972</th>\n",
       "      <td>11</td>\n",
       "      <td>Bizkaia</td>\n",
       "      <td>Egipto</td>\n",
       "      <td>30.0</td>\n",
       "    </tr>\n",
       "    <tr>\n",
       "      <th>14465</th>\n",
       "      <td>6</td>\n",
       "      <td>Bizkaia</td>\n",
       "      <td>Andorra</td>\n",
       "      <td>30.0</td>\n",
       "    </tr>\n",
       "    <tr>\n",
       "      <th>14530</th>\n",
       "      <td>6</td>\n",
       "      <td>Bizkaia</td>\n",
       "      <td>Serbia</td>\n",
       "      <td>30.0</td>\n",
       "    </tr>\n",
       "  </tbody>\n",
       "</table>\n",
       "<p>838 rows × 4 columns</p>\n",
       "</div>"
      ],
      "text/plain": [
       "       MES PROVINCIA_DESTINO PAIS_ORIGEN  TURISTAS\n",
       "20561    8           Bizkaia     Francia   22048.0\n",
       "11476    5           Bizkaia     Francia   17018.0\n",
       "8526     4           Bizkaia     Francia   16568.0\n",
       "17502    7           Bizkaia     Francia   15714.0\n",
       "26802   10           Bizkaia     Francia   14462.0\n",
       "...    ...               ...         ...       ...\n",
       "3103     2           Bizkaia    Pakist�n      30.0\n",
       "26846   10           Bizkaia   Sud�frica      30.0\n",
       "29972   11           Bizkaia      Egipto      30.0\n",
       "14465    6           Bizkaia     Andorra      30.0\n",
       "14530    6           Bizkaia      Serbia      30.0\n",
       "\n",
       "[838 rows x 4 columns]"
      ]
     },
     "execution_count": 15,
     "metadata": {},
     "output_type": "execute_result"
    }
   ],
   "source": [
    "turistas_2024 = df_turismo[df_turismo[\"AÑO\"]>=2024]\n",
    "turistas_2024= pd.DataFrame(turistas_2024)\n",
    "\n",
    "#Agrupo los turistas por provincias\n",
    "agrupado= turistas_2024.groupby([\"MES\", \"PROVINCIA_DESTINO\", \"PAIS_ORIGEN\"])[\"TURISTAS\"].sum().reset_index()\n",
    "\n",
    "#Codigo para ir sacando las graficas por las provincias que me interesan para el estudio\n",
    "\n",
    "provincia_Bizkaia= agrupado[agrupado[\"PROVINCIA_DESTINO\"]== \"Bizkaia\"]\n",
    "provincia_Bizkaia.sort_values([\"TURISTAS\"], ascending=False)"
   ]
  },
  {
   "cell_type": "code",
   "execution_count": null,
   "id": "787eef42",
   "metadata": {},
   "outputs": [],
   "source": []
  },
  {
   "cell_type": "code",
   "execution_count": null,
   "id": "4a506ef5",
   "metadata": {},
   "outputs": [],
   "source": []
  }
 ],
 "metadata": {
  "kernelspec": {
   "display_name": "Python 3",
   "language": "python",
   "name": "python3"
  },
  "language_info": {
   "codemirror_mode": {
    "name": "ipython",
    "version": 3
   },
   "file_extension": ".py",
   "mimetype": "text/x-python",
   "name": "python",
   "nbconvert_exporter": "python",
   "pygments_lexer": "ipython3",
   "version": "3.11.9"
  }
 },
 "nbformat": 4,
 "nbformat_minor": 5
}
