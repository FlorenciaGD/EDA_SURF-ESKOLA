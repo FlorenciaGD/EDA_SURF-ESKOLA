{
 "cells": [
  {
   "cell_type": "code",
   "execution_count": null,
   "metadata": {},
   "outputs": [],
   "source": []
  },
  {
   "cell_type": "markdown",
   "metadata": {},
   "source": [
    "## Análisis Descriptivo:\n",
    "- Distribución geográfica: Investigar desde qué países o regiones vienen los turistas. Crear un mapa de calor de las llegadas por región o país puede ayudarte a visualizar esta información.\n",
    "- Estacionalidad: Analiza si hay picos de turistas en determinadas fechas (por ejemplo, durante el verano o en fechas festivas). Esto puede ayudarte a entender la estacionalidad del turismo en las regiones.\n",
    "- Preferencias de los turistas: Realiza un análisis de qué actividades son las más populares en Cantabria y Euskadi. ¿Hay un interés particular en la gastronomía, cultura o naturaleza?\n",
    "- Demografía de los turistas: Analiza las edades y los géneros predominantes para identificar si hay un perfil específico al que se debe enfocar la campaña."
   ]
  }
 ],
 "metadata": {
  "language_info": {
   "name": "python"
  }
 },
 "nbformat": 4,
 "nbformat_minor": 2
}
