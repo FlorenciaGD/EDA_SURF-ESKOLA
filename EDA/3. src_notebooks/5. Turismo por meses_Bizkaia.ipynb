{
 "cells": [
  {
   "cell_type": "code",
   "execution_count": 6,
   "metadata": {},
   "outputs": [],
   "source": [
    "import requests\n",
    "import zipfile\n",
    "import pandas as pd\n",
    "import numpy as np\n",
    "import matplotlib.pyplot as plt\n",
    "import seaborn as sns"
   ]
  },
  {
   "cell_type": "code",
   "execution_count": 8,
   "metadata": {},
   "outputs": [
    {
     "data": {
      "application/vnd.microsoft.datawrangler.viewer.v0+json": {
       "columns": [
        {
         "name": "index",
         "rawType": "int64",
         "type": "integer"
        },
        {
         "name": "AÑO",
         "rawType": "int64",
         "type": "integer"
        },
        {
         "name": "MES",
         "rawType": "int64",
         "type": "integer"
        },
        {
         "name": "PROVINCIA_DESTINO",
         "rawType": "object",
         "type": "string"
        },
        {
         "name": "CONTINENTE_ORIGEN",
         "rawType": "object",
         "type": "string"
        },
        {
         "name": "PAIS_ORIGEN",
         "rawType": "object",
         "type": "string"
        },
        {
         "name": "TURISTAS",
         "rawType": "float64",
         "type": "float"
        },
        {
         "name": "PERNOCTACIONES",
         "rawType": "object",
         "type": "string"
        },
        {
         "name": "ESTANCIA_MEDIA",
         "rawType": "object",
         "type": "string"
        }
       ],
       "conversionMethod": "pd.DataFrame",
       "ref": "a53dc3d7-28f0-4de9-884a-01626aee92bd",
       "rows": [
        [
         "0",
         "2023",
         "1",
         "A Coru�a",
         "Am�rica",
         "Argentina",
         "295.0",
         "3098,0",
         "10,5"
        ],
        [
         "1",
         "2023",
         "1",
         "A Coru�a",
         "Am�rica",
         "Brasil",
         "498.0",
         "4084,0",
         "8,2"
        ],
        [
         "2",
         "2023",
         "1",
         "A Coru�a",
         "Am�rica",
         "Canad�",
         "1385.0",
         "15512,0",
         "11,2"
        ],
        [
         "3",
         "2023",
         "1",
         "A Coru�a",
         "Am�rica",
         "Chile",
         "58.0",
         "505,0",
         "8,7"
        ],
        [
         "4",
         "2023",
         "1",
         "A Coru�a",
         "Am�rica",
         "Colombia",
         "370.0",
         "4662,0",
         "12,6"
        ],
        [
         "5",
         "2023",
         "1",
         "A Coru�a",
         "Am�rica",
         "Estados Unidos de Am�rica",
         "1559.0",
         "19332,0",
         "12,4"
        ],
        [
         "6",
         "2023",
         "1",
         "A Coru�a",
         "Am�rica",
         "M�xico",
         "334.0",
         "2605,0",
         "7,8"
        ],
        [
         "7",
         "2023",
         "1",
         "A Coru�a",
         "Am�rica",
         "Panam�",
         "44.0",
         "629,0",
         "14,3"
        ],
        [
         "8",
         "2023",
         "1",
         "A Coru�a",
         "Am�rica",
         "Per�",
         "73.0",
         "847,0",
         "11,6"
        ],
        [
         "9",
         "2023",
         "1",
         "A Coru�a",
         "Am�rica",
         "Uruguay",
         "62.0",
         "800,0",
         "12,9"
        ],
        [
         "10",
         "2023",
         "1",
         "A Coru�a",
         "Am�rica",
         "Venezuela",
         "187.0",
         "2712,0",
         "14,5"
        ],
        [
         "11",
         "2023",
         "1",
         "A Coru�a",
         "Asia",
         "China",
         "155.0",
         "1023,0",
         "6,6"
        ],
        [
         "12",
         "2023",
         "1",
         "A Coru�a",
         "Asia",
         "Corea",
         "62.0",
         "434,0",
         "7,0"
        ],
        [
         "13",
         "2023",
         "1",
         "A Coru�a",
         "Asia",
         "Emiratos �rabes Unidos",
         "36.0",
         "313,0",
         "8,7"
        ],
        [
         "14",
         "2023",
         "1",
         "A Coru�a",
         "Asia",
         "Filipinas",
         "298.0",
         "2026,0",
         "6,8"
        ],
        [
         "15",
         "2023",
         "1",
         "A Coru�a",
         "Asia",
         "India",
         "61.0",
         "336,0",
         "5,5"
        ],
        [
         "16",
         "2023",
         "1",
         "A Coru�a",
         "Asia",
         "Indonesia",
         "91.0",
         "701,0",
         "7,7"
        ],
        [
         "17",
         "2023",
         "1",
         "A Coru�a",
         "Asia",
         "Jap�n",
         "76.0",
         "798,0",
         "10,5"
        ],
        [
         "18",
         "2023",
         "1",
         "A Coru�a",
         "Asia",
         "Tailandia",
         "44.0",
         "211,0",
         "4,8"
        ],
        [
         "19",
         "2023",
         "1",
         "A Coru�a",
         "Europa",
         "Alemania",
         "2570.0",
         "31097,0",
         "12,1"
        ],
        [
         "20",
         "2023",
         "1",
         "A Coru�a",
         "Europa",
         "Andorra",
         "46.0",
         "377,0",
         "8,2"
        ],
        [
         "21",
         "2023",
         "1",
         "A Coru�a",
         "Europa",
         "Austria",
         "933.0",
         "9890,0",
         "10,6"
        ],
        [
         "22",
         "2023",
         "1",
         "A Coru�a",
         "Europa",
         "Bulgaria",
         "33.0",
         "205,0",
         "6,2"
        ],
        [
         "23",
         "2023",
         "1",
         "A Coru�a",
         "Europa",
         "B�lgica",
         "961.0",
         "9322,0",
         "9,7"
        ],
        [
         "24",
         "2023",
         "1",
         "A Coru�a",
         "Europa",
         "Croacia",
         "80.0",
         "488,0",
         "6,1"
        ],
        [
         "25",
         "2023",
         "1",
         "A Coru�a",
         "Europa",
         "Dinamarca",
         "538.0",
         "6187,0",
         "11,5"
        ],
        [
         "26",
         "2023",
         "1",
         "A Coru�a",
         "Europa",
         "Estonia",
         "56.0",
         "560,0",
         "10,0"
        ],
        [
         "27",
         "2023",
         "1",
         "A Coru�a",
         "Europa",
         "Finlandia",
         "75.0",
         "555,0",
         "7,4"
        ],
        [
         "28",
         "2023",
         "1",
         "A Coru�a",
         "Europa",
         "Francia",
         "3609.0",
         "38616,0",
         "10,7"
        ],
        [
         "29",
         "2023",
         "1",
         "A Coru�a",
         "Europa",
         "Grecia",
         "60.0",
         "390,0",
         "6,5"
        ],
        [
         "30",
         "2023",
         "1",
         "A Coru�a",
         "Europa",
         "Hungr�a",
         "58.0",
         "464,0",
         "8,0"
        ],
        [
         "31",
         "2023",
         "1",
         "A Coru�a",
         "Europa",
         "Irlanda",
         "432.0",
         "3715,0",
         "8,6"
        ],
        [
         "32",
         "2023",
         "1",
         "A Coru�a",
         "Europa",
         "Italia",
         "1404.0",
         "11653,0",
         "8,3"
        ],
        [
         "33",
         "2023",
         "1",
         "A Coru�a",
         "Europa",
         "Letonia",
         "67.0",
         "704,0",
         "10,5"
        ],
        [
         "34",
         "2023",
         "1",
         "A Coru�a",
         "Europa",
         "Liechtenstein",
         "122.0",
         "988,0",
         "8,1"
        ],
        [
         "35",
         "2023",
         "1",
         "A Coru�a",
         "Europa",
         "Lituania",
         "55.0",
         "369,0",
         "6,7"
        ],
        [
         "36",
         "2023",
         "1",
         "A Coru�a",
         "Europa",
         "Luxemburgo",
         "743.0",
         "8322,0",
         "11,2"
        ],
        [
         "37",
         "2023",
         "1",
         "A Coru�a",
         "Europa",
         "Noruega",
         "106.0",
         "943,0",
         "8,9"
        ],
        [
         "38",
         "2023",
         "1",
         "A Coru�a",
         "Europa",
         "Pa�ses Bajos",
         "2796.0",
         "29917,0",
         "10,7"
        ],
        [
         "39",
         "2023",
         "1",
         "A Coru�a",
         "Europa",
         "Polonia",
         "612.0",
         "4529,0",
         "7,4"
        ],
        [
         "40",
         "2023",
         "1",
         "A Coru�a",
         "Europa",
         "Portugal",
         "2961.0",
         "15693,0",
         "5,3"
        ],
        [
         "41",
         "2023",
         "1",
         "A Coru�a",
         "Europa",
         "Reino Unido",
         "3285.0",
         "32193,0",
         "9,8"
        ],
        [
         "42",
         "2023",
         "1",
         "A Coru�a",
         "Europa",
         "Rep�blica Checa",
         "53.0",
         "567,0",
         "10,7"
        ],
        [
         "43",
         "2023",
         "1",
         "A Coru�a",
         "Europa",
         "Ruman�a",
         "87.0",
         "583,0",
         "6,7"
        ],
        [
         "44",
         "2023",
         "1",
         "A Coru�a",
         "Europa",
         "Rusia",
         "121.0",
         "750,0",
         "6,2"
        ],
        [
         "45",
         "2023",
         "1",
         "A Coru�a",
         "Europa",
         "Suecia",
         "752.0",
         "7971,0",
         "10,6"
        ],
        [
         "46",
         "2023",
         "1",
         "A Coru�a",
         "Europa",
         "Suiza",
         "2749.0",
         "31614,0",
         "11,5"
        ],
        [
         "47",
         "2023",
         "1",
         "A Coru�a",
         "Europa",
         "Turqu�a",
         "130.0",
         "611,0",
         "4,7"
        ],
        [
         "48",
         "2023",
         "1",
         "A Coru�a",
         "�frica",
         "Argelia",
         "30.0",
         "447,0",
         "14,9"
        ],
        [
         "49",
         "2023",
         "1",
         "A Coru�a",
         "�frica",
         "Marruecos",
         "189.0",
         "1758,0",
         "9,3"
        ]
       ],
       "shape": {
        "columns": 8,
        "rows": 68088
       }
      },
      "text/html": [
       "<div>\n",
       "<style scoped>\n",
       "    .dataframe tbody tr th:only-of-type {\n",
       "        vertical-align: middle;\n",
       "    }\n",
       "\n",
       "    .dataframe tbody tr th {\n",
       "        vertical-align: top;\n",
       "    }\n",
       "\n",
       "    .dataframe thead th {\n",
       "        text-align: right;\n",
       "    }\n",
       "</style>\n",
       "<table border=\"1\" class=\"dataframe\">\n",
       "  <thead>\n",
       "    <tr style=\"text-align: right;\">\n",
       "      <th></th>\n",
       "      <th>AÑO</th>\n",
       "      <th>MES</th>\n",
       "      <th>PROVINCIA_DESTINO</th>\n",
       "      <th>CONTINENTE_ORIGEN</th>\n",
       "      <th>PAIS_ORIGEN</th>\n",
       "      <th>TURISTAS</th>\n",
       "      <th>PERNOCTACIONES</th>\n",
       "      <th>ESTANCIA_MEDIA</th>\n",
       "    </tr>\n",
       "  </thead>\n",
       "  <tbody>\n",
       "    <tr>\n",
       "      <th>0</th>\n",
       "      <td>2023</td>\n",
       "      <td>1</td>\n",
       "      <td>A Coru�a</td>\n",
       "      <td>Am�rica</td>\n",
       "      <td>Argentina</td>\n",
       "      <td>295.0</td>\n",
       "      <td>3098,0</td>\n",
       "      <td>10,5</td>\n",
       "    </tr>\n",
       "    <tr>\n",
       "      <th>1</th>\n",
       "      <td>2023</td>\n",
       "      <td>1</td>\n",
       "      <td>A Coru�a</td>\n",
       "      <td>Am�rica</td>\n",
       "      <td>Brasil</td>\n",
       "      <td>498.0</td>\n",
       "      <td>4084,0</td>\n",
       "      <td>8,2</td>\n",
       "    </tr>\n",
       "    <tr>\n",
       "      <th>2</th>\n",
       "      <td>2023</td>\n",
       "      <td>1</td>\n",
       "      <td>A Coru�a</td>\n",
       "      <td>Am�rica</td>\n",
       "      <td>Canad�</td>\n",
       "      <td>1385.0</td>\n",
       "      <td>15512,0</td>\n",
       "      <td>11,2</td>\n",
       "    </tr>\n",
       "    <tr>\n",
       "      <th>3</th>\n",
       "      <td>2023</td>\n",
       "      <td>1</td>\n",
       "      <td>A Coru�a</td>\n",
       "      <td>Am�rica</td>\n",
       "      <td>Chile</td>\n",
       "      <td>58.0</td>\n",
       "      <td>505,0</td>\n",
       "      <td>8,7</td>\n",
       "    </tr>\n",
       "    <tr>\n",
       "      <th>4</th>\n",
       "      <td>2023</td>\n",
       "      <td>1</td>\n",
       "      <td>A Coru�a</td>\n",
       "      <td>Am�rica</td>\n",
       "      <td>Colombia</td>\n",
       "      <td>370.0</td>\n",
       "      <td>4662,0</td>\n",
       "      <td>12,6</td>\n",
       "    </tr>\n",
       "    <tr>\n",
       "      <th>...</th>\n",
       "      <td>...</td>\n",
       "      <td>...</td>\n",
       "      <td>...</td>\n",
       "      <td>...</td>\n",
       "      <td>...</td>\n",
       "      <td>...</td>\n",
       "      <td>...</td>\n",
       "      <td>...</td>\n",
       "    </tr>\n",
       "    <tr>\n",
       "      <th>68083</th>\n",
       "      <td>2024</td>\n",
       "      <td>12</td>\n",
       "      <td>�vila</td>\n",
       "      <td>Europa</td>\n",
       "      <td>Reino Unido</td>\n",
       "      <td>192.0</td>\n",
       "      <td>1536,0</td>\n",
       "      <td>8,0</td>\n",
       "    </tr>\n",
       "    <tr>\n",
       "      <th>68084</th>\n",
       "      <td>2024</td>\n",
       "      <td>12</td>\n",
       "      <td>�vila</td>\n",
       "      <td>Europa</td>\n",
       "      <td>Ruman�a</td>\n",
       "      <td>135.0</td>\n",
       "      <td>2160,0</td>\n",
       "      <td>16,0</td>\n",
       "    </tr>\n",
       "    <tr>\n",
       "      <th>68085</th>\n",
       "      <td>2024</td>\n",
       "      <td>12</td>\n",
       "      <td>�vila</td>\n",
       "      <td>Europa</td>\n",
       "      <td>Suecia</td>\n",
       "      <td>296.0</td>\n",
       "      <td>5180,0</td>\n",
       "      <td>17,5</td>\n",
       "    </tr>\n",
       "    <tr>\n",
       "      <th>68086</th>\n",
       "      <td>2024</td>\n",
       "      <td>12</td>\n",
       "      <td>�vila</td>\n",
       "      <td>Europa</td>\n",
       "      <td>Suiza</td>\n",
       "      <td>98.0</td>\n",
       "      <td>490,0</td>\n",
       "      <td>5,0</td>\n",
       "    </tr>\n",
       "    <tr>\n",
       "      <th>68087</th>\n",
       "      <td>2024</td>\n",
       "      <td>12</td>\n",
       "      <td>�vila</td>\n",
       "      <td>�frica</td>\n",
       "      <td>Marruecos</td>\n",
       "      <td>145.0</td>\n",
       "      <td>1189,0</td>\n",
       "      <td>8,2</td>\n",
       "    </tr>\n",
       "  </tbody>\n",
       "</table>\n",
       "<p>68088 rows × 8 columns</p>\n",
       "</div>"
      ],
      "text/plain": [
       "        AÑO  MES PROVINCIA_DESTINO CONTINENTE_ORIGEN  PAIS_ORIGEN  TURISTAS  \\\n",
       "0      2023    1          A Coru�a           Am�rica    Argentina     295.0   \n",
       "1      2023    1          A Coru�a           Am�rica       Brasil     498.0   \n",
       "2      2023    1          A Coru�a           Am�rica       Canad�    1385.0   \n",
       "3      2023    1          A Coru�a           Am�rica        Chile      58.0   \n",
       "4      2023    1          A Coru�a           Am�rica     Colombia     370.0   \n",
       "...     ...  ...               ...               ...          ...       ...   \n",
       "68083  2024   12             �vila            Europa  Reino Unido     192.0   \n",
       "68084  2024   12             �vila            Europa      Ruman�a     135.0   \n",
       "68085  2024   12             �vila            Europa       Suecia     296.0   \n",
       "68086  2024   12             �vila            Europa        Suiza      98.0   \n",
       "68087  2024   12             �vila            �frica    Marruecos     145.0   \n",
       "\n",
       "      PERNOCTACIONES ESTANCIA_MEDIA  \n",
       "0             3098,0           10,5  \n",
       "1             4084,0            8,2  \n",
       "2            15512,0           11,2  \n",
       "3              505,0            8,7  \n",
       "4             4662,0           12,6  \n",
       "...              ...            ...  \n",
       "68083         1536,0            8,0  \n",
       "68084         2160,0           16,0  \n",
       "68085         5180,0           17,5  \n",
       "68086          490,0            5,0  \n",
       "68087         1189,0            8,2  \n",
       "\n",
       "[68088 rows x 8 columns]"
      ]
     },
     "execution_count": 8,
     "metadata": {},
     "output_type": "execute_result"
    }
   ],
   "source": [
    "path = \"C:\\\\Users\\\\Flore\\\\Desktop\\\\EDA_SURF ESKOLA\\\\EDA\\\\archivo_limpio.csv\"\n",
    "turism = pd.read_csv(path, sep=\",\")\n",
    "turism"
   ]
  },
  {
   "cell_type": "code",
   "execution_count": 33,
   "metadata": {},
   "outputs": [
    {
     "data": {
      "application/vnd.microsoft.datawrangler.viewer.v0+json": {
       "columns": [
        {
         "name": "index",
         "rawType": "int64",
         "type": "integer"
        },
        {
         "name": "MES",
         "rawType": "int64",
         "type": "integer"
        },
        {
         "name": "PROVINCIA_DESTINO",
         "rawType": "object",
         "type": "string"
        },
        {
         "name": "PAIS_ORIGEN",
         "rawType": "object",
         "type": "string"
        },
        {
         "name": "TURISTAS",
         "rawType": "float64",
         "type": "float"
        }
       ],
       "conversionMethod": "pd.DataFrame",
       "ref": "57e48de7-8fa2-41d1-8642-d1d525169cf1",
       "rows": [
        [
         "20561",
         "8",
         "Bizkaia",
         "Francia",
         "22048.0"
        ],
        [
         "11476",
         "5",
         "Bizkaia",
         "Francia",
         "17018.0"
        ],
        [
         "8526",
         "4",
         "Bizkaia",
         "Francia",
         "16568.0"
        ],
        [
         "17502",
         "7",
         "Bizkaia",
         "Francia",
         "15714.0"
        ],
        [
         "26802",
         "10",
         "Bizkaia",
         "Francia",
         "14462.0"
        ],
        [
         "23685",
         "9",
         "Bizkaia",
         "Francia",
         "12911.0"
        ],
        [
         "14491",
         "6",
         "Bizkaia",
         "Francia",
         "12707.0"
        ],
        [
         "26775",
         "10",
         "Bizkaia",
         "Alemania",
         "11978.0"
        ],
        [
         "23659",
         "9",
         "Bizkaia",
         "Alemania",
         "11893.0"
        ],
        [
         "5731",
         "3",
         "Bizkaia",
         "Francia",
         "11884.0"
        ],
        [
         "491",
         "1",
         "Bizkaia",
         "Francia",
         "11427.0"
        ],
        [
         "29979",
         "11",
         "Bizkaia",
         "Francia",
         "11321.0"
        ],
        [
         "20534",
         "8",
         "Bizkaia",
         "Alemania",
         "11189.0"
        ],
        [
         "11449",
         "5",
         "Bizkaia",
         "Alemania",
         "11068.0"
        ],
        [
         "14464",
         "6",
         "Bizkaia",
         "Alemania",
         "10638.0"
        ],
        [
         "8500",
         "4",
         "Bizkaia",
         "Alemania",
         "10443.0"
        ],
        [
         "33010",
         "12",
         "Bizkaia",
         "Francia",
         "10418.0"
        ],
        [
         "17475",
         "7",
         "Bizkaia",
         "Alemania",
         "10217.0"
        ],
        [
         "5707",
         "3",
         "Bizkaia",
         "Alemania",
         "10078.0"
        ],
        [
         "3084",
         "2",
         "Bizkaia",
         "Francia",
         "9598.0"
        ],
        [
         "20572",
         "8",
         "Bizkaia",
         "Italia",
         "8640.0"
        ],
        [
         "20591",
         "8",
         "Bizkaia",
         "Pa�ses Bajos",
         "8236.0"
        ],
        [
         "26833",
         "10",
         "Bizkaia",
         "Pa�ses Bajos",
         "8230.0"
        ],
        [
         "467",
         "1",
         "Bizkaia",
         "Alemania",
         "7691.0"
        ],
        [
         "20595",
         "8",
         "Bizkaia",
         "Reino Unido",
         "7657.0"
        ],
        [
         "23712",
         "9",
         "Bizkaia",
         "Pa�ses Bajos",
         "7438.0"
        ],
        [
         "17527",
         "7",
         "Bizkaia",
         "Pa�ses Bajos",
         "7263.0"
        ],
        [
         "17531",
         "7",
         "Bizkaia",
         "Reino Unido",
         "7177.0"
        ],
        [
         "11503",
         "5",
         "Bizkaia",
         "Pa�ses Bajos",
         "7166.0"
        ],
        [
         "32983",
         "12",
         "Bizkaia",
         "Alemania",
         "6953.0"
        ],
        [
         "29954",
         "11",
         "Bizkaia",
         "Alemania",
         "6879.0"
        ],
        [
         "14520",
         "6",
         "Bizkaia",
         "Pa�ses Bajos",
         "6788.0"
        ],
        [
         "3060",
         "2",
         "Bizkaia",
         "Alemania",
         "6734.0"
        ],
        [
         "23716",
         "9",
         "Bizkaia",
         "Reino Unido",
         "6613.0"
        ],
        [
         "14524",
         "6",
         "Bizkaia",
         "Reino Unido",
         "6450.0"
        ],
        [
         "8550",
         "4",
         "Bizkaia",
         "Pa�ses Bajos",
         "6218.0"
        ],
        [
         "26837",
         "10",
         "Bizkaia",
         "Reino Unido",
         "6092.0"
        ],
        [
         "11507",
         "5",
         "Bizkaia",
         "Reino Unido",
         "5955.0"
        ],
        [
         "23681",
         "9",
         "Bizkaia",
         "Estados Unidos de Am�rica",
         "5712.0"
        ],
        [
         "17498",
         "7",
         "Bizkaia",
         "Estados Unidos de Am�rica",
         "5196.0"
        ],
        [
         "5754",
         "3",
         "Bizkaia",
         "Pa�ses Bajos",
         "5064.0"
        ],
        [
         "11472",
         "5",
         "Bizkaia",
         "Estados Unidos de Am�rica",
         "4966.0"
        ],
        [
         "8554",
         "4",
         "Bizkaia",
         "Reino Unido",
         "4949.0"
        ],
        [
         "30005",
         "11",
         "Bizkaia",
         "Pa�ses Bajos",
         "4841.0"
        ],
        [
         "14487",
         "6",
         "Bizkaia",
         "Estados Unidos de Am�rica",
         "4485.0"
        ],
        [
         "33034",
         "12",
         "Bizkaia",
         "Pa�ses Bajos",
         "4439.0"
        ],
        [
         "17486",
         "7",
         "Bizkaia",
         "B�lgica",
         "4292.0"
        ],
        [
         "5758",
         "3",
         "Bizkaia",
         "Reino Unido",
         "4201.0"
        ],
        [
         "17512",
         "7",
         "Bizkaia",
         "Italia",
         "4042.0"
        ],
        [
         "26798",
         "10",
         "Bizkaia",
         "Estados Unidos de Am�rica",
         "3918.0"
        ]
       ],
       "shape": {
        "columns": 4,
        "rows": 838
       }
      },
      "text/html": [
       "<div>\n",
       "<style scoped>\n",
       "    .dataframe tbody tr th:only-of-type {\n",
       "        vertical-align: middle;\n",
       "    }\n",
       "\n",
       "    .dataframe tbody tr th {\n",
       "        vertical-align: top;\n",
       "    }\n",
       "\n",
       "    .dataframe thead th {\n",
       "        text-align: right;\n",
       "    }\n",
       "</style>\n",
       "<table border=\"1\" class=\"dataframe\">\n",
       "  <thead>\n",
       "    <tr style=\"text-align: right;\">\n",
       "      <th></th>\n",
       "      <th>MES</th>\n",
       "      <th>PROVINCIA_DESTINO</th>\n",
       "      <th>PAIS_ORIGEN</th>\n",
       "      <th>TURISTAS</th>\n",
       "    </tr>\n",
       "  </thead>\n",
       "  <tbody>\n",
       "    <tr>\n",
       "      <th>20561</th>\n",
       "      <td>8</td>\n",
       "      <td>Bizkaia</td>\n",
       "      <td>Francia</td>\n",
       "      <td>22048.0</td>\n",
       "    </tr>\n",
       "    <tr>\n",
       "      <th>11476</th>\n",
       "      <td>5</td>\n",
       "      <td>Bizkaia</td>\n",
       "      <td>Francia</td>\n",
       "      <td>17018.0</td>\n",
       "    </tr>\n",
       "    <tr>\n",
       "      <th>8526</th>\n",
       "      <td>4</td>\n",
       "      <td>Bizkaia</td>\n",
       "      <td>Francia</td>\n",
       "      <td>16568.0</td>\n",
       "    </tr>\n",
       "    <tr>\n",
       "      <th>17502</th>\n",
       "      <td>7</td>\n",
       "      <td>Bizkaia</td>\n",
       "      <td>Francia</td>\n",
       "      <td>15714.0</td>\n",
       "    </tr>\n",
       "    <tr>\n",
       "      <th>26802</th>\n",
       "      <td>10</td>\n",
       "      <td>Bizkaia</td>\n",
       "      <td>Francia</td>\n",
       "      <td>14462.0</td>\n",
       "    </tr>\n",
       "    <tr>\n",
       "      <th>...</th>\n",
       "      <td>...</td>\n",
       "      <td>...</td>\n",
       "      <td>...</td>\n",
       "      <td>...</td>\n",
       "    </tr>\n",
       "    <tr>\n",
       "      <th>3103</th>\n",
       "      <td>2</td>\n",
       "      <td>Bizkaia</td>\n",
       "      <td>Pakist�n</td>\n",
       "      <td>30.0</td>\n",
       "    </tr>\n",
       "    <tr>\n",
       "      <th>26846</th>\n",
       "      <td>10</td>\n",
       "      <td>Bizkaia</td>\n",
       "      <td>Sud�frica</td>\n",
       "      <td>30.0</td>\n",
       "    </tr>\n",
       "    <tr>\n",
       "      <th>29972</th>\n",
       "      <td>11</td>\n",
       "      <td>Bizkaia</td>\n",
       "      <td>Egipto</td>\n",
       "      <td>30.0</td>\n",
       "    </tr>\n",
       "    <tr>\n",
       "      <th>14465</th>\n",
       "      <td>6</td>\n",
       "      <td>Bizkaia</td>\n",
       "      <td>Andorra</td>\n",
       "      <td>30.0</td>\n",
       "    </tr>\n",
       "    <tr>\n",
       "      <th>14530</th>\n",
       "      <td>6</td>\n",
       "      <td>Bizkaia</td>\n",
       "      <td>Serbia</td>\n",
       "      <td>30.0</td>\n",
       "    </tr>\n",
       "  </tbody>\n",
       "</table>\n",
       "<p>838 rows × 4 columns</p>\n",
       "</div>"
      ],
      "text/plain": [
       "       MES PROVINCIA_DESTINO PAIS_ORIGEN  TURISTAS\n",
       "20561    8           Bizkaia     Francia   22048.0\n",
       "11476    5           Bizkaia     Francia   17018.0\n",
       "8526     4           Bizkaia     Francia   16568.0\n",
       "17502    7           Bizkaia     Francia   15714.0\n",
       "26802   10           Bizkaia     Francia   14462.0\n",
       "...    ...               ...         ...       ...\n",
       "3103     2           Bizkaia    Pakist�n      30.0\n",
       "26846   10           Bizkaia   Sud�frica      30.0\n",
       "29972   11           Bizkaia      Egipto      30.0\n",
       "14465    6           Bizkaia     Andorra      30.0\n",
       "14530    6           Bizkaia      Serbia      30.0\n",
       "\n",
       "[838 rows x 4 columns]"
      ]
     },
     "execution_count": 33,
     "metadata": {},
     "output_type": "execute_result"
    }
   ],
   "source": [
    "df= pd.DataFrame(turism)\n",
    "\n",
    "\n",
    "# Filtro por años\n",
    "filtro = df[df[\"AÑO\"]>=2024]\n",
    "turistas= pd.DataFrame(filtro)\n",
    "\n",
    "#Agrupo los turistas por provincias\n",
    "agrupado= turistas.groupby([\"MES\", \"PROVINCIA_DESTINO\", \"PAIS_ORIGEN\"])[\"TURISTAS\"].sum().reset_index()\n",
    "\n",
    "#Codigo para ir sacando las graficas por las provincias que me interesan para el estudio\n",
    "\n",
    "provincia_Bizkaia= agrupado[agrupado[\"PROVINCIA_DESTINO\"]== \"Bizkaia\"]\n",
    "provincia_Bizkaia.sort_values([\"TURISTAS\"], ascending=False)"
   ]
  },
  {
   "cell_type": "markdown",
   "metadata": {},
   "source": [
    "## Nº DE TURISTAS ENERO 2024 EN BIZKAIA"
   ]
  },
  {
   "cell_type": "code",
   "execution_count": null,
   "metadata": {},
   "outputs": [
    {
     "data": {
      "application/vnd.microsoft.datawrangler.viewer.v0+json": {
       "columns": [
        {
         "name": "index",
         "rawType": "int64",
         "type": "integer"
        },
        {
         "name": "MES",
         "rawType": "int64",
         "type": "integer"
        },
        {
         "name": "PROVINCIA_DESTINO",
         "rawType": "object",
         "type": "string"
        },
        {
         "name": "PAIS_ORIGEN",
         "rawType": "object",
         "type": "string"
        },
        {
         "name": "TURISTAS",
         "rawType": "float64",
         "type": "float"
        }
       ],
       "conversionMethod": "pd.DataFrame",
       "ref": "3ae06a22-2a91-4dcb-8628-8348d1ffff3a",
       "rows": [
        [
         "491",
         "1",
         "Bizkaia",
         "Francia",
         "11427.0"
        ],
        [
         "467",
         "1",
         "Bizkaia",
         "Alemania",
         "7691.0"
        ],
        [
         "510",
         "1",
         "Bizkaia",
         "Pa�ses Bajos",
         "3207.0"
        ],
        [
         "514",
         "1",
         "Bizkaia",
         "Reino Unido",
         "2886.0"
        ],
        [
         "498",
         "1",
         "Bizkaia",
         "Italia",
         "2177.0"
        ],
        [
         "513",
         "1",
         "Bizkaia",
         "Portugal",
         "1831.0"
        ],
        [
         "521",
         "1",
         "Bizkaia",
         "Suecia",
         "1658.0"
        ],
        [
         "512",
         "1",
         "Bizkaia",
         "Polonia",
         "1395.0"
        ],
        [
         "487",
         "1",
         "Bizkaia",
         "Estados Unidos de Am�rica",
         "1280.0"
        ],
        [
         "472",
         "1",
         "Bizkaia",
         "Austria",
         "1197.0"
        ],
        [
         "503",
         "1",
         "Bizkaia",
         "Luxemburgo",
         "949.0"
        ],
        [
         "476",
         "1",
         "Bizkaia",
         "B�lgica",
         "936.0"
        ],
        [
         "480",
         "1",
         "Bizkaia",
         "Colombia",
         "798.0"
        ],
        [
         "522",
         "1",
         "Bizkaia",
         "Suiza",
         "747.0"
        ],
        [
         "505",
         "1",
         "Bizkaia",
         "Marruecos",
         "640.0"
        ],
        [
         "482",
         "1",
         "Bizkaia",
         "Dinamarca",
         "621.0"
        ],
        [
         "497",
         "1",
         "Bizkaia",
         "Irlanda",
         "442.0"
        ],
        [
         "479",
         "1",
         "Bizkaia",
         "China",
         "412.0"
        ],
        [
         "517",
         "1",
         "Bizkaia",
         "Ruman�a",
         "300.0"
        ],
        [
         "506",
         "1",
         "Bizkaia",
         "M�xico",
         "299.0"
        ]
       ],
       "shape": {
        "columns": 4,
        "rows": 20
       }
      },
      "text/html": [
       "<div>\n",
       "<style scoped>\n",
       "    .dataframe tbody tr th:only-of-type {\n",
       "        vertical-align: middle;\n",
       "    }\n",
       "\n",
       "    .dataframe tbody tr th {\n",
       "        vertical-align: top;\n",
       "    }\n",
       "\n",
       "    .dataframe thead th {\n",
       "        text-align: right;\n",
       "    }\n",
       "</style>\n",
       "<table border=\"1\" class=\"dataframe\">\n",
       "  <thead>\n",
       "    <tr style=\"text-align: right;\">\n",
       "      <th></th>\n",
       "      <th>MES</th>\n",
       "      <th>PROVINCIA_DESTINO</th>\n",
       "      <th>PAIS_ORIGEN</th>\n",
       "      <th>TURISTAS</th>\n",
       "    </tr>\n",
       "  </thead>\n",
       "  <tbody>\n",
       "    <tr>\n",
       "      <th>491</th>\n",
       "      <td>1</td>\n",
       "      <td>Bizkaia</td>\n",
       "      <td>Francia</td>\n",
       "      <td>11427.0</td>\n",
       "    </tr>\n",
       "    <tr>\n",
       "      <th>467</th>\n",
       "      <td>1</td>\n",
       "      <td>Bizkaia</td>\n",
       "      <td>Alemania</td>\n",
       "      <td>7691.0</td>\n",
       "    </tr>\n",
       "    <tr>\n",
       "      <th>510</th>\n",
       "      <td>1</td>\n",
       "      <td>Bizkaia</td>\n",
       "      <td>Pa�ses Bajos</td>\n",
       "      <td>3207.0</td>\n",
       "    </tr>\n",
       "    <tr>\n",
       "      <th>514</th>\n",
       "      <td>1</td>\n",
       "      <td>Bizkaia</td>\n",
       "      <td>Reino Unido</td>\n",
       "      <td>2886.0</td>\n",
       "    </tr>\n",
       "    <tr>\n",
       "      <th>498</th>\n",
       "      <td>1</td>\n",
       "      <td>Bizkaia</td>\n",
       "      <td>Italia</td>\n",
       "      <td>2177.0</td>\n",
       "    </tr>\n",
       "    <tr>\n",
       "      <th>513</th>\n",
       "      <td>1</td>\n",
       "      <td>Bizkaia</td>\n",
       "      <td>Portugal</td>\n",
       "      <td>1831.0</td>\n",
       "    </tr>\n",
       "    <tr>\n",
       "      <th>521</th>\n",
       "      <td>1</td>\n",
       "      <td>Bizkaia</td>\n",
       "      <td>Suecia</td>\n",
       "      <td>1658.0</td>\n",
       "    </tr>\n",
       "    <tr>\n",
       "      <th>512</th>\n",
       "      <td>1</td>\n",
       "      <td>Bizkaia</td>\n",
       "      <td>Polonia</td>\n",
       "      <td>1395.0</td>\n",
       "    </tr>\n",
       "    <tr>\n",
       "      <th>487</th>\n",
       "      <td>1</td>\n",
       "      <td>Bizkaia</td>\n",
       "      <td>Estados Unidos de Am�rica</td>\n",
       "      <td>1280.0</td>\n",
       "    </tr>\n",
       "    <tr>\n",
       "      <th>472</th>\n",
       "      <td>1</td>\n",
       "      <td>Bizkaia</td>\n",
       "      <td>Austria</td>\n",
       "      <td>1197.0</td>\n",
       "    </tr>\n",
       "    <tr>\n",
       "      <th>503</th>\n",
       "      <td>1</td>\n",
       "      <td>Bizkaia</td>\n",
       "      <td>Luxemburgo</td>\n",
       "      <td>949.0</td>\n",
       "    </tr>\n",
       "    <tr>\n",
       "      <th>476</th>\n",
       "      <td>1</td>\n",
       "      <td>Bizkaia</td>\n",
       "      <td>B�lgica</td>\n",
       "      <td>936.0</td>\n",
       "    </tr>\n",
       "    <tr>\n",
       "      <th>480</th>\n",
       "      <td>1</td>\n",
       "      <td>Bizkaia</td>\n",
       "      <td>Colombia</td>\n",
       "      <td>798.0</td>\n",
       "    </tr>\n",
       "    <tr>\n",
       "      <th>522</th>\n",
       "      <td>1</td>\n",
       "      <td>Bizkaia</td>\n",
       "      <td>Suiza</td>\n",
       "      <td>747.0</td>\n",
       "    </tr>\n",
       "    <tr>\n",
       "      <th>505</th>\n",
       "      <td>1</td>\n",
       "      <td>Bizkaia</td>\n",
       "      <td>Marruecos</td>\n",
       "      <td>640.0</td>\n",
       "    </tr>\n",
       "    <tr>\n",
       "      <th>482</th>\n",
       "      <td>1</td>\n",
       "      <td>Bizkaia</td>\n",
       "      <td>Dinamarca</td>\n",
       "      <td>621.0</td>\n",
       "    </tr>\n",
       "    <tr>\n",
       "      <th>497</th>\n",
       "      <td>1</td>\n",
       "      <td>Bizkaia</td>\n",
       "      <td>Irlanda</td>\n",
       "      <td>442.0</td>\n",
       "    </tr>\n",
       "    <tr>\n",
       "      <th>479</th>\n",
       "      <td>1</td>\n",
       "      <td>Bizkaia</td>\n",
       "      <td>China</td>\n",
       "      <td>412.0</td>\n",
       "    </tr>\n",
       "    <tr>\n",
       "      <th>517</th>\n",
       "      <td>1</td>\n",
       "      <td>Bizkaia</td>\n",
       "      <td>Ruman�a</td>\n",
       "      <td>300.0</td>\n",
       "    </tr>\n",
       "    <tr>\n",
       "      <th>506</th>\n",
       "      <td>1</td>\n",
       "      <td>Bizkaia</td>\n",
       "      <td>M�xico</td>\n",
       "      <td>299.0</td>\n",
       "    </tr>\n",
       "  </tbody>\n",
       "</table>\n",
       "</div>"
      ],
      "text/plain": [
       "     MES PROVINCIA_DESTINO                PAIS_ORIGEN  TURISTAS\n",
       "491    1           Bizkaia                    Francia   11427.0\n",
       "467    1           Bizkaia                   Alemania    7691.0\n",
       "510    1           Bizkaia               Pa�ses Bajos    3207.0\n",
       "514    1           Bizkaia                Reino Unido    2886.0\n",
       "498    1           Bizkaia                     Italia    2177.0\n",
       "513    1           Bizkaia                   Portugal    1831.0\n",
       "521    1           Bizkaia                     Suecia    1658.0\n",
       "512    1           Bizkaia                    Polonia    1395.0\n",
       "487    1           Bizkaia  Estados Unidos de Am�rica    1280.0\n",
       "472    1           Bizkaia                    Austria    1197.0\n",
       "503    1           Bizkaia                 Luxemburgo     949.0\n",
       "476    1           Bizkaia                    B�lgica     936.0\n",
       "480    1           Bizkaia                   Colombia     798.0\n",
       "522    1           Bizkaia                      Suiza     747.0\n",
       "505    1           Bizkaia                  Marruecos     640.0\n",
       "482    1           Bizkaia                  Dinamarca     621.0\n",
       "497    1           Bizkaia                    Irlanda     442.0\n",
       "479    1           Bizkaia                      China     412.0\n",
       "517    1           Bizkaia                    Ruman�a     300.0\n",
       "506    1           Bizkaia                     M�xico     299.0"
      ]
     },
     "execution_count": 37,
     "metadata": {},
     "output_type": "execute_result"
    }
   ],
   "source": [
    "#Función filtrar por prov y mes:\n",
    "\n",
    "def filtrar_datos(provincia, mes=None):\n",
    "       filtrado_provincia= agrupado[agrupado[\"PROVINCIA_DESTINO\"]== provincia]\n",
    "       if mes:\n",
    "        filtrado_provincia= filtrado_provincia[filtrado_provincia[\"MES\"]== mes]\n",
    "        return filtrado_provincia\n",
    "\n",
    "provincia_Bizkaia_mes= filtrar_datos(\"Bizkaia\", mes= 1) \n",
    "prov_Bizkaia_mes_ordenada= provincia_Bizkaia_mes.sort_values([\"TURISTAS\"], ascending=False).head(20) #selecciono los 20 principales\n",
    "prov_Bizkaia_mes_ordenada\n"
   ]
  },
  {
   "cell_type": "code",
   "execution_count": null,
   "metadata": {},
   "outputs": [],
   "source": []
  },
  {
   "cell_type": "code",
   "execution_count": 40,
   "metadata": {},
   "outputs": [
    {
     "data": {
      "image/png": "[encoded data removed]",
      "text/plain": [
       "<Figure size 1000x600 with 1 Axes>"
      ]
     },
     "metadata": {},
     "output_type": "display_data"
    }
   ],
   "source": [
    "plt.figure(figsize=(10,6))\n",
    "\n",
    "plt.barh(prov_Bizkaia_mes_ordenada[\"PAIS_ORIGEN\"], prov_Bizkaia_mes_ordenada[\"TURISTAS\"], color= \"skyblue\")\n",
    "\n",
    "plt.xlabel(\"Número de Turistas\")\n",
    "plt.ylabel(\"País de Origen\")\n",
    "plt.title(\"Turistas en Enero 2024\")\n",
    "\n",
    "plt.gca().invert_yaxis() #para que el pais con más turistas este en la parte superior\n",
    "plt.tight_layout() #ajustar visualización\n",
    "\n",
    "plt.show()\n",
    "\n"
   ]
  },
  {
   "cell_type": "markdown",
   "metadata": {},
   "source": [
    "## Nº DE TURISTAS FEBRERO 2024 EN BIZKAIA"
   ]
  },
  {
   "cell_type": "code",
   "execution_count": 43,
   "metadata": {},
   "outputs": [
    {
     "data": {
      "application/vnd.microsoft.datawrangler.viewer.v0+json": {
       "columns": [
        {
         "name": "index",
         "rawType": "int64",
         "type": "integer"
        },
        {
         "name": "MES",
         "rawType": "int64",
         "type": "integer"
        },
        {
         "name": "PROVINCIA_DESTINO",
         "rawType": "object",
         "type": "string"
        },
        {
         "name": "PAIS_ORIGEN",
         "rawType": "object",
         "type": "string"
        },
        {
         "name": "TURISTAS",
         "rawType": "float64",
         "type": "float"
        }
       ],
       "conversionMethod": "pd.DataFrame",
       "ref": "80cb2f1c-073d-405a-b75e-976ab02a07e9",
       "rows": [
        [
         "3084",
         "2",
         "Bizkaia",
         "Francia",
         "9598.0"
        ],
        [
         "3060",
         "2",
         "Bizkaia",
         "Alemania",
         "6734.0"
        ],
        [
         "3105",
         "2",
         "Bizkaia",
         "Pa�ses Bajos",
         "3738.0"
        ],
        [
         "3109",
         "2",
         "Bizkaia",
         "Reino Unido",
         "2538.0"
        ],
        [
         "3116",
         "2",
         "Bizkaia",
         "Suecia",
         "1738.0"
        ],
        [
         "3108",
         "2",
         "Bizkaia",
         "Portugal",
         "1736.0"
        ],
        [
         "3092",
         "2",
         "Bizkaia",
         "Italia",
         "1535.0"
        ],
        [
         "3065",
         "2",
         "Bizkaia",
         "Austria",
         "1449.0"
        ],
        [
         "3107",
         "2",
         "Bizkaia",
         "Polonia",
         "1349.0"
        ],
        [
         "3070",
         "2",
         "Bizkaia",
         "B�lgica",
         "1344.0"
        ],
        [
         "3080",
         "2",
         "Bizkaia",
         "Estados Unidos de Am�rica",
         "938.0"
        ],
        [
         "3097",
         "2",
         "Bizkaia",
         "Luxemburgo",
         "838.0"
        ],
        [
         "3074",
         "2",
         "Bizkaia",
         "Colombia",
         "705.0"
        ],
        [
         "3117",
         "2",
         "Bizkaia",
         "Suiza",
         "665.0"
        ],
        [
         "3076",
         "2",
         "Bizkaia",
         "Dinamarca",
         "634.0"
        ],
        [
         "3098",
         "2",
         "Bizkaia",
         "Marruecos",
         "577.0"
        ],
        [
         "3091",
         "2",
         "Bizkaia",
         "Irlanda",
         "525.0"
        ],
        [
         "3073",
         "2",
         "Bizkaia",
         "China",
         "489.0"
        ],
        [
         "3096",
         "2",
         "Bizkaia",
         "Lituania",
         "379.0"
        ],
        [
         "3112",
         "2",
         "Bizkaia",
         "Ruman�a",
         "354.0"
        ]
       ],
       "shape": {
        "columns": 4,
        "rows": 20
       }
      },
      "text/html": [
       "<div>\n",
       "<style scoped>\n",
       "    .dataframe tbody tr th:only-of-type {\n",
       "        vertical-align: middle;\n",
       "    }\n",
       "\n",
       "    .dataframe tbody tr th {\n",
       "        vertical-align: top;\n",
       "    }\n",
       "\n",
       "    .dataframe thead th {\n",
       "        text-align: right;\n",
       "    }\n",
       "</style>\n",
       "<table border=\"1\" class=\"dataframe\">\n",
       "  <thead>\n",
       "    <tr style=\"text-align: right;\">\n",
       "      <th></th>\n",
       "      <th>MES</th>\n",
       "      <th>PROVINCIA_DESTINO</th>\n",
       "      <th>PAIS_ORIGEN</th>\n",
       "      <th>TURISTAS</th>\n",
       "    </tr>\n",
       "  </thead>\n",
       "  <tbody>\n",
       "    <tr>\n",
       "      <th>3084</th>\n",
       "      <td>2</td>\n",
       "      <td>Bizkaia</td>\n",
       "      <td>Francia</td>\n",
       "      <td>9598.0</td>\n",
       "    </tr>\n",
       "    <tr>\n",
       "      <th>3060</th>\n",
       "      <td>2</td>\n",
       "      <td>Bizkaia</td>\n",
       "      <td>Alemania</td>\n",
       "      <td>6734.0</td>\n",
       "    </tr>\n",
       "    <tr>\n",
       "      <th>3105</th>\n",
       "      <td>2</td>\n",
       "      <td>Bizkaia</td>\n",
       "      <td>Pa�ses Bajos</td>\n",
       "      <td>3738.0</td>\n",
       "    </tr>\n",
       "    <tr>\n",
       "      <th>3109</th>\n",
       "      <td>2</td>\n",
       "      <td>Bizkaia</td>\n",
       "      <td>Reino Unido</td>\n",
       "      <td>2538.0</td>\n",
       "    </tr>\n",
       "    <tr>\n",
       "      <th>3116</th>\n",
       "      <td>2</td>\n",
       "      <td>Bizkaia</td>\n",
       "      <td>Suecia</td>\n",
       "      <td>1738.0</td>\n",
       "    </tr>\n",
       "    <tr>\n",
       "      <th>3108</th>\n",
       "      <td>2</td>\n",
       "      <td>Bizkaia</td>\n",
       "      <td>Portugal</td>\n",
       "      <td>1736.0</td>\n",
       "    </tr>\n",
       "    <tr>\n",
       "      <th>3092</th>\n",
       "      <td>2</td>\n",
       "      <td>Bizkaia</td>\n",
       "      <td>Italia</td>\n",
       "      <td>1535.0</td>\n",
       "    </tr>\n",
       "    <tr>\n",
       "      <th>3065</th>\n",
       "      <td>2</td>\n",
       "      <td>Bizkaia</td>\n",
       "      <td>Austria</td>\n",
       "      <td>1449.0</td>\n",
       "    </tr>\n",
       "    <tr>\n",
       "      <th>3107</th>\n",
       "      <td>2</td>\n",
       "      <td>Bizkaia</td>\n",
       "      <td>Polonia</td>\n",
       "      <td>1349.0</td>\n",
       "    </tr>\n",
       "    <tr>\n",
       "      <th>3070</th>\n",
       "      <td>2</td>\n",
       "      <td>Bizkaia</td>\n",
       "      <td>B�lgica</td>\n",
       "      <td>1344.0</td>\n",
       "    </tr>\n",
       "    <tr>\n",
       "      <th>3080</th>\n",
       "      <td>2</td>\n",
       "      <td>Bizkaia</td>\n",
       "      <td>Estados Unidos de Am�rica</td>\n",
       "      <td>938.0</td>\n",
       "    </tr>\n",
       "    <tr>\n",
       "      <th>3097</th>\n",
       "      <td>2</td>\n",
       "      <td>Bizkaia</td>\n",
       "      <td>Luxemburgo</td>\n",
       "      <td>838.0</td>\n",
       "    </tr>\n",
       "    <tr>\n",
       "      <th>3074</th>\n",
       "      <td>2</td>\n",
       "      <td>Bizkaia</td>\n",
       "      <td>Colombia</td>\n",
       "      <td>705.0</td>\n",
       "    </tr>\n",
       "    <tr>\n",
       "      <th>3117</th>\n",
       "      <td>2</td>\n",
       "      <td>Bizkaia</td>\n",
       "      <td>Suiza</td>\n",
       "      <td>665.0</td>\n",
       "    </tr>\n",
       "    <tr>\n",
       "      <th>3076</th>\n",
       "      <td>2</td>\n",
       "      <td>Bizkaia</td>\n",
       "      <td>Dinamarca</td>\n",
       "      <td>634.0</td>\n",
       "    </tr>\n",
       "    <tr>\n",
       "      <th>3098</th>\n",
       "      <td>2</td>\n",
       "      <td>Bizkaia</td>\n",
       "      <td>Marruecos</td>\n",
       "      <td>577.0</td>\n",
       "    </tr>\n",
       "    <tr>\n",
       "      <th>3091</th>\n",
       "      <td>2</td>\n",
       "      <td>Bizkaia</td>\n",
       "      <td>Irlanda</td>\n",
       "      <td>525.0</td>\n",
       "    </tr>\n",
       "    <tr>\n",
       "      <th>3073</th>\n",
       "      <td>2</td>\n",
       "      <td>Bizkaia</td>\n",
       "      <td>China</td>\n",
       "      <td>489.0</td>\n",
       "    </tr>\n",
       "    <tr>\n",
       "      <th>3096</th>\n",
       "      <td>2</td>\n",
       "      <td>Bizkaia</td>\n",
       "      <td>Lituania</td>\n",
       "      <td>379.0</td>\n",
       "    </tr>\n",
       "    <tr>\n",
       "      <th>3112</th>\n",
       "      <td>2</td>\n",
       "      <td>Bizkaia</td>\n",
       "      <td>Ruman�a</td>\n",
       "      <td>354.0</td>\n",
       "    </tr>\n",
       "  </tbody>\n",
       "</table>\n",
       "</div>"
      ],
      "text/plain": [
       "      MES PROVINCIA_DESTINO                PAIS_ORIGEN  TURISTAS\n",
       "3084    2           Bizkaia                    Francia    9598.0\n",
       "3060    2           Bizkaia                   Alemania    6734.0\n",
       "3105    2           Bizkaia               Pa�ses Bajos    3738.0\n",
       "3109    2           Bizkaia                Reino Unido    2538.0\n",
       "3116    2           Bizkaia                     Suecia    1738.0\n",
       "3108    2           Bizkaia                   Portugal    1736.0\n",
       "3092    2           Bizkaia                     Italia    1535.0\n",
       "3065    2           Bizkaia                    Austria    1449.0\n",
       "3107    2           Bizkaia                    Polonia    1349.0\n",
       "3070    2           Bizkaia                    B�lgica    1344.0\n",
       "3080    2           Bizkaia  Estados Unidos de Am�rica     938.0\n",
       "3097    2           Bizkaia                 Luxemburgo     838.0\n",
       "3074    2           Bizkaia                   Colombia     705.0\n",
       "3117    2           Bizkaia                      Suiza     665.0\n",
       "3076    2           Bizkaia                  Dinamarca     634.0\n",
       "3098    2           Bizkaia                  Marruecos     577.0\n",
       "3091    2           Bizkaia                    Irlanda     525.0\n",
       "3073    2           Bizkaia                      China     489.0\n",
       "3096    2           Bizkaia                   Lituania     379.0\n",
       "3112    2           Bizkaia                    Ruman�a     354.0"
      ]
     },
     "execution_count": 43,
     "metadata": {},
     "output_type": "execute_result"
    }
   ],
   "source": [
    "def filtrar_datos(provincia, mes=None):\n",
    "       filtrado_provincia= agrupado[agrupado[\"PROVINCIA_DESTINO\"]== provincia]\n",
    "       if mes:\n",
    "        filtrado_provincia= filtrado_provincia[filtrado_provincia[\"MES\"]== mes]\n",
    "        return filtrado_provincia\n",
    "\n",
    "provincia_Bizkaia_mes2= filtrar_datos(\"Bizkaia\", mes= 2) \n",
    "prov_Bizkaia_mes2_ordenada= provincia_Bizkaia_mes2.sort_values([\"TURISTAS\"], ascending=False).head(20) #selecciono los 20 principales\n",
    "prov_Bizkaia_mes2_ordenada"
   ]
  },
  {
   "cell_type": "code",
   "execution_count": 45,
   "metadata": {},
   "outputs": [
    {
     "data": {
      "image/png": "[encoded data removed]",
      "text/plain": [
       "<Figure size 1000x600 with 1 Axes>"
      ]
     },
     "metadata": {},
     "output_type": "display_data"
    }
   ],
   "source": [
    "plt.figure(figsize=(10,6))\n",
    "\n",
    "plt.barh(prov_Bizkaia_mes2_ordenada[\"PAIS_ORIGEN\"], prov_Bizkaia_mes2_ordenada[\"TURISTAS\"], color= \"skyblue\")\n",
    "\n",
    "plt.xlabel(\"Número de Turistas\")\n",
    "plt.ylabel(\"País de Origen\")\n",
    "plt.title(\"Turistas en Febrero 2024\")\n",
    "\n",
    "plt.gca().invert_yaxis() #para que el pais con más turistas este en la parte superior\n",
    "plt.tight_layout() #ajustar visualización\n",
    "\n",
    "plt.show()"
   ]
  },
  {
   "cell_type": "markdown",
   "metadata": {},
   "source": [
    "## Nº DE TURISTAS MARZO 2024 EN BIZKAIA"
   ]
  },
  {
   "cell_type": "code",
   "execution_count": 46,
   "metadata": {},
   "outputs": [
    {
     "data": {
      "application/vnd.microsoft.datawrangler.viewer.v0+json": {
       "columns": [
        {
         "name": "index",
         "rawType": "int64",
         "type": "integer"
        },
        {
         "name": "MES",
         "rawType": "int64",
         "type": "integer"
        },
        {
         "name": "PROVINCIA_DESTINO",
         "rawType": "object",
         "type": "string"
        },
        {
         "name": "PAIS_ORIGEN",
         "rawType": "object",
         "type": "string"
        },
        {
         "name": "TURISTAS",
         "rawType": "float64",
         "type": "float"
        }
       ],
       "conversionMethod": "pd.DataFrame",
       "ref": "11aa5d27-b4e6-4af0-a868-85c626b1d9c4",
       "rows": [
        [
         "5731",
         "3",
         "Bizkaia",
         "Francia",
         "11884.0"
        ],
        [
         "5707",
         "3",
         "Bizkaia",
         "Alemania",
         "10078.0"
        ],
        [
         "5754",
         "3",
         "Bizkaia",
         "Pa�ses Bajos",
         "5064.0"
        ],
        [
         "5758",
         "3",
         "Bizkaia",
         "Reino Unido",
         "4201.0"
        ],
        [
         "5740",
         "3",
         "Bizkaia",
         "Italia",
         "2185.0"
        ],
        [
         "5766",
         "3",
         "Bizkaia",
         "Suecia",
         "2062.0"
        ],
        [
         "5756",
         "3",
         "Bizkaia",
         "Polonia",
         "2061.0"
        ],
        [
         "5757",
         "3",
         "Bizkaia",
         "Portugal",
         "1934.0"
        ],
        [
         "5716",
         "3",
         "Bizkaia",
         "B�lgica",
         "1926.0"
        ],
        [
         "5712",
         "3",
         "Bizkaia",
         "Austria",
         "1833.0"
        ],
        [
         "5727",
         "3",
         "Bizkaia",
         "Estados Unidos de Am�rica",
         "1577.0"
        ],
        [
         "5723",
         "3",
         "Bizkaia",
         "Dinamarca",
         "1238.0"
        ],
        [
         "5739",
         "3",
         "Bizkaia",
         "Irlanda",
         "1078.0"
        ],
        [
         "5767",
         "3",
         "Bizkaia",
         "Suiza",
         "1076.0"
        ],
        [
         "5745",
         "3",
         "Bizkaia",
         "Luxemburgo",
         "978.0"
        ],
        [
         "5720",
         "3",
         "Bizkaia",
         "Colombia",
         "921.0"
        ],
        [
         "5746",
         "3",
         "Bizkaia",
         "Marruecos",
         "667.0"
        ],
        [
         "5719",
         "3",
         "Bizkaia",
         "China",
         "496.0"
        ],
        [
         "5717",
         "3",
         "Bizkaia",
         "Canad�",
         "477.0"
        ],
        [
         "5751",
         "3",
         "Bizkaia",
         "Noruega",
         "469.0"
        ]
       ],
       "shape": {
        "columns": 4,
        "rows": 20
       }
      },
      "text/html": [
       "<div>\n",
       "<style scoped>\n",
       "    .dataframe tbody tr th:only-of-type {\n",
       "        vertical-align: middle;\n",
       "    }\n",
       "\n",
       "    .dataframe tbody tr th {\n",
       "        vertical-align: top;\n",
       "    }\n",
       "\n",
       "    .dataframe thead th {\n",
       "        text-align: right;\n",
       "    }\n",
       "</style>\n",
       "<table border=\"1\" class=\"dataframe\">\n",
       "  <thead>\n",
       "    <tr style=\"text-align: right;\">\n",
       "      <th></th>\n",
       "      <th>MES</th>\n",
       "      <th>PROVINCIA_DESTINO</th>\n",
       "      <th>PAIS_ORIGEN</th>\n",
       "      <th>TURISTAS</th>\n",
       "    </tr>\n",
       "  </thead>\n",
       "  <tbody>\n",
       "    <tr>\n",
       "      <th>5731</th>\n",
       "      <td>3</td>\n",
       "      <td>Bizkaia</td>\n",
       "      <td>Francia</td>\n",
       "      <td>11884.0</td>\n",
       "    </tr>\n",
       "    <tr>\n",
       "      <th>5707</th>\n",
       "      <td>3</td>\n",
       "      <td>Bizkaia</td>\n",
       "      <td>Alemania</td>\n",
       "      <td>10078.0</td>\n",
       "    </tr>\n",
       "    <tr>\n",
       "      <th>5754</th>\n",
       "      <td>3</td>\n",
       "      <td>Bizkaia</td>\n",
       "      <td>Pa�ses Bajos</td>\n",
       "      <td>5064.0</td>\n",
       "    </tr>\n",
       "    <tr>\n",
       "      <th>5758</th>\n",
       "      <td>3</td>\n",
       "      <td>Bizkaia</td>\n",
       "      <td>Reino Unido</td>\n",
       "      <td>4201.0</td>\n",
       "    </tr>\n",
       "    <tr>\n",
       "      <th>5740</th>\n",
       "      <td>3</td>\n",
       "      <td>Bizkaia</td>\n",
       "      <td>Italia</td>\n",
       "      <td>2185.0</td>\n",
       "    </tr>\n",
       "    <tr>\n",
       "      <th>5766</th>\n",
       "      <td>3</td>\n",
       "      <td>Bizkaia</td>\n",
       "      <td>Suecia</td>\n",
       "      <td>2062.0</td>\n",
       "    </tr>\n",
       "    <tr>\n",
       "      <th>5756</th>\n",
       "      <td>3</td>\n",
       "      <td>Bizkaia</td>\n",
       "      <td>Polonia</td>\n",
       "      <td>2061.0</td>\n",
       "    </tr>\n",
       "    <tr>\n",
       "      <th>5757</th>\n",
       "      <td>3</td>\n",
       "      <td>Bizkaia</td>\n",
       "      <td>Portugal</td>\n",
       "      <td>1934.0</td>\n",
       "    </tr>\n",
       "    <tr>\n",
       "      <th>5716</th>\n",
       "      <td>3</td>\n",
       "      <td>Bizkaia</td>\n",
       "      <td>B�lgica</td>\n",
       "      <td>1926.0</td>\n",
       "    </tr>\n",
       "    <tr>\n",
       "      <th>5712</th>\n",
       "      <td>3</td>\n",
       "      <td>Bizkaia</td>\n",
       "      <td>Austria</td>\n",
       "      <td>1833.0</td>\n",
       "    </tr>\n",
       "    <tr>\n",
       "      <th>5727</th>\n",
       "      <td>3</td>\n",
       "      <td>Bizkaia</td>\n",
       "      <td>Estados Unidos de Am�rica</td>\n",
       "      <td>1577.0</td>\n",
       "    </tr>\n",
       "    <tr>\n",
       "      <th>5723</th>\n",
       "      <td>3</td>\n",
       "      <td>Bizkaia</td>\n",
       "      <td>Dinamarca</td>\n",
       "      <td>1238.0</td>\n",
       "    </tr>\n",
       "    <tr>\n",
       "      <th>5739</th>\n",
       "      <td>3</td>\n",
       "      <td>Bizkaia</td>\n",
       "      <td>Irlanda</td>\n",
       "      <td>1078.0</td>\n",
       "    </tr>\n",
       "    <tr>\n",
       "      <th>5767</th>\n",
       "      <td>3</td>\n",
       "      <td>Bizkaia</td>\n",
       "      <td>Suiza</td>\n",
       "      <td>1076.0</td>\n",
       "    </tr>\n",
       "    <tr>\n",
       "      <th>5745</th>\n",
       "      <td>3</td>\n",
       "      <td>Bizkaia</td>\n",
       "      <td>Luxemburgo</td>\n",
       "      <td>978.0</td>\n",
       "    </tr>\n",
       "    <tr>\n",
       "      <th>5720</th>\n",
       "      <td>3</td>\n",
       "      <td>Bizkaia</td>\n",
       "      <td>Colombia</td>\n",
       "      <td>921.0</td>\n",
       "    </tr>\n",
       "    <tr>\n",
       "      <th>5746</th>\n",
       "      <td>3</td>\n",
       "      <td>Bizkaia</td>\n",
       "      <td>Marruecos</td>\n",
       "      <td>667.0</td>\n",
       "    </tr>\n",
       "    <tr>\n",
       "      <th>5719</th>\n",
       "      <td>3</td>\n",
       "      <td>Bizkaia</td>\n",
       "      <td>China</td>\n",
       "      <td>496.0</td>\n",
       "    </tr>\n",
       "    <tr>\n",
       "      <th>5717</th>\n",
       "      <td>3</td>\n",
       "      <td>Bizkaia</td>\n",
       "      <td>Canad�</td>\n",
       "      <td>477.0</td>\n",
       "    </tr>\n",
       "    <tr>\n",
       "      <th>5751</th>\n",
       "      <td>3</td>\n",
       "      <td>Bizkaia</td>\n",
       "      <td>Noruega</td>\n",
       "      <td>469.0</td>\n",
       "    </tr>\n",
       "  </tbody>\n",
       "</table>\n",
       "</div>"
      ],
      "text/plain": [
       "      MES PROVINCIA_DESTINO                PAIS_ORIGEN  TURISTAS\n",
       "5731    3           Bizkaia                    Francia   11884.0\n",
       "5707    3           Bizkaia                   Alemania   10078.0\n",
       "5754    3           Bizkaia               Pa�ses Bajos    5064.0\n",
       "5758    3           Bizkaia                Reino Unido    4201.0\n",
       "5740    3           Bizkaia                     Italia    2185.0\n",
       "5766    3           Bizkaia                     Suecia    2062.0\n",
       "5756    3           Bizkaia                    Polonia    2061.0\n",
       "5757    3           Bizkaia                   Portugal    1934.0\n",
       "5716    3           Bizkaia                    B�lgica    1926.0\n",
       "5712    3           Bizkaia                    Austria    1833.0\n",
       "5727    3           Bizkaia  Estados Unidos de Am�rica    1577.0\n",
       "5723    3           Bizkaia                  Dinamarca    1238.0\n",
       "5739    3           Bizkaia                    Irlanda    1078.0\n",
       "5767    3           Bizkaia                      Suiza    1076.0\n",
       "5745    3           Bizkaia                 Luxemburgo     978.0\n",
       "5720    3           Bizkaia                   Colombia     921.0\n",
       "5746    3           Bizkaia                  Marruecos     667.0\n",
       "5719    3           Bizkaia                      China     496.0\n",
       "5717    3           Bizkaia                     Canad�     477.0\n",
       "5751    3           Bizkaia                    Noruega     469.0"
      ]
     },
     "execution_count": 46,
     "metadata": {},
     "output_type": "execute_result"
    }
   ],
   "source": [
    "def filtrar_datos(provincia, mes=None):\n",
    "       filtrado_provincia= agrupado[agrupado[\"PROVINCIA_DESTINO\"]== provincia]\n",
    "       if mes:\n",
    "        filtrado_provincia= filtrado_provincia[filtrado_provincia[\"MES\"]== mes]\n",
    "        return filtrado_provincia\n",
    "\n",
    "provincia_Bizkaia_mes3= filtrar_datos(\"Bizkaia\", mes= 3) \n",
    "prov_Bizkaia_mes3_ordenada= provincia_Bizkaia_mes3.sort_values([\"TURISTAS\"], ascending=False).head(20) #selecciono los 20 principales\n",
    "prov_Bizkaia_mes3_ordenada"
   ]
  },
  {
   "cell_type": "code",
   "execution_count": 47,
   "metadata": {},
   "outputs": [
    {
     "data": {
      "image/png": "[encoded data removed]",
      "text/plain": [
       "<Figure size 1000x600 with 1 Axes>"
      ]
     },
     "metadata": {},
     "output_type": "display_data"
    }
   ],
   "source": [
    "plt.figure(figsize=(10,6))\n",
    "\n",
    "plt.barh(prov_Bizkaia_mes3_ordenada[\"PAIS_ORIGEN\"], prov_Bizkaia_mes3_ordenada[\"TURISTAS\"], color= \"skyblue\")\n",
    "\n",
    "plt.xlabel(\"Número de Turistas\")\n",
    "plt.ylabel(\"País de Origen\")\n",
    "plt.title(\"Turistas en Marzo 2024\")\n",
    "\n",
    "plt.gca().invert_yaxis() #para que el pais con más turistas este en la parte superior\n",
    "plt.tight_layout() #ajustar visualización\n",
    "\n",
    "plt.show()"
   ]
  },
  {
   "cell_type": "markdown",
   "metadata": {},
   "source": [
    "## Nº DE TURISTAS ABRIL 2024 EN BIZKAIA"
   ]
  },
  {
   "cell_type": "code",
   "execution_count": 48,
   "metadata": {},
   "outputs": [
    {
     "data": {
      "application/vnd.microsoft.datawrangler.viewer.v0+json": {
       "columns": [
        {
         "name": "index",
         "rawType": "int64",
         "type": "integer"
        },
        {
         "name": "MES",
         "rawType": "int64",
         "type": "integer"
        },
        {
         "name": "PROVINCIA_DESTINO",
         "rawType": "object",
         "type": "string"
        },
        {
         "name": "PAIS_ORIGEN",
         "rawType": "object",
         "type": "string"
        },
        {
         "name": "TURISTAS",
         "rawType": "float64",
         "type": "float"
        }
       ],
       "conversionMethod": "pd.DataFrame",
       "ref": "732638b5-8e15-465b-a698-74b8aebbbc63",
       "rows": [
        [
         "8526",
         "4",
         "Bizkaia",
         "Francia",
         "16568.0"
        ],
        [
         "8500",
         "4",
         "Bizkaia",
         "Alemania",
         "10443.0"
        ],
        [
         "8550",
         "4",
         "Bizkaia",
         "Pa�ses Bajos",
         "6218.0"
        ],
        [
         "8554",
         "4",
         "Bizkaia",
         "Reino Unido",
         "4949.0"
        ],
        [
         "8553",
         "4",
         "Bizkaia",
         "Portugal",
         "3069.0"
        ],
        [
         "8536",
         "4",
         "Bizkaia",
         "Italia",
         "3033.0"
        ],
        [
         "8511",
         "4",
         "Bizkaia",
         "B�lgica",
         "2379.0"
        ],
        [
         "8561",
         "4",
         "Bizkaia",
         "Suecia",
         "2333.0"
        ],
        [
         "8522",
         "4",
         "Bizkaia",
         "Estados Unidos de Am�rica",
         "2282.0"
        ],
        [
         "8552",
         "4",
         "Bizkaia",
         "Polonia",
         "2211.0"
        ],
        [
         "8506",
         "4",
         "Bizkaia",
         "Austria",
         "2126.0"
        ],
        [
         "8534",
         "4",
         "Bizkaia",
         "Irlanda",
         "1961.0"
        ],
        [
         "8562",
         "4",
         "Bizkaia",
         "Suiza",
         "1566.0"
        ],
        [
         "8541",
         "4",
         "Bizkaia",
         "Luxemburgo",
         "945.0"
        ],
        [
         "8515",
         "4",
         "Bizkaia",
         "Colombia",
         "898.0"
        ],
        [
         "8518",
         "4",
         "Bizkaia",
         "Dinamarca",
         "828.0"
        ],
        [
         "8542",
         "4",
         "Bizkaia",
         "Marruecos",
         "696.0"
        ],
        [
         "8525",
         "4",
         "Bizkaia",
         "Finlandia",
         "558.0"
        ],
        [
         "8537",
         "4",
         "Bizkaia",
         "Jap�n",
         "524.0"
        ],
        [
         "8514",
         "4",
         "Bizkaia",
         "China",
         "508.0"
        ]
       ],
       "shape": {
        "columns": 4,
        "rows": 20
       }
      },
      "text/html": [
       "<div>\n",
       "<style scoped>\n",
       "    .dataframe tbody tr th:only-of-type {\n",
       "        vertical-align: middle;\n",
       "    }\n",
       "\n",
       "    .dataframe tbody tr th {\n",
       "        vertical-align: top;\n",
       "    }\n",
       "\n",
       "    .dataframe thead th {\n",
       "        text-align: right;\n",
       "    }\n",
       "</style>\n",
       "<table border=\"1\" class=\"dataframe\">\n",
       "  <thead>\n",
       "    <tr style=\"text-align: right;\">\n",
       "      <th></th>\n",
       "      <th>MES</th>\n",
       "      <th>PROVINCIA_DESTINO</th>\n",
       "      <th>PAIS_ORIGEN</th>\n",
       "      <th>TURISTAS</th>\n",
       "    </tr>\n",
       "  </thead>\n",
       "  <tbody>\n",
       "    <tr>\n",
       "      <th>8526</th>\n",
       "      <td>4</td>\n",
       "      <td>Bizkaia</td>\n",
       "      <td>Francia</td>\n",
       "      <td>16568.0</td>\n",
       "    </tr>\n",
       "    <tr>\n",
       "      <th>8500</th>\n",
       "      <td>4</td>\n",
       "      <td>Bizkaia</td>\n",
       "      <td>Alemania</td>\n",
       "      <td>10443.0</td>\n",
       "    </tr>\n",
       "    <tr>\n",
       "      <th>8550</th>\n",
       "      <td>4</td>\n",
       "      <td>Bizkaia</td>\n",
       "      <td>Pa�ses Bajos</td>\n",
       "      <td>6218.0</td>\n",
       "    </tr>\n",
       "    <tr>\n",
       "      <th>8554</th>\n",
       "      <td>4</td>\n",
       "      <td>Bizkaia</td>\n",
       "      <td>Reino Unido</td>\n",
       "      <td>4949.0</td>\n",
       "    </tr>\n",
       "    <tr>\n",
       "      <th>8553</th>\n",
       "      <td>4</td>\n",
       "      <td>Bizkaia</td>\n",
       "      <td>Portugal</td>\n",
       "      <td>3069.0</td>\n",
       "    </tr>\n",
       "    <tr>\n",
       "      <th>8536</th>\n",
       "      <td>4</td>\n",
       "      <td>Bizkaia</td>\n",
       "      <td>Italia</td>\n",
       "      <td>3033.0</td>\n",
       "    </tr>\n",
       "    <tr>\n",
       "      <th>8511</th>\n",
       "      <td>4</td>\n",
       "      <td>Bizkaia</td>\n",
       "      <td>B�lgica</td>\n",
       "      <td>2379.0</td>\n",
       "    </tr>\n",
       "    <tr>\n",
       "      <th>8561</th>\n",
       "      <td>4</td>\n",
       "      <td>Bizkaia</td>\n",
       "      <td>Suecia</td>\n",
       "      <td>2333.0</td>\n",
       "    </tr>\n",
       "    <tr>\n",
       "      <th>8522</th>\n",
       "      <td>4</td>\n",
       "      <td>Bizkaia</td>\n",
       "      <td>Estados Unidos de Am�rica</td>\n",
       "      <td>2282.0</td>\n",
       "    </tr>\n",
       "    <tr>\n",
       "      <th>8552</th>\n",
       "      <td>4</td>\n",
       "      <td>Bizkaia</td>\n",
       "      <td>Polonia</td>\n",
       "      <td>2211.0</td>\n",
       "    </tr>\n",
       "    <tr>\n",
       "      <th>8506</th>\n",
       "      <td>4</td>\n",
       "      <td>Bizkaia</td>\n",
       "      <td>Austria</td>\n",
       "      <td>2126.0</td>\n",
       "    </tr>\n",
       "    <tr>\n",
       "      <th>8534</th>\n",
       "      <td>4</td>\n",
       "      <td>Bizkaia</td>\n",
       "      <td>Irlanda</td>\n",
       "      <td>1961.0</td>\n",
       "    </tr>\n",
       "    <tr>\n",
       "      <th>8562</th>\n",
       "      <td>4</td>\n",
       "      <td>Bizkaia</td>\n",
       "      <td>Suiza</td>\n",
       "      <td>1566.0</td>\n",
       "    </tr>\n",
       "    <tr>\n",
       "      <th>8541</th>\n",
       "      <td>4</td>\n",
       "      <td>Bizkaia</td>\n",
       "      <td>Luxemburgo</td>\n",
       "      <td>945.0</td>\n",
       "    </tr>\n",
       "    <tr>\n",
       "      <th>8515</th>\n",
       "      <td>4</td>\n",
       "      <td>Bizkaia</td>\n",
       "      <td>Colombia</td>\n",
       "      <td>898.0</td>\n",
       "    </tr>\n",
       "    <tr>\n",
       "      <th>8518</th>\n",
       "      <td>4</td>\n",
       "      <td>Bizkaia</td>\n",
       "      <td>Dinamarca</td>\n",
       "      <td>828.0</td>\n",
       "    </tr>\n",
       "    <tr>\n",
       "      <th>8542</th>\n",
       "      <td>4</td>\n",
       "      <td>Bizkaia</td>\n",
       "      <td>Marruecos</td>\n",
       "      <td>696.0</td>\n",
       "    </tr>\n",
       "    <tr>\n",
       "      <th>8525</th>\n",
       "      <td>4</td>\n",
       "      <td>Bizkaia</td>\n",
       "      <td>Finlandia</td>\n",
       "      <td>558.0</td>\n",
       "    </tr>\n",
       "    <tr>\n",
       "      <th>8537</th>\n",
       "      <td>4</td>\n",
       "      <td>Bizkaia</td>\n",
       "      <td>Jap�n</td>\n",
       "      <td>524.0</td>\n",
       "    </tr>\n",
       "    <tr>\n",
       "      <th>8514</th>\n",
       "      <td>4</td>\n",
       "      <td>Bizkaia</td>\n",
       "      <td>China</td>\n",
       "      <td>508.0</td>\n",
       "    </tr>\n",
       "  </tbody>\n",
       "</table>\n",
       "</div>"
      ],
      "text/plain": [
       "      MES PROVINCIA_DESTINO                PAIS_ORIGEN  TURISTAS\n",
       "8526    4           Bizkaia                    Francia   16568.0\n",
       "8500    4           Bizkaia                   Alemania   10443.0\n",
       "8550    4           Bizkaia               Pa�ses Bajos    6218.0\n",
       "8554    4           Bizkaia                Reino Unido    4949.0\n",
       "8553    4           Bizkaia                   Portugal    3069.0\n",
       "8536    4           Bizkaia                     Italia    3033.0\n",
       "8511    4           Bizkaia                    B�lgica    2379.0\n",
       "8561    4           Bizkaia                     Suecia    2333.0\n",
       "8522    4           Bizkaia  Estados Unidos de Am�rica    2282.0\n",
       "8552    4           Bizkaia                    Polonia    2211.0\n",
       "8506    4           Bizkaia                    Austria    2126.0\n",
       "8534    4           Bizkaia                    Irlanda    1961.0\n",
       "8562    4           Bizkaia                      Suiza    1566.0\n",
       "8541    4           Bizkaia                 Luxemburgo     945.0\n",
       "8515    4           Bizkaia                   Colombia     898.0\n",
       "8518    4           Bizkaia                  Dinamarca     828.0\n",
       "8542    4           Bizkaia                  Marruecos     696.0\n",
       "8525    4           Bizkaia                  Finlandia     558.0\n",
       "8537    4           Bizkaia                      Jap�n     524.0\n",
       "8514    4           Bizkaia                      China     508.0"
      ]
     },
     "execution_count": 48,
     "metadata": {},
     "output_type": "execute_result"
    }
   ],
   "source": [
    "def filtrar_datos(provincia, mes=None):\n",
    "       filtrado_provincia= agrupado[agrupado[\"PROVINCIA_DESTINO\"]== provincia]\n",
    "       if mes:\n",
    "        filtrado_provincia= filtrado_provincia[filtrado_provincia[\"MES\"]== mes]\n",
    "        return filtrado_provincia\n",
    "\n",
    "provincia_Bizkaia_mes4= filtrar_datos(\"Bizkaia\", mes= 4) \n",
    "prov_Bizkaia_mes4_ordenada= provincia_Bizkaia_mes4.sort_values([\"TURISTAS\"], ascending=False).head(20) #selecciono los 20 principales\n",
    "prov_Bizkaia_mes4_ordenada"
   ]
  },
  {
   "cell_type": "code",
   "execution_count": 49,
   "metadata": {},
   "outputs": [
    {
     "data": {
      "image/png": "[encoded data removed]",
      "text/plain": [
       "<Figure size 1000x600 with 1 Axes>"
      ]
     },
     "metadata": {},
     "output_type": "display_data"
    }
   ],
   "source": [
    "plt.figure(figsize=(10,6))\n",
    "\n",
    "plt.barh(prov_Bizkaia_mes4_ordenada[\"PAIS_ORIGEN\"], prov_Bizkaia_mes4_ordenada[\"TURISTAS\"], color= \"skyblue\")\n",
    "\n",
    "plt.xlabel(\"Número de Turistas\")\n",
    "plt.ylabel(\"País de Origen\")\n",
    "plt.title(\"Turistas en Abril 2024\")\n",
    "\n",
    "plt.gca().invert_yaxis() #para que el pais con más turistas este en la parte superior\n",
    "plt.tight_layout() #ajustar visualización\n",
    "\n",
    "plt.show()"
   ]
  },
  {
   "cell_type": "markdown",
   "metadata": {},
   "source": [
    "## Nº DE TURISTAS MAYO 2024 EN BIZKAIA"
   ]
  },
  {
   "cell_type": "code",
   "execution_count": 50,
   "metadata": {},
   "outputs": [
    {
     "data": {
      "application/vnd.microsoft.datawrangler.viewer.v0+json": {
       "columns": [
        {
         "name": "index",
         "rawType": "int64",
         "type": "integer"
        },
        {
         "name": "MES",
         "rawType": "int64",
         "type": "integer"
        },
        {
         "name": "PROVINCIA_DESTINO",
         "rawType": "object",
         "type": "string"
        },
        {
         "name": "PAIS_ORIGEN",
         "rawType": "object",
         "type": "string"
        },
        {
         "name": "TURISTAS",
         "rawType": "float64",
         "type": "float"
        }
       ],
       "conversionMethod": "pd.DataFrame",
       "ref": "b031cedc-aae0-419e-8e4c-b2f308ea2d3a",
       "rows": [
        [
         "11476",
         "5",
         "Bizkaia",
         "Francia",
         "17018.0"
        ],
        [
         "11449",
         "5",
         "Bizkaia",
         "Alemania",
         "11068.0"
        ],
        [
         "11503",
         "5",
         "Bizkaia",
         "Pa�ses Bajos",
         "7166.0"
        ],
        [
         "11507",
         "5",
         "Bizkaia",
         "Reino Unido",
         "5955.0"
        ],
        [
         "11472",
         "5",
         "Bizkaia",
         "Estados Unidos de Am�rica",
         "4966.0"
        ],
        [
         "11487",
         "5",
         "Bizkaia",
         "Italia",
         "3032.0"
        ],
        [
         "11515",
         "5",
         "Bizkaia",
         "Suecia",
         "2731.0"
        ],
        [
         "11485",
         "5",
         "Bizkaia",
         "Irlanda",
         "2474.0"
        ],
        [
         "11455",
         "5",
         "Bizkaia",
         "Austria",
         "2346.0"
        ],
        [
         "11460",
         "5",
         "Bizkaia",
         "B�lgica",
         "2301.0"
        ],
        [
         "11516",
         "5",
         "Bizkaia",
         "Suiza",
         "2195.0"
        ],
        [
         "11506",
         "5",
         "Bizkaia",
         "Portugal",
         "1994.0"
        ],
        [
         "11505",
         "5",
         "Bizkaia",
         "Polonia",
         "1632.0"
        ],
        [
         "11468",
         "5",
         "Bizkaia",
         "Dinamarca",
         "1106.0"
        ],
        [
         "11465",
         "5",
         "Bizkaia",
         "Colombia",
         "1015.0"
        ],
        [
         "11492",
         "5",
         "Bizkaia",
         "Luxemburgo",
         "986.0"
        ],
        [
         "11495",
         "5",
         "Bizkaia",
         "Marruecos",
         "775.0"
        ],
        [
         "11463",
         "5",
         "Bizkaia",
         "China",
         "581.0"
        ],
        [
         "11479",
         "5",
         "Bizkaia",
         "Grecia",
         "543.0"
        ],
        [
         "11491",
         "5",
         "Bizkaia",
         "Lituania",
         "523.0"
        ]
       ],
       "shape": {
        "columns": 4,
        "rows": 20
       }
      },
      "text/html": [
       "<div>\n",
       "<style scoped>\n",
       "    .dataframe tbody tr th:only-of-type {\n",
       "        vertical-align: middle;\n",
       "    }\n",
       "\n",
       "    .dataframe tbody tr th {\n",
       "        vertical-align: top;\n",
       "    }\n",
       "\n",
       "    .dataframe thead th {\n",
       "        text-align: right;\n",
       "    }\n",
       "</style>\n",
       "<table border=\"1\" class=\"dataframe\">\n",
       "  <thead>\n",
       "    <tr style=\"text-align: right;\">\n",
       "      <th></th>\n",
       "      <th>MES</th>\n",
       "      <th>PROVINCIA_DESTINO</th>\n",
       "      <th>PAIS_ORIGEN</th>\n",
       "      <th>TURISTAS</th>\n",
       "    </tr>\n",
       "  </thead>\n",
       "  <tbody>\n",
       "    <tr>\n",
       "      <th>11476</th>\n",
       "      <td>5</td>\n",
       "      <td>Bizkaia</td>\n",
       "      <td>Francia</td>\n",
       "      <td>17018.0</td>\n",
       "    </tr>\n",
       "    <tr>\n",
       "      <th>11449</th>\n",
       "      <td>5</td>\n",
       "      <td>Bizkaia</td>\n",
       "      <td>Alemania</td>\n",
       "      <td>11068.0</td>\n",
       "    </tr>\n",
       "    <tr>\n",
       "      <th>11503</th>\n",
       "      <td>5</td>\n",
       "      <td>Bizkaia</td>\n",
       "      <td>Pa�ses Bajos</td>\n",
       "      <td>7166.0</td>\n",
       "    </tr>\n",
       "    <tr>\n",
       "      <th>11507</th>\n",
       "      <td>5</td>\n",
       "      <td>Bizkaia</td>\n",
       "      <td>Reino Unido</td>\n",
       "      <td>5955.0</td>\n",
       "    </tr>\n",
       "    <tr>\n",
       "      <th>11472</th>\n",
       "      <td>5</td>\n",
       "      <td>Bizkaia</td>\n",
       "      <td>Estados Unidos de Am�rica</td>\n",
       "      <td>4966.0</td>\n",
       "    </tr>\n",
       "    <tr>\n",
       "      <th>11487</th>\n",
       "      <td>5</td>\n",
       "      <td>Bizkaia</td>\n",
       "      <td>Italia</td>\n",
       "      <td>3032.0</td>\n",
       "    </tr>\n",
       "    <tr>\n",
       "      <th>11515</th>\n",
       "      <td>5</td>\n",
       "      <td>Bizkaia</td>\n",
       "      <td>Suecia</td>\n",
       "      <td>2731.0</td>\n",
       "    </tr>\n",
       "    <tr>\n",
       "      <th>11485</th>\n",
       "      <td>5</td>\n",
       "      <td>Bizkaia</td>\n",
       "      <td>Irlanda</td>\n",
       "      <td>2474.0</td>\n",
       "    </tr>\n",
       "    <tr>\n",
       "      <th>11455</th>\n",
       "      <td>5</td>\n",
       "      <td>Bizkaia</td>\n",
       "      <td>Austria</td>\n",
       "      <td>2346.0</td>\n",
       "    </tr>\n",
       "    <tr>\n",
       "      <th>11460</th>\n",
       "      <td>5</td>\n",
       "      <td>Bizkaia</td>\n",
       "      <td>B�lgica</td>\n",
       "      <td>2301.0</td>\n",
       "    </tr>\n",
       "    <tr>\n",
       "      <th>11516</th>\n",
       "      <td>5</td>\n",
       "      <td>Bizkaia</td>\n",
       "      <td>Suiza</td>\n",
       "      <td>2195.0</td>\n",
       "    </tr>\n",
       "    <tr>\n",
       "      <th>11506</th>\n",
       "      <td>5</td>\n",
       "      <td>Bizkaia</td>\n",
       "      <td>Portugal</td>\n",
       "      <td>1994.0</td>\n",
       "    </tr>\n",
       "    <tr>\n",
       "      <th>11505</th>\n",
       "      <td>5</td>\n",
       "      <td>Bizkaia</td>\n",
       "      <td>Polonia</td>\n",
       "      <td>1632.0</td>\n",
       "    </tr>\n",
       "    <tr>\n",
       "      <th>11468</th>\n",
       "      <td>5</td>\n",
       "      <td>Bizkaia</td>\n",
       "      <td>Dinamarca</td>\n",
       "      <td>1106.0</td>\n",
       "    </tr>\n",
       "    <tr>\n",
       "      <th>11465</th>\n",
       "      <td>5</td>\n",
       "      <td>Bizkaia</td>\n",
       "      <td>Colombia</td>\n",
       "      <td>1015.0</td>\n",
       "    </tr>\n",
       "    <tr>\n",
       "      <th>11492</th>\n",
       "      <td>5</td>\n",
       "      <td>Bizkaia</td>\n",
       "      <td>Luxemburgo</td>\n",
       "      <td>986.0</td>\n",
       "    </tr>\n",
       "    <tr>\n",
       "      <th>11495</th>\n",
       "      <td>5</td>\n",
       "      <td>Bizkaia</td>\n",
       "      <td>Marruecos</td>\n",
       "      <td>775.0</td>\n",
       "    </tr>\n",
       "    <tr>\n",
       "      <th>11463</th>\n",
       "      <td>5</td>\n",
       "      <td>Bizkaia</td>\n",
       "      <td>China</td>\n",
       "      <td>581.0</td>\n",
       "    </tr>\n",
       "    <tr>\n",
       "      <th>11479</th>\n",
       "      <td>5</td>\n",
       "      <td>Bizkaia</td>\n",
       "      <td>Grecia</td>\n",
       "      <td>543.0</td>\n",
       "    </tr>\n",
       "    <tr>\n",
       "      <th>11491</th>\n",
       "      <td>5</td>\n",
       "      <td>Bizkaia</td>\n",
       "      <td>Lituania</td>\n",
       "      <td>523.0</td>\n",
       "    </tr>\n",
       "  </tbody>\n",
       "</table>\n",
       "</div>"
      ],
      "text/plain": [
       "       MES PROVINCIA_DESTINO                PAIS_ORIGEN  TURISTAS\n",
       "11476    5           Bizkaia                    Francia   17018.0\n",
       "11449    5           Bizkaia                   Alemania   11068.0\n",
       "11503    5           Bizkaia               Pa�ses Bajos    7166.0\n",
       "11507    5           Bizkaia                Reino Unido    5955.0\n",
       "11472    5           Bizkaia  Estados Unidos de Am�rica    4966.0\n",
       "11487    5           Bizkaia                     Italia    3032.0\n",
       "11515    5           Bizkaia                     Suecia    2731.0\n",
       "11485    5           Bizkaia                    Irlanda    2474.0\n",
       "11455    5           Bizkaia                    Austria    2346.0\n",
       "11460    5           Bizkaia                    B�lgica    2301.0\n",
       "11516    5           Bizkaia                      Suiza    2195.0\n",
       "11506    5           Bizkaia                   Portugal    1994.0\n",
       "11505    5           Bizkaia                    Polonia    1632.0\n",
       "11468    5           Bizkaia                  Dinamarca    1106.0\n",
       "11465    5           Bizkaia                   Colombia    1015.0\n",
       "11492    5           Bizkaia                 Luxemburgo     986.0\n",
       "11495    5           Bizkaia                  Marruecos     775.0\n",
       "11463    5           Bizkaia                      China     581.0\n",
       "11479    5           Bizkaia                     Grecia     543.0\n",
       "11491    5           Bizkaia                   Lituania     523.0"
      ]
     },
     "execution_count": 50,
     "metadata": {},
     "output_type": "execute_result"
    }
   ],
   "source": [
    "def filtrar_datos(provincia, mes=None):\n",
    "       filtrado_provincia= agrupado[agrupado[\"PROVINCIA_DESTINO\"]== provincia]\n",
    "       if mes:\n",
    "        filtrado_provincia= filtrado_provincia[filtrado_provincia[\"MES\"]== mes]\n",
    "        return filtrado_provincia\n",
    "\n",
    "provincia_Bizkaia_mes5= filtrar_datos(\"Bizkaia\", mes= 5) \n",
    "prov_Bizkaia_mes5_ordenada= provincia_Bizkaia_mes5.sort_values([\"TURISTAS\"], ascending=False).head(20) #selecciono los 20 principales\n",
    "prov_Bizkaia_mes5_ordenada"
   ]
  },
  {
   "cell_type": "code",
   "execution_count": 51,
   "metadata": {},
   "outputs": [
    {
     "data": {
      "image/png": "[encoded data removed]",
      "text/plain": [
       "<Figure size 1000x600 with 1 Axes>"
      ]
     },
     "metadata": {},
     "output_type": "display_data"
    }
   ],
   "source": [
    "plt.figure(figsize=(10,6))\n",
    "\n",
    "plt.barh(prov_Bizkaia_mes5_ordenada[\"PAIS_ORIGEN\"], prov_Bizkaia_mes5_ordenada[\"TURISTAS\"], color= \"skyblue\")\n",
    "\n",
    "plt.xlabel(\"Número de Turistas\")\n",
    "plt.ylabel(\"País de Origen\")\n",
    "plt.title(\"Turistas en Mayo 2024\")\n",
    "\n",
    "plt.gca().invert_yaxis() #para que el pais con más turistas este en la parte superior\n",
    "plt.tight_layout() #ajustar visualización\n",
    "\n",
    "plt.show()"
   ]
  },
  {
   "cell_type": "markdown",
   "metadata": {},
   "source": [
    "## Nº DE TURISTAS JUNIO 2024 EN BIZKAIA"
   ]
  },
  {
   "cell_type": "code",
   "execution_count": null,
   "metadata": {},
   "outputs": [],
   "source": [
    "def filtrar_datos(provincia, mes=None):\n",
    "       filtrado_provincia= agrupado[agrupado[\"PROVINCIA_DESTINO\"]== provincia]\n",
    "       if mes:\n",
    "        filtrado_provincia= filtrado_provincia[filtrado_provincia[\"MES\"]== mes]\n",
    "        return filtrado_provincia\n",
    "\n",
    "provincia_Bizkaia_mes6= filtrar_datos(\"Bizkaia\", mes= 6) \n",
    "prov_Bizkaia_mes6_ordenada= provincia_Bizkaia_mes6.sort_values([\"TURISTAS\"], ascending=False).head(20) #selecciono los 20 principales\n",
    "prov_Bizkaia_mes6_ordenada"
   ]
  },
  {
   "cell_type": "code",
   "execution_count": 52,
   "metadata": {},
   "outputs": [
    {
     "data": {
      "image/png": "[encoded data removed]",
      "text/plain": [
       "<Figure size 1000x600 with 1 Axes>"
      ]
     },
     "metadata": {},
     "output_type": "display_data"
    }
   ],
   "source": [
    "plt.figure(figsize=(10,6))\n",
    "\n",
    "plt.barh(prov_Bizkaia_mes6_ordenada[\"PAIS_ORIGEN\"], prov_Bizkaia_mes6_ordenada[\"TURISTAS\"], color= \"skyblue\")\n",
    "\n",
    "plt.xlabel(\"Número de Turistas\")\n",
    "plt.ylabel(\"País de Origen\")\n",
    "plt.title(\"Turistas en Junio 2024\")\n",
    "\n",
    "plt.gca().invert_yaxis() #para que el pais con más turistas este en la parte superior\n",
    "plt.tight_layout() #ajustar visualización\n",
    "\n",
    "plt.show()"
   ]
  },
  {
   "cell_type": "markdown",
   "metadata": {},
   "source": [
    "## Nº DE TURISTAS JULIO 2024 EN BIZKAIA"
   ]
  },
  {
   "cell_type": "code",
   "execution_count": 53,
   "metadata": {},
   "outputs": [
    {
     "data": {
      "application/vnd.microsoft.datawrangler.viewer.v0+json": {
       "columns": [
        {
         "name": "index",
         "rawType": "int64",
         "type": "integer"
        },
        {
         "name": "MES",
         "rawType": "int64",
         "type": "integer"
        },
        {
         "name": "PROVINCIA_DESTINO",
         "rawType": "object",
         "type": "string"
        },
        {
         "name": "PAIS_ORIGEN",
         "rawType": "object",
         "type": "string"
        },
        {
         "name": "TURISTAS",
         "rawType": "float64",
         "type": "float"
        }
       ],
       "conversionMethod": "pd.DataFrame",
       "ref": "e8fcf201-c90b-4e25-8061-29e6646ea481",
       "rows": [
        [
         "17502",
         "7",
         "Bizkaia",
         "Francia",
         "15714.0"
        ],
        [
         "17475",
         "7",
         "Bizkaia",
         "Alemania",
         "10217.0"
        ],
        [
         "17527",
         "7",
         "Bizkaia",
         "Pa�ses Bajos",
         "7263.0"
        ],
        [
         "17531",
         "7",
         "Bizkaia",
         "Reino Unido",
         "7177.0"
        ],
        [
         "17498",
         "7",
         "Bizkaia",
         "Estados Unidos de Am�rica",
         "5196.0"
        ],
        [
         "17486",
         "7",
         "Bizkaia",
         "B�lgica",
         "4292.0"
        ],
        [
         "17512",
         "7",
         "Bizkaia",
         "Italia",
         "4042.0"
        ],
        [
         "17539",
         "7",
         "Bizkaia",
         "Suecia",
         "3237.0"
        ],
        [
         "17529",
         "7",
         "Bizkaia",
         "Polonia",
         "2824.0"
        ],
        [
         "17540",
         "7",
         "Bizkaia",
         "Suiza",
         "2663.0"
        ],
        [
         "17509",
         "7",
         "Bizkaia",
         "Irlanda",
         "2511.0"
        ],
        [
         "17530",
         "7",
         "Bizkaia",
         "Portugal",
         "2489.0"
        ],
        [
         "17481",
         "7",
         "Bizkaia",
         "Austria",
         "2407.0"
        ],
        [
         "17494",
         "7",
         "Bizkaia",
         "Dinamarca",
         "1669.0"
        ],
        [
         "17491",
         "7",
         "Bizkaia",
         "Colombia",
         "1146.0"
        ],
        [
         "17517",
         "7",
         "Bizkaia",
         "Luxemburgo",
         "1023.0"
        ],
        [
         "17519",
         "7",
         "Bizkaia",
         "Marruecos",
         "717.0"
        ],
        [
         "17489",
         "7",
         "Bizkaia",
         "China",
         "692.0"
        ],
        [
         "17523",
         "7",
         "Bizkaia",
         "Noruega",
         "665.0"
        ],
        [
         "17534",
         "7",
         "Bizkaia",
         "Ruman�a",
         "629.0"
        ]
       ],
       "shape": {
        "columns": 4,
        "rows": 20
       }
      },
      "text/html": [
       "<div>\n",
       "<style scoped>\n",
       "    .dataframe tbody tr th:only-of-type {\n",
       "        vertical-align: middle;\n",
       "    }\n",
       "\n",
       "    .dataframe tbody tr th {\n",
       "        vertical-align: top;\n",
       "    }\n",
       "\n",
       "    .dataframe thead th {\n",
       "        text-align: right;\n",
       "    }\n",
       "</style>\n",
       "<table border=\"1\" class=\"dataframe\">\n",
       "  <thead>\n",
       "    <tr style=\"text-align: right;\">\n",
       "      <th></th>\n",
       "      <th>MES</th>\n",
       "      <th>PROVINCIA_DESTINO</th>\n",
       "      <th>PAIS_ORIGEN</th>\n",
       "      <th>TURISTAS</th>\n",
       "    </tr>\n",
       "  </thead>\n",
       "  <tbody>\n",
       "    <tr>\n",
       "      <th>17502</th>\n",
       "      <td>7</td>\n",
       "      <td>Bizkaia</td>\n",
       "      <td>Francia</td>\n",
       "      <td>15714.0</td>\n",
       "    </tr>\n",
       "    <tr>\n",
       "      <th>17475</th>\n",
       "      <td>7</td>\n",
       "      <td>Bizkaia</td>\n",
       "      <td>Alemania</td>\n",
       "      <td>10217.0</td>\n",
       "    </tr>\n",
       "    <tr>\n",
       "      <th>17527</th>\n",
       "      <td>7</td>\n",
       "      <td>Bizkaia</td>\n",
       "      <td>Pa�ses Bajos</td>\n",
       "      <td>7263.0</td>\n",
       "    </tr>\n",
       "    <tr>\n",
       "      <th>17531</th>\n",
       "      <td>7</td>\n",
       "      <td>Bizkaia</td>\n",
       "      <td>Reino Unido</td>\n",
       "      <td>7177.0</td>\n",
       "    </tr>\n",
       "    <tr>\n",
       "      <th>17498</th>\n",
       "      <td>7</td>\n",
       "      <td>Bizkaia</td>\n",
       "      <td>Estados Unidos de Am�rica</td>\n",
       "      <td>5196.0</td>\n",
       "    </tr>\n",
       "    <tr>\n",
       "      <th>17486</th>\n",
       "      <td>7</td>\n",
       "      <td>Bizkaia</td>\n",
       "      <td>B�lgica</td>\n",
       "      <td>4292.0</td>\n",
       "    </tr>\n",
       "    <tr>\n",
       "      <th>17512</th>\n",
       "      <td>7</td>\n",
       "      <td>Bizkaia</td>\n",
       "      <td>Italia</td>\n",
       "      <td>4042.0</td>\n",
       "    </tr>\n",
       "    <tr>\n",
       "      <th>17539</th>\n",
       "      <td>7</td>\n",
       "      <td>Bizkaia</td>\n",
       "      <td>Suecia</td>\n",
       "      <td>3237.0</td>\n",
       "    </tr>\n",
       "    <tr>\n",
       "      <th>17529</th>\n",
       "      <td>7</td>\n",
       "      <td>Bizkaia</td>\n",
       "      <td>Polonia</td>\n",
       "      <td>2824.0</td>\n",
       "    </tr>\n",
       "    <tr>\n",
       "      <th>17540</th>\n",
       "      <td>7</td>\n",
       "      <td>Bizkaia</td>\n",
       "      <td>Suiza</td>\n",
       "      <td>2663.0</td>\n",
       "    </tr>\n",
       "    <tr>\n",
       "      <th>17509</th>\n",
       "      <td>7</td>\n",
       "      <td>Bizkaia</td>\n",
       "      <td>Irlanda</td>\n",
       "      <td>2511.0</td>\n",
       "    </tr>\n",
       "    <tr>\n",
       "      <th>17530</th>\n",
       "      <td>7</td>\n",
       "      <td>Bizkaia</td>\n",
       "      <td>Portugal</td>\n",
       "      <td>2489.0</td>\n",
       "    </tr>\n",
       "    <tr>\n",
       "      <th>17481</th>\n",
       "      <td>7</td>\n",
       "      <td>Bizkaia</td>\n",
       "      <td>Austria</td>\n",
       "      <td>2407.0</td>\n",
       "    </tr>\n",
       "    <tr>\n",
       "      <th>17494</th>\n",
       "      <td>7</td>\n",
       "      <td>Bizkaia</td>\n",
       "      <td>Dinamarca</td>\n",
       "      <td>1669.0</td>\n",
       "    </tr>\n",
       "    <tr>\n",
       "      <th>17491</th>\n",
       "      <td>7</td>\n",
       "      <td>Bizkaia</td>\n",
       "      <td>Colombia</td>\n",
       "      <td>1146.0</td>\n",
       "    </tr>\n",
       "    <tr>\n",
       "      <th>17517</th>\n",
       "      <td>7</td>\n",
       "      <td>Bizkaia</td>\n",
       "      <td>Luxemburgo</td>\n",
       "      <td>1023.0</td>\n",
       "    </tr>\n",
       "    <tr>\n",
       "      <th>17519</th>\n",
       "      <td>7</td>\n",
       "      <td>Bizkaia</td>\n",
       "      <td>Marruecos</td>\n",
       "      <td>717.0</td>\n",
       "    </tr>\n",
       "    <tr>\n",
       "      <th>17489</th>\n",
       "      <td>7</td>\n",
       "      <td>Bizkaia</td>\n",
       "      <td>China</td>\n",
       "      <td>692.0</td>\n",
       "    </tr>\n",
       "    <tr>\n",
       "      <th>17523</th>\n",
       "      <td>7</td>\n",
       "      <td>Bizkaia</td>\n",
       "      <td>Noruega</td>\n",
       "      <td>665.0</td>\n",
       "    </tr>\n",
       "    <tr>\n",
       "      <th>17534</th>\n",
       "      <td>7</td>\n",
       "      <td>Bizkaia</td>\n",
       "      <td>Ruman�a</td>\n",
       "      <td>629.0</td>\n",
       "    </tr>\n",
       "  </tbody>\n",
       "</table>\n",
       "</div>"
      ],
      "text/plain": [
       "       MES PROVINCIA_DESTINO                PAIS_ORIGEN  TURISTAS\n",
       "17502    7           Bizkaia                    Francia   15714.0\n",
       "17475    7           Bizkaia                   Alemania   10217.0\n",
       "17527    7           Bizkaia               Pa�ses Bajos    7263.0\n",
       "17531    7           Bizkaia                Reino Unido    7177.0\n",
       "17498    7           Bizkaia  Estados Unidos de Am�rica    5196.0\n",
       "17486    7           Bizkaia                    B�lgica    4292.0\n",
       "17512    7           Bizkaia                     Italia    4042.0\n",
       "17539    7           Bizkaia                     Suecia    3237.0\n",
       "17529    7           Bizkaia                    Polonia    2824.0\n",
       "17540    7           Bizkaia                      Suiza    2663.0\n",
       "17509    7           Bizkaia                    Irlanda    2511.0\n",
       "17530    7           Bizkaia                   Portugal    2489.0\n",
       "17481    7           Bizkaia                    Austria    2407.0\n",
       "17494    7           Bizkaia                  Dinamarca    1669.0\n",
       "17491    7           Bizkaia                   Colombia    1146.0\n",
       "17517    7           Bizkaia                 Luxemburgo    1023.0\n",
       "17519    7           Bizkaia                  Marruecos     717.0\n",
       "17489    7           Bizkaia                      China     692.0\n",
       "17523    7           Bizkaia                    Noruega     665.0\n",
       "17534    7           Bizkaia                    Ruman�a     629.0"
      ]
     },
     "execution_count": 53,
     "metadata": {},
     "output_type": "execute_result"
    }
   ],
   "source": [
    "def filtrar_datos(provincia, mes=None):\n",
    "       filtrado_provincia= agrupado[agrupado[\"PROVINCIA_DESTINO\"]== provincia]\n",
    "       if mes:\n",
    "        filtrado_provincia= filtrado_provincia[filtrado_provincia[\"MES\"]== mes]\n",
    "        return filtrado_provincia\n",
    "\n",
    "provincia_Bizkaia_mes7= filtrar_datos(\"Bizkaia\", mes= 7) \n",
    "prov_Bizkaia_mes7_ordenada= provincia_Bizkaia_mes7.sort_values([\"TURISTAS\"], ascending=False).head(20) #selecciono los 20 principales\n",
    "prov_Bizkaia_mes7_ordenada"
   ]
  },
  {
   "cell_type": "code",
   "execution_count": 54,
   "metadata": {},
   "outputs": [
    {
     "data": {
      "image/png": "[encoded data removed]",
      "text/plain": [
       "<Figure size 1000x600 with 1 Axes>"
      ]
     },
     "metadata": {},
     "output_type": "display_data"
    }
   ],
   "source": [
    "plt.figure(figsize=(10,6))\n",
    "\n",
    "plt.barh(prov_Bizkaia_mes7_ordenada[\"PAIS_ORIGEN\"], prov_Bizkaia_mes7_ordenada[\"TURISTAS\"], color= \"skyblue\")\n",
    "\n",
    "plt.xlabel(\"Número de Turistas\")\n",
    "plt.ylabel(\"País de Origen\")\n",
    "plt.title(\"Turistas en Julio 2024\")\n",
    "\n",
    "plt.gca().invert_yaxis() #para que el pais con más turistas este en la parte superior\n",
    "plt.tight_layout() #ajustar visualización\n",
    "\n",
    "plt.show()"
   ]
  },
  {
   "cell_type": "markdown",
   "metadata": {},
   "source": [
    "## Nº DE TURISTAS AGOSTO 2024 EN BIZKAIA"
   ]
  },
  {
   "cell_type": "code",
   "execution_count": 55,
   "metadata": {},
   "outputs": [
    {
     "data": {
      "application/vnd.microsoft.datawrangler.viewer.v0+json": {
       "columns": [
        {
         "name": "index",
         "rawType": "int64",
         "type": "integer"
        },
        {
         "name": "MES",
         "rawType": "int64",
         "type": "integer"
        },
        {
         "name": "PROVINCIA_DESTINO",
         "rawType": "object",
         "type": "string"
        },
        {
         "name": "PAIS_ORIGEN",
         "rawType": "object",
         "type": "string"
        },
        {
         "name": "TURISTAS",
         "rawType": "float64",
         "type": "float"
        }
       ],
       "conversionMethod": "pd.DataFrame",
       "ref": "6c122ced-587b-45c1-becc-973e191ed21e",
       "rows": [
        [
         "20561",
         "8",
         "Bizkaia",
         "Francia",
         "22048.0"
        ],
        [
         "20534",
         "8",
         "Bizkaia",
         "Alemania",
         "11189.0"
        ],
        [
         "20572",
         "8",
         "Bizkaia",
         "Italia",
         "8640.0"
        ],
        [
         "20591",
         "8",
         "Bizkaia",
         "Pa�ses Bajos",
         "8236.0"
        ],
        [
         "20595",
         "8",
         "Bizkaia",
         "Reino Unido",
         "7657.0"
        ],
        [
         "20545",
         "8",
         "Bizkaia",
         "B�lgica",
         "3732.0"
        ],
        [
         "20557",
         "8",
         "Bizkaia",
         "Estados Unidos de Am�rica",
         "3490.0"
        ],
        [
         "20603",
         "8",
         "Bizkaia",
         "Suiza",
         "2994.0"
        ],
        [
         "20594",
         "8",
         "Bizkaia",
         "Portugal",
         "2801.0"
        ],
        [
         "20540",
         "8",
         "Bizkaia",
         "Austria",
         "2648.0"
        ],
        [
         "20602",
         "8",
         "Bizkaia",
         "Suecia",
         "2373.0"
        ],
        [
         "20570",
         "8",
         "Bizkaia",
         "Irlanda",
         "2296.0"
        ],
        [
         "20593",
         "8",
         "Bizkaia",
         "Polonia",
         "1640.0"
        ],
        [
         "20550",
         "8",
         "Bizkaia",
         "Colombia",
         "1108.0"
        ],
        [
         "20553",
         "8",
         "Bizkaia",
         "Dinamarca",
         "1107.0"
        ],
        [
         "20578",
         "8",
         "Bizkaia",
         "Luxemburgo",
         "1059.0"
        ],
        [
         "20580",
         "8",
         "Bizkaia",
         "Marruecos",
         "929.0"
        ],
        [
         "20548",
         "8",
         "Bizkaia",
         "China",
         "679.0"
        ],
        [
         "20598",
         "8",
         "Bizkaia",
         "Ruman�a",
         "574.0"
        ],
        [
         "20583",
         "8",
         "Bizkaia",
         "M�xico",
         "512.0"
        ]
       ],
       "shape": {
        "columns": 4,
        "rows": 20
       }
      },
      "text/html": [
       "<div>\n",
       "<style scoped>\n",
       "    .dataframe tbody tr th:only-of-type {\n",
       "        vertical-align: middle;\n",
       "    }\n",
       "\n",
       "    .dataframe tbody tr th {\n",
       "        vertical-align: top;\n",
       "    }\n",
       "\n",
       "    .dataframe thead th {\n",
       "        text-align: right;\n",
       "    }\n",
       "</style>\n",
       "<table border=\"1\" class=\"dataframe\">\n",
       "  <thead>\n",
       "    <tr style=\"text-align: right;\">\n",
       "      <th></th>\n",
       "      <th>MES</th>\n",
       "      <th>PROVINCIA_DESTINO</th>\n",
       "      <th>PAIS_ORIGEN</th>\n",
       "      <th>TURISTAS</th>\n",
       "    </tr>\n",
       "  </thead>\n",
       "  <tbody>\n",
       "    <tr>\n",
       "      <th>20561</th>\n",
       "      <td>8</td>\n",
       "      <td>Bizkaia</td>\n",
       "      <td>Francia</td>\n",
       "      <td>22048.0</td>\n",
       "    </tr>\n",
       "    <tr>\n",
       "      <th>20534</th>\n",
       "      <td>8</td>\n",
       "      <td>Bizkaia</td>\n",
       "      <td>Alemania</td>\n",
       "      <td>11189.0</td>\n",
       "    </tr>\n",
       "    <tr>\n",
       "      <th>20572</th>\n",
       "      <td>8</td>\n",
       "      <td>Bizkaia</td>\n",
       "      <td>Italia</td>\n",
       "      <td>8640.0</td>\n",
       "    </tr>\n",
       "    <tr>\n",
       "      <th>20591</th>\n",
       "      <td>8</td>\n",
       "      <td>Bizkaia</td>\n",
       "      <td>Pa�ses Bajos</td>\n",
       "      <td>8236.0</td>\n",
       "    </tr>\n",
       "    <tr>\n",
       "      <th>20595</th>\n",
       "      <td>8</td>\n",
       "      <td>Bizkaia</td>\n",
       "      <td>Reino Unido</td>\n",
       "      <td>7657.0</td>\n",
       "    </tr>\n",
       "    <tr>\n",
       "      <th>20545</th>\n",
       "      <td>8</td>\n",
       "      <td>Bizkaia</td>\n",
       "      <td>B�lgica</td>\n",
       "      <td>3732.0</td>\n",
       "    </tr>\n",
       "    <tr>\n",
       "      <th>20557</th>\n",
       "      <td>8</td>\n",
       "      <td>Bizkaia</td>\n",
       "      <td>Estados Unidos de Am�rica</td>\n",
       "      <td>3490.0</td>\n",
       "    </tr>\n",
       "    <tr>\n",
       "      <th>20603</th>\n",
       "      <td>8</td>\n",
       "      <td>Bizkaia</td>\n",
       "      <td>Suiza</td>\n",
       "      <td>2994.0</td>\n",
       "    </tr>\n",
       "    <tr>\n",
       "      <th>20594</th>\n",
       "      <td>8</td>\n",
       "      <td>Bizkaia</td>\n",
       "      <td>Portugal</td>\n",
       "      <td>2801.0</td>\n",
       "    </tr>\n",
       "    <tr>\n",
       "      <th>20540</th>\n",
       "      <td>8</td>\n",
       "      <td>Bizkaia</td>\n",
       "      <td>Austria</td>\n",
       "      <td>2648.0</td>\n",
       "    </tr>\n",
       "    <tr>\n",
       "      <th>20602</th>\n",
       "      <td>8</td>\n",
       "      <td>Bizkaia</td>\n",
       "      <td>Suecia</td>\n",
       "      <td>2373.0</td>\n",
       "    </tr>\n",
       "    <tr>\n",
       "      <th>20570</th>\n",
       "      <td>8</td>\n",
       "      <td>Bizkaia</td>\n",
       "      <td>Irlanda</td>\n",
       "      <td>2296.0</td>\n",
       "    </tr>\n",
       "    <tr>\n",
       "      <th>20593</th>\n",
       "      <td>8</td>\n",
       "      <td>Bizkaia</td>\n",
       "      <td>Polonia</td>\n",
       "      <td>1640.0</td>\n",
       "    </tr>\n",
       "    <tr>\n",
       "      <th>20550</th>\n",
       "      <td>8</td>\n",
       "      <td>Bizkaia</td>\n",
       "      <td>Colombia</td>\n",
       "      <td>1108.0</td>\n",
       "    </tr>\n",
       "    <tr>\n",
       "      <th>20553</th>\n",
       "      <td>8</td>\n",
       "      <td>Bizkaia</td>\n",
       "      <td>Dinamarca</td>\n",
       "      <td>1107.0</td>\n",
       "    </tr>\n",
       "    <tr>\n",
       "      <th>20578</th>\n",
       "      <td>8</td>\n",
       "      <td>Bizkaia</td>\n",
       "      <td>Luxemburgo</td>\n",
       "      <td>1059.0</td>\n",
       "    </tr>\n",
       "    <tr>\n",
       "      <th>20580</th>\n",
       "      <td>8</td>\n",
       "      <td>Bizkaia</td>\n",
       "      <td>Marruecos</td>\n",
       "      <td>929.0</td>\n",
       "    </tr>\n",
       "    <tr>\n",
       "      <th>20548</th>\n",
       "      <td>8</td>\n",
       "      <td>Bizkaia</td>\n",
       "      <td>China</td>\n",
       "      <td>679.0</td>\n",
       "    </tr>\n",
       "    <tr>\n",
       "      <th>20598</th>\n",
       "      <td>8</td>\n",
       "      <td>Bizkaia</td>\n",
       "      <td>Ruman�a</td>\n",
       "      <td>574.0</td>\n",
       "    </tr>\n",
       "    <tr>\n",
       "      <th>20583</th>\n",
       "      <td>8</td>\n",
       "      <td>Bizkaia</td>\n",
       "      <td>M�xico</td>\n",
       "      <td>512.0</td>\n",
       "    </tr>\n",
       "  </tbody>\n",
       "</table>\n",
       "</div>"
      ],
      "text/plain": [
       "       MES PROVINCIA_DESTINO                PAIS_ORIGEN  TURISTAS\n",
       "20561    8           Bizkaia                    Francia   22048.0\n",
       "20534    8           Bizkaia                   Alemania   11189.0\n",
       "20572    8           Bizkaia                     Italia    8640.0\n",
       "20591    8           Bizkaia               Pa�ses Bajos    8236.0\n",
       "20595    8           Bizkaia                Reino Unido    7657.0\n",
       "20545    8           Bizkaia                    B�lgica    3732.0\n",
       "20557    8           Bizkaia  Estados Unidos de Am�rica    3490.0\n",
       "20603    8           Bizkaia                      Suiza    2994.0\n",
       "20594    8           Bizkaia                   Portugal    2801.0\n",
       "20540    8           Bizkaia                    Austria    2648.0\n",
       "20602    8           Bizkaia                     Suecia    2373.0\n",
       "20570    8           Bizkaia                    Irlanda    2296.0\n",
       "20593    8           Bizkaia                    Polonia    1640.0\n",
       "20550    8           Bizkaia                   Colombia    1108.0\n",
       "20553    8           Bizkaia                  Dinamarca    1107.0\n",
       "20578    8           Bizkaia                 Luxemburgo    1059.0\n",
       "20580    8           Bizkaia                  Marruecos     929.0\n",
       "20548    8           Bizkaia                      China     679.0\n",
       "20598    8           Bizkaia                    Ruman�a     574.0\n",
       "20583    8           Bizkaia                     M�xico     512.0"
      ]
     },
     "execution_count": 55,
     "metadata": {},
     "output_type": "execute_result"
    }
   ],
   "source": [
    "def filtrar_datos(provincia, mes=None):\n",
    "       filtrado_provincia= agrupado[agrupado[\"PROVINCIA_DESTINO\"]== provincia]\n",
    "       if mes:\n",
    "        filtrado_provincia= filtrado_provincia[filtrado_provincia[\"MES\"]== mes]\n",
    "        return filtrado_provincia\n",
    "\n",
    "provincia_Bizkaia_mes8= filtrar_datos(\"Bizkaia\", mes= 8) \n",
    "prov_Bizkaia_mes8_ordenada= provincia_Bizkaia_mes8.sort_values([\"TURISTAS\"], ascending=False).head(20) #selecciono los 20 principales\n",
    "prov_Bizkaia_mes8_ordenada"
   ]
  },
  {
   "cell_type": "code",
   "execution_count": 56,
   "metadata": {},
   "outputs": [
    {
     "data": {
      "image/png": "[encoded data removed]",
      "text/plain": [
       "<Figure size 1000x600 with 1 Axes>"
      ]
     },
     "metadata": {},
     "output_type": "display_data"
    }
   ],
   "source": [
    "plt.figure(figsize=(10,6))\n",
    "\n",
    "plt.barh(prov_Bizkaia_mes8_ordenada[\"PAIS_ORIGEN\"], prov_Bizkaia_mes8_ordenada[\"TURISTAS\"], color= \"skyblue\")\n",
    "\n",
    "plt.xlabel(\"Número de Turistas\")\n",
    "plt.ylabel(\"País de Origen\")\n",
    "plt.title(\"Turistas en Agosto 2024\")\n",
    "\n",
    "plt.gca().invert_yaxis() #para que el pais con más turistas este en la parte superior\n",
    "plt.tight_layout() #ajustar visualización\n",
    "\n",
    "plt.show()"
   ]
  },
  {
   "cell_type": "markdown",
   "metadata": {},
   "source": [
    "## Nº DE TURISTAS SEPTIEMBRE 2024 EN BIZKAIA"
   ]
  },
  {
   "cell_type": "code",
   "execution_count": 57,
   "metadata": {},
   "outputs": [
    {
     "data": {
      "application/vnd.microsoft.datawrangler.viewer.v0+json": {
       "columns": [
        {
         "name": "index",
         "rawType": "int64",
         "type": "integer"
        },
        {
         "name": "MES",
         "rawType": "int64",
         "type": "integer"
        },
        {
         "name": "PROVINCIA_DESTINO",
         "rawType": "object",
         "type": "string"
        },
        {
         "name": "PAIS_ORIGEN",
         "rawType": "object",
         "type": "string"
        },
        {
         "name": "TURISTAS",
         "rawType": "float64",
         "type": "float"
        }
       ],
       "conversionMethod": "pd.DataFrame",
       "ref": "000dbe6d-78d7-4864-bf51-26300af61afa",
       "rows": [
        [
         "23685",
         "9",
         "Bizkaia",
         "Francia",
         "12911.0"
        ],
        [
         "23659",
         "9",
         "Bizkaia",
         "Alemania",
         "11893.0"
        ],
        [
         "23712",
         "9",
         "Bizkaia",
         "Pa�ses Bajos",
         "7438.0"
        ],
        [
         "23716",
         "9",
         "Bizkaia",
         "Reino Unido",
         "6613.0"
        ],
        [
         "23681",
         "9",
         "Bizkaia",
         "Estados Unidos de Am�rica",
         "5712.0"
        ],
        [
         "23696",
         "9",
         "Bizkaia",
         "Italia",
         "3415.0"
        ],
        [
         "23724",
         "9",
         "Bizkaia",
         "Suecia",
         "2878.0"
        ],
        [
         "23670",
         "9",
         "Bizkaia",
         "B�lgica",
         "2744.0"
        ],
        [
         "23694",
         "9",
         "Bizkaia",
         "Irlanda",
         "2557.0"
        ],
        [
         "23665",
         "9",
         "Bizkaia",
         "Austria",
         "2543.0"
        ],
        [
         "23715",
         "9",
         "Bizkaia",
         "Portugal",
         "2307.0"
        ],
        [
         "23725",
         "9",
         "Bizkaia",
         "Suiza",
         "2284.0"
        ],
        [
         "23714",
         "9",
         "Bizkaia",
         "Polonia",
         "1658.0"
        ],
        [
         "23677",
         "9",
         "Bizkaia",
         "Dinamarca",
         "1411.0"
        ],
        [
         "23703",
         "9",
         "Bizkaia",
         "Marruecos",
         "1087.0"
        ],
        [
         "23674",
         "9",
         "Bizkaia",
         "Colombia",
         "992.0"
        ],
        [
         "23701",
         "9",
         "Bizkaia",
         "Luxemburgo",
         "963.0"
        ],
        [
         "23673",
         "9",
         "Bizkaia",
         "China",
         "717.0"
        ],
        [
         "23671",
         "9",
         "Bizkaia",
         "Canad�",
         "639.0"
        ],
        [
         "23705",
         "9",
         "Bizkaia",
         "M�xico",
         "637.0"
        ]
       ],
       "shape": {
        "columns": 4,
        "rows": 20
       }
      },
      "text/html": [
       "<div>\n",
       "<style scoped>\n",
       "    .dataframe tbody tr th:only-of-type {\n",
       "        vertical-align: middle;\n",
       "    }\n",
       "\n",
       "    .dataframe tbody tr th {\n",
       "        vertical-align: top;\n",
       "    }\n",
       "\n",
       "    .dataframe thead th {\n",
       "        text-align: right;\n",
       "    }\n",
       "</style>\n",
       "<table border=\"1\" class=\"dataframe\">\n",
       "  <thead>\n",
       "    <tr style=\"text-align: right;\">\n",
       "      <th></th>\n",
       "      <th>MES</th>\n",
       "      <th>PROVINCIA_DESTINO</th>\n",
       "      <th>PAIS_ORIGEN</th>\n",
       "      <th>TURISTAS</th>\n",
       "    </tr>\n",
       "  </thead>\n",
       "  <tbody>\n",
       "    <tr>\n",
       "      <th>23685</th>\n",
       "      <td>9</td>\n",
       "      <td>Bizkaia</td>\n",
       "      <td>Francia</td>\n",
       "      <td>12911.0</td>\n",
       "    </tr>\n",
       "    <tr>\n",
       "      <th>23659</th>\n",
       "      <td>9</td>\n",
       "      <td>Bizkaia</td>\n",
       "      <td>Alemania</td>\n",
       "      <td>11893.0</td>\n",
       "    </tr>\n",
       "    <tr>\n",
       "      <th>23712</th>\n",
       "      <td>9</td>\n",
       "      <td>Bizkaia</td>\n",
       "      <td>Pa�ses Bajos</td>\n",
       "      <td>7438.0</td>\n",
       "    </tr>\n",
       "    <tr>\n",
       "      <th>23716</th>\n",
       "      <td>9</td>\n",
       "      <td>Bizkaia</td>\n",
       "      <td>Reino Unido</td>\n",
       "      <td>6613.0</td>\n",
       "    </tr>\n",
       "    <tr>\n",
       "      <th>23681</th>\n",
       "      <td>9</td>\n",
       "      <td>Bizkaia</td>\n",
       "      <td>Estados Unidos de Am�rica</td>\n",
       "      <td>5712.0</td>\n",
       "    </tr>\n",
       "    <tr>\n",
       "      <th>23696</th>\n",
       "      <td>9</td>\n",
       "      <td>Bizkaia</td>\n",
       "      <td>Italia</td>\n",
       "      <td>3415.0</td>\n",
       "    </tr>\n",
       "    <tr>\n",
       "      <th>23724</th>\n",
       "      <td>9</td>\n",
       "      <td>Bizkaia</td>\n",
       "      <td>Suecia</td>\n",
       "      <td>2878.0</td>\n",
       "    </tr>\n",
       "    <tr>\n",
       "      <th>23670</th>\n",
       "      <td>9</td>\n",
       "      <td>Bizkaia</td>\n",
       "      <td>B�lgica</td>\n",
       "      <td>2744.0</td>\n",
       "    </tr>\n",
       "    <tr>\n",
       "      <th>23694</th>\n",
       "      <td>9</td>\n",
       "      <td>Bizkaia</td>\n",
       "      <td>Irlanda</td>\n",
       "      <td>2557.0</td>\n",
       "    </tr>\n",
       "    <tr>\n",
       "      <th>23665</th>\n",
       "      <td>9</td>\n",
       "      <td>Bizkaia</td>\n",
       "      <td>Austria</td>\n",
       "      <td>2543.0</td>\n",
       "    </tr>\n",
       "    <tr>\n",
       "      <th>23715</th>\n",
       "      <td>9</td>\n",
       "      <td>Bizkaia</td>\n",
       "      <td>Portugal</td>\n",
       "      <td>2307.0</td>\n",
       "    </tr>\n",
       "    <tr>\n",
       "      <th>23725</th>\n",
       "      <td>9</td>\n",
       "      <td>Bizkaia</td>\n",
       "      <td>Suiza</td>\n",
       "      <td>2284.0</td>\n",
       "    </tr>\n",
       "    <tr>\n",
       "      <th>23714</th>\n",
       "      <td>9</td>\n",
       "      <td>Bizkaia</td>\n",
       "      <td>Polonia</td>\n",
       "      <td>1658.0</td>\n",
       "    </tr>\n",
       "    <tr>\n",
       "      <th>23677</th>\n",
       "      <td>9</td>\n",
       "      <td>Bizkaia</td>\n",
       "      <td>Dinamarca</td>\n",
       "      <td>1411.0</td>\n",
       "    </tr>\n",
       "    <tr>\n",
       "      <th>23703</th>\n",
       "      <td>9</td>\n",
       "      <td>Bizkaia</td>\n",
       "      <td>Marruecos</td>\n",
       "      <td>1087.0</td>\n",
       "    </tr>\n",
       "    <tr>\n",
       "      <th>23674</th>\n",
       "      <td>9</td>\n",
       "      <td>Bizkaia</td>\n",
       "      <td>Colombia</td>\n",
       "      <td>992.0</td>\n",
       "    </tr>\n",
       "    <tr>\n",
       "      <th>23701</th>\n",
       "      <td>9</td>\n",
       "      <td>Bizkaia</td>\n",
       "      <td>Luxemburgo</td>\n",
       "      <td>963.0</td>\n",
       "    </tr>\n",
       "    <tr>\n",
       "      <th>23673</th>\n",
       "      <td>9</td>\n",
       "      <td>Bizkaia</td>\n",
       "      <td>China</td>\n",
       "      <td>717.0</td>\n",
       "    </tr>\n",
       "    <tr>\n",
       "      <th>23671</th>\n",
       "      <td>9</td>\n",
       "      <td>Bizkaia</td>\n",
       "      <td>Canad�</td>\n",
       "      <td>639.0</td>\n",
       "    </tr>\n",
       "    <tr>\n",
       "      <th>23705</th>\n",
       "      <td>9</td>\n",
       "      <td>Bizkaia</td>\n",
       "      <td>M�xico</td>\n",
       "      <td>637.0</td>\n",
       "    </tr>\n",
       "  </tbody>\n",
       "</table>\n",
       "</div>"
      ],
      "text/plain": [
       "       MES PROVINCIA_DESTINO                PAIS_ORIGEN  TURISTAS\n",
       "23685    9           Bizkaia                    Francia   12911.0\n",
       "23659    9           Bizkaia                   Alemania   11893.0\n",
       "23712    9           Bizkaia               Pa�ses Bajos    7438.0\n",
       "23716    9           Bizkaia                Reino Unido    6613.0\n",
       "23681    9           Bizkaia  Estados Unidos de Am�rica    5712.0\n",
       "23696    9           Bizkaia                     Italia    3415.0\n",
       "23724    9           Bizkaia                     Suecia    2878.0\n",
       "23670    9           Bizkaia                    B�lgica    2744.0\n",
       "23694    9           Bizkaia                    Irlanda    2557.0\n",
       "23665    9           Bizkaia                    Austria    2543.0\n",
       "23715    9           Bizkaia                   Portugal    2307.0\n",
       "23725    9           Bizkaia                      Suiza    2284.0\n",
       "23714    9           Bizkaia                    Polonia    1658.0\n",
       "23677    9           Bizkaia                  Dinamarca    1411.0\n",
       "23703    9           Bizkaia                  Marruecos    1087.0\n",
       "23674    9           Bizkaia                   Colombia     992.0\n",
       "23701    9           Bizkaia                 Luxemburgo     963.0\n",
       "23673    9           Bizkaia                      China     717.0\n",
       "23671    9           Bizkaia                     Canad�     639.0\n",
       "23705    9           Bizkaia                     M�xico     637.0"
      ]
     },
     "execution_count": 57,
     "metadata": {},
     "output_type": "execute_result"
    }
   ],
   "source": [
    "def filtrar_datos(provincia, mes=None):\n",
    "       filtrado_provincia= agrupado[agrupado[\"PROVINCIA_DESTINO\"]== provincia]\n",
    "       if mes:\n",
    "        filtrado_provincia= filtrado_provincia[filtrado_provincia[\"MES\"]== mes]\n",
    "        return filtrado_provincia\n",
    "\n",
    "provincia_Bizkaia_mes9= filtrar_datos(\"Bizkaia\", mes= 9) \n",
    "prov_Bizkaia_mes9_ordenada= provincia_Bizkaia_mes9.sort_values([\"TURISTAS\"], ascending=False).head(20) #selecciono los 20 principales\n",
    "prov_Bizkaia_mes9_ordenada"
   ]
  },
  {
   "cell_type": "code",
   "execution_count": 58,
   "metadata": {},
   "outputs": [
    {
     "data": {
      "image/png": "[encoded data removed]",
      "text/plain": [
       "<Figure size 1000x600 with 1 Axes>"
      ]
     },
     "metadata": {},
     "output_type": "display_data"
    }
   ],
   "source": [
    "plt.figure(figsize=(10,6))\n",
    "\n",
    "plt.barh(prov_Bizkaia_mes9_ordenada[\"PAIS_ORIGEN\"], prov_Bizkaia_mes9_ordenada[\"TURISTAS\"], color= \"skyblue\")\n",
    "\n",
    "plt.xlabel(\"Número de Turistas\")\n",
    "plt.ylabel(\"País de Origen\")\n",
    "plt.title(\"Turistas en Septiembre 2024\")\n",
    "\n",
    "plt.gca().invert_yaxis() #para que el pais con más turistas este en la parte superior\n",
    "plt.tight_layout() #ajustar visualización\n",
    "\n",
    "plt.show()"
   ]
  },
  {
   "cell_type": "markdown",
   "metadata": {},
   "source": [
    "## Nº DE TURISTAS OCTUBRE 2024 EN BIZKAIA"
   ]
  },
  {
   "cell_type": "code",
   "execution_count": 59,
   "metadata": {},
   "outputs": [
    {
     "data": {
      "application/vnd.microsoft.datawrangler.viewer.v0+json": {
       "columns": [
        {
         "name": "index",
         "rawType": "int64",
         "type": "integer"
        },
        {
         "name": "MES",
         "rawType": "int64",
         "type": "integer"
        },
        {
         "name": "PROVINCIA_DESTINO",
         "rawType": "object",
         "type": "string"
        },
        {
         "name": "PAIS_ORIGEN",
         "rawType": "object",
         "type": "string"
        },
        {
         "name": "TURISTAS",
         "rawType": "float64",
         "type": "float"
        }
       ],
       "conversionMethod": "pd.DataFrame",
       "ref": "62a432b4-2849-4f39-8969-ec3bbf8f096e",
       "rows": [
        [
         "26802",
         "10",
         "Bizkaia",
         "Francia",
         "14462.0"
        ],
        [
         "26775",
         "10",
         "Bizkaia",
         "Alemania",
         "11978.0"
        ],
        [
         "26833",
         "10",
         "Bizkaia",
         "Pa�ses Bajos",
         "8230.0"
        ],
        [
         "26837",
         "10",
         "Bizkaia",
         "Reino Unido",
         "6092.0"
        ],
        [
         "26798",
         "10",
         "Bizkaia",
         "Estados Unidos de Am�rica",
         "3918.0"
        ],
        [
         "26847",
         "10",
         "Bizkaia",
         "Suecia",
         "3441.0"
        ],
        [
         "26814",
         "10",
         "Bizkaia",
         "Italia",
         "3113.0"
        ],
        [
         "26848",
         "10",
         "Bizkaia",
         "Suiza",
         "2577.0"
        ],
        [
         "26781",
         "10",
         "Bizkaia",
         "Austria",
         "2409.0"
        ],
        [
         "26786",
         "10",
         "Bizkaia",
         "B�lgica",
         "2407.0"
        ],
        [
         "26836",
         "10",
         "Bizkaia",
         "Portugal",
         "2082.0"
        ],
        [
         "26811",
         "10",
         "Bizkaia",
         "Irlanda",
         "1968.0"
        ],
        [
         "26835",
         "10",
         "Bizkaia",
         "Polonia",
         "1857.0"
        ],
        [
         "26794",
         "10",
         "Bizkaia",
         "Dinamarca",
         "1470.0"
        ],
        [
         "26819",
         "10",
         "Bizkaia",
         "Luxemburgo",
         "1126.0"
        ],
        [
         "26838",
         "10",
         "Bizkaia",
         "Rep�blica Checa",
         "1005.0"
        ],
        [
         "26791",
         "10",
         "Bizkaia",
         "Colombia",
         "974.0"
        ],
        [
         "26822",
         "10",
         "Bizkaia",
         "Marruecos",
         "935.0"
        ],
        [
         "26789",
         "10",
         "Bizkaia",
         "China",
         "642.0"
        ],
        [
         "26828",
         "10",
         "Bizkaia",
         "Noruega",
         "629.0"
        ]
       ],
       "shape": {
        "columns": 4,
        "rows": 20
       }
      },
      "text/html": [
       "<div>\n",
       "<style scoped>\n",
       "    .dataframe tbody tr th:only-of-type {\n",
       "        vertical-align: middle;\n",
       "    }\n",
       "\n",
       "    .dataframe tbody tr th {\n",
       "        vertical-align: top;\n",
       "    }\n",
       "\n",
       "    .dataframe thead th {\n",
       "        text-align: right;\n",
       "    }\n",
       "</style>\n",
       "<table border=\"1\" class=\"dataframe\">\n",
       "  <thead>\n",
       "    <tr style=\"text-align: right;\">\n",
       "      <th></th>\n",
       "      <th>MES</th>\n",
       "      <th>PROVINCIA_DESTINO</th>\n",
       "      <th>PAIS_ORIGEN</th>\n",
       "      <th>TURISTAS</th>\n",
       "    </tr>\n",
       "  </thead>\n",
       "  <tbody>\n",
       "    <tr>\n",
       "      <th>26802</th>\n",
       "      <td>10</td>\n",
       "      <td>Bizkaia</td>\n",
       "      <td>Francia</td>\n",
       "      <td>14462.0</td>\n",
       "    </tr>\n",
       "    <tr>\n",
       "      <th>26775</th>\n",
       "      <td>10</td>\n",
       "      <td>Bizkaia</td>\n",
       "      <td>Alemania</td>\n",
       "      <td>11978.0</td>\n",
       "    </tr>\n",
       "    <tr>\n",
       "      <th>26833</th>\n",
       "      <td>10</td>\n",
       "      <td>Bizkaia</td>\n",
       "      <td>Pa�ses Bajos</td>\n",
       "      <td>8230.0</td>\n",
       "    </tr>\n",
       "    <tr>\n",
       "      <th>26837</th>\n",
       "      <td>10</td>\n",
       "      <td>Bizkaia</td>\n",
       "      <td>Reino Unido</td>\n",
       "      <td>6092.0</td>\n",
       "    </tr>\n",
       "    <tr>\n",
       "      <th>26798</th>\n",
       "      <td>10</td>\n",
       "      <td>Bizkaia</td>\n",
       "      <td>Estados Unidos de Am�rica</td>\n",
       "      <td>3918.0</td>\n",
       "    </tr>\n",
       "    <tr>\n",
       "      <th>26847</th>\n",
       "      <td>10</td>\n",
       "      <td>Bizkaia</td>\n",
       "      <td>Suecia</td>\n",
       "      <td>3441.0</td>\n",
       "    </tr>\n",
       "    <tr>\n",
       "      <th>26814</th>\n",
       "      <td>10</td>\n",
       "      <td>Bizkaia</td>\n",
       "      <td>Italia</td>\n",
       "      <td>3113.0</td>\n",
       "    </tr>\n",
       "    <tr>\n",
       "      <th>26848</th>\n",
       "      <td>10</td>\n",
       "      <td>Bizkaia</td>\n",
       "      <td>Suiza</td>\n",
       "      <td>2577.0</td>\n",
       "    </tr>\n",
       "    <tr>\n",
       "      <th>26781</th>\n",
       "      <td>10</td>\n",
       "      <td>Bizkaia</td>\n",
       "      <td>Austria</td>\n",
       "      <td>2409.0</td>\n",
       "    </tr>\n",
       "    <tr>\n",
       "      <th>26786</th>\n",
       "      <td>10</td>\n",
       "      <td>Bizkaia</td>\n",
       "      <td>B�lgica</td>\n",
       "      <td>2407.0</td>\n",
       "    </tr>\n",
       "    <tr>\n",
       "      <th>26836</th>\n",
       "      <td>10</td>\n",
       "      <td>Bizkaia</td>\n",
       "      <td>Portugal</td>\n",
       "      <td>2082.0</td>\n",
       "    </tr>\n",
       "    <tr>\n",
       "      <th>26811</th>\n",
       "      <td>10</td>\n",
       "      <td>Bizkaia</td>\n",
       "      <td>Irlanda</td>\n",
       "      <td>1968.0</td>\n",
       "    </tr>\n",
       "    <tr>\n",
       "      <th>26835</th>\n",
       "      <td>10</td>\n",
       "      <td>Bizkaia</td>\n",
       "      <td>Polonia</td>\n",
       "      <td>1857.0</td>\n",
       "    </tr>\n",
       "    <tr>\n",
       "      <th>26794</th>\n",
       "      <td>10</td>\n",
       "      <td>Bizkaia</td>\n",
       "      <td>Dinamarca</td>\n",
       "      <td>1470.0</td>\n",
       "    </tr>\n",
       "    <tr>\n",
       "      <th>26819</th>\n",
       "      <td>10</td>\n",
       "      <td>Bizkaia</td>\n",
       "      <td>Luxemburgo</td>\n",
       "      <td>1126.0</td>\n",
       "    </tr>\n",
       "    <tr>\n",
       "      <th>26838</th>\n",
       "      <td>10</td>\n",
       "      <td>Bizkaia</td>\n",
       "      <td>Rep�blica Checa</td>\n",
       "      <td>1005.0</td>\n",
       "    </tr>\n",
       "    <tr>\n",
       "      <th>26791</th>\n",
       "      <td>10</td>\n",
       "      <td>Bizkaia</td>\n",
       "      <td>Colombia</td>\n",
       "      <td>974.0</td>\n",
       "    </tr>\n",
       "    <tr>\n",
       "      <th>26822</th>\n",
       "      <td>10</td>\n",
       "      <td>Bizkaia</td>\n",
       "      <td>Marruecos</td>\n",
       "      <td>935.0</td>\n",
       "    </tr>\n",
       "    <tr>\n",
       "      <th>26789</th>\n",
       "      <td>10</td>\n",
       "      <td>Bizkaia</td>\n",
       "      <td>China</td>\n",
       "      <td>642.0</td>\n",
       "    </tr>\n",
       "    <tr>\n",
       "      <th>26828</th>\n",
       "      <td>10</td>\n",
       "      <td>Bizkaia</td>\n",
       "      <td>Noruega</td>\n",
       "      <td>629.0</td>\n",
       "    </tr>\n",
       "  </tbody>\n",
       "</table>\n",
       "</div>"
      ],
      "text/plain": [
       "       MES PROVINCIA_DESTINO                PAIS_ORIGEN  TURISTAS\n",
       "26802   10           Bizkaia                    Francia   14462.0\n",
       "26775   10           Bizkaia                   Alemania   11978.0\n",
       "26833   10           Bizkaia               Pa�ses Bajos    8230.0\n",
       "26837   10           Bizkaia                Reino Unido    6092.0\n",
       "26798   10           Bizkaia  Estados Unidos de Am�rica    3918.0\n",
       "26847   10           Bizkaia                     Suecia    3441.0\n",
       "26814   10           Bizkaia                     Italia    3113.0\n",
       "26848   10           Bizkaia                      Suiza    2577.0\n",
       "26781   10           Bizkaia                    Austria    2409.0\n",
       "26786   10           Bizkaia                    B�lgica    2407.0\n",
       "26836   10           Bizkaia                   Portugal    2082.0\n",
       "26811   10           Bizkaia                    Irlanda    1968.0\n",
       "26835   10           Bizkaia                    Polonia    1857.0\n",
       "26794   10           Bizkaia                  Dinamarca    1470.0\n",
       "26819   10           Bizkaia                 Luxemburgo    1126.0\n",
       "26838   10           Bizkaia            Rep�blica Checa    1005.0\n",
       "26791   10           Bizkaia                   Colombia     974.0\n",
       "26822   10           Bizkaia                  Marruecos     935.0\n",
       "26789   10           Bizkaia                      China     642.0\n",
       "26828   10           Bizkaia                    Noruega     629.0"
      ]
     },
     "execution_count": 59,
     "metadata": {},
     "output_type": "execute_result"
    }
   ],
   "source": [
    "def filtrar_datos(provincia, mes=None):\n",
    "       filtrado_provincia= agrupado[agrupado[\"PROVINCIA_DESTINO\"]== provincia]\n",
    "       if mes:\n",
    "        filtrado_provincia= filtrado_provincia[filtrado_provincia[\"MES\"]== mes]\n",
    "        return filtrado_provincia\n",
    "\n",
    "provincia_Bizkaia_mes10= filtrar_datos(\"Bizkaia\", mes= 10) \n",
    "prov_Bizkaia_mes10_ordenada= provincia_Bizkaia_mes10.sort_values([\"TURISTAS\"], ascending=False).head(20) #selecciono los 20 principales\n",
    "prov_Bizkaia_mes10_ordenada"
   ]
  },
  {
   "cell_type": "code",
   "execution_count": 60,
   "metadata": {},
   "outputs": [
    {
     "data": {
      "image/png": "[encoded data removed]",
      "text/plain": [
       "<Figure size 1000x600 with 1 Axes>"
      ]
     },
     "metadata": {},
     "output_type": "display_data"
    }
   ],
   "source": [
    "plt.figure(figsize=(10,6))\n",
    "\n",
    "plt.barh(prov_Bizkaia_mes10_ordenada[\"PAIS_ORIGEN\"], prov_Bizkaia_mes10_ordenada[\"TURISTAS\"], color= \"skyblue\")\n",
    "\n",
    "plt.xlabel(\"Número de Turistas\")\n",
    "plt.ylabel(\"País de Origen\")\n",
    "plt.title(\"Turistas en Octubre 2024\")\n",
    "\n",
    "plt.gca().invert_yaxis() #para que el pais con más turistas este en la parte superior\n",
    "plt.tight_layout() #ajustar visualización\n",
    "\n",
    "plt.show()"
   ]
  },
  {
   "cell_type": "markdown",
   "metadata": {},
   "source": [
    "## Nº DE TURISTAS NOVIEMBRE 2024 EN BIZKAIA"
   ]
  },
  {
   "cell_type": "code",
   "execution_count": 61,
   "metadata": {},
   "outputs": [
    {
     "data": {
      "application/vnd.microsoft.datawrangler.viewer.v0+json": {
       "columns": [
        {
         "name": "index",
         "rawType": "int64",
         "type": "integer"
        },
        {
         "name": "MES",
         "rawType": "int64",
         "type": "integer"
        },
        {
         "name": "PROVINCIA_DESTINO",
         "rawType": "object",
         "type": "string"
        },
        {
         "name": "PAIS_ORIGEN",
         "rawType": "object",
         "type": "string"
        },
        {
         "name": "TURISTAS",
         "rawType": "float64",
         "type": "float"
        }
       ],
       "conversionMethod": "pd.DataFrame",
       "ref": "237e40e4-30fc-4358-b085-24b20f0efad9",
       "rows": [
        [
         "29979",
         "11",
         "Bizkaia",
         "Francia",
         "11321.0"
        ],
        [
         "29954",
         "11",
         "Bizkaia",
         "Alemania",
         "6879.0"
        ],
        [
         "30005",
         "11",
         "Bizkaia",
         "Pa�ses Bajos",
         "4841.0"
        ],
        [
         "30009",
         "11",
         "Bizkaia",
         "Reino Unido",
         "3114.0"
        ],
        [
         "30008",
         "11",
         "Bizkaia",
         "Portugal",
         "2459.0"
        ],
        [
         "29975",
         "11",
         "Bizkaia",
         "Estados Unidos de Am�rica",
         "2380.0"
        ],
        [
         "29989",
         "11",
         "Bizkaia",
         "Italia",
         "2296.0"
        ],
        [
         "30017",
         "11",
         "Bizkaia",
         "Suecia",
         "2285.0"
        ],
        [
         "29959",
         "11",
         "Bizkaia",
         "Austria",
         "1880.0"
        ],
        [
         "29963",
         "11",
         "Bizkaia",
         "B�lgica",
         "1719.0"
        ],
        [
         "30007",
         "11",
         "Bizkaia",
         "Polonia",
         "1355.0"
        ],
        [
         "30018",
         "11",
         "Bizkaia",
         "Suiza",
         "1112.0"
        ],
        [
         "29995",
         "11",
         "Bizkaia",
         "Luxemburgo",
         "1096.0"
        ],
        [
         "29967",
         "11",
         "Bizkaia",
         "Colombia",
         "1008.0"
        ],
        [
         "29987",
         "11",
         "Bizkaia",
         "Irlanda",
         "870.0"
        ],
        [
         "29970",
         "11",
         "Bizkaia",
         "Dinamarca",
         "852.0"
        ],
        [
         "29998",
         "11",
         "Bizkaia",
         "Marruecos",
         "739.0"
        ],
        [
         "29966",
         "11",
         "Bizkaia",
         "China",
         "669.0"
        ],
        [
         "30012",
         "11",
         "Bizkaia",
         "Ruman�a",
         "527.0"
        ],
        [
         "29994",
         "11",
         "Bizkaia",
         "Lituania",
         "507.0"
        ]
       ],
       "shape": {
        "columns": 4,
        "rows": 20
       }
      },
      "text/html": [
       "<div>\n",
       "<style scoped>\n",
       "    .dataframe tbody tr th:only-of-type {\n",
       "        vertical-align: middle;\n",
       "    }\n",
       "\n",
       "    .dataframe tbody tr th {\n",
       "        vertical-align: top;\n",
       "    }\n",
       "\n",
       "    .dataframe thead th {\n",
       "        text-align: right;\n",
       "    }\n",
       "</style>\n",
       "<table border=\"1\" class=\"dataframe\">\n",
       "  <thead>\n",
       "    <tr style=\"text-align: right;\">\n",
       "      <th></th>\n",
       "      <th>MES</th>\n",
       "      <th>PROVINCIA_DESTINO</th>\n",
       "      <th>PAIS_ORIGEN</th>\n",
       "      <th>TURISTAS</th>\n",
       "    </tr>\n",
       "  </thead>\n",
       "  <tbody>\n",
       "    <tr>\n",
       "      <th>29979</th>\n",
       "      <td>11</td>\n",
       "      <td>Bizkaia</td>\n",
       "      <td>Francia</td>\n",
       "      <td>11321.0</td>\n",
       "    </tr>\n",
       "    <tr>\n",
       "      <th>29954</th>\n",
       "      <td>11</td>\n",
       "      <td>Bizkaia</td>\n",
       "      <td>Alemania</td>\n",
       "      <td>6879.0</td>\n",
       "    </tr>\n",
       "    <tr>\n",
       "      <th>30005</th>\n",
       "      <td>11</td>\n",
       "      <td>Bizkaia</td>\n",
       "      <td>Pa�ses Bajos</td>\n",
       "      <td>4841.0</td>\n",
       "    </tr>\n",
       "    <tr>\n",
       "      <th>30009</th>\n",
       "      <td>11</td>\n",
       "      <td>Bizkaia</td>\n",
       "      <td>Reino Unido</td>\n",
       "      <td>3114.0</td>\n",
       "    </tr>\n",
       "    <tr>\n",
       "      <th>30008</th>\n",
       "      <td>11</td>\n",
       "      <td>Bizkaia</td>\n",
       "      <td>Portugal</td>\n",
       "      <td>2459.0</td>\n",
       "    </tr>\n",
       "    <tr>\n",
       "      <th>29975</th>\n",
       "      <td>11</td>\n",
       "      <td>Bizkaia</td>\n",
       "      <td>Estados Unidos de Am�rica</td>\n",
       "      <td>2380.0</td>\n",
       "    </tr>\n",
       "    <tr>\n",
       "      <th>29989</th>\n",
       "      <td>11</td>\n",
       "      <td>Bizkaia</td>\n",
       "      <td>Italia</td>\n",
       "      <td>2296.0</td>\n",
       "    </tr>\n",
       "    <tr>\n",
       "      <th>30017</th>\n",
       "      <td>11</td>\n",
       "      <td>Bizkaia</td>\n",
       "      <td>Suecia</td>\n",
       "      <td>2285.0</td>\n",
       "    </tr>\n",
       "    <tr>\n",
       "      <th>29959</th>\n",
       "      <td>11</td>\n",
       "      <td>Bizkaia</td>\n",
       "      <td>Austria</td>\n",
       "      <td>1880.0</td>\n",
       "    </tr>\n",
       "    <tr>\n",
       "      <th>29963</th>\n",
       "      <td>11</td>\n",
       "      <td>Bizkaia</td>\n",
       "      <td>B�lgica</td>\n",
       "      <td>1719.0</td>\n",
       "    </tr>\n",
       "    <tr>\n",
       "      <th>30007</th>\n",
       "      <td>11</td>\n",
       "      <td>Bizkaia</td>\n",
       "      <td>Polonia</td>\n",
       "      <td>1355.0</td>\n",
       "    </tr>\n",
       "    <tr>\n",
       "      <th>30018</th>\n",
       "      <td>11</td>\n",
       "      <td>Bizkaia</td>\n",
       "      <td>Suiza</td>\n",
       "      <td>1112.0</td>\n",
       "    </tr>\n",
       "    <tr>\n",
       "      <th>29995</th>\n",
       "      <td>11</td>\n",
       "      <td>Bizkaia</td>\n",
       "      <td>Luxemburgo</td>\n",
       "      <td>1096.0</td>\n",
       "    </tr>\n",
       "    <tr>\n",
       "      <th>29967</th>\n",
       "      <td>11</td>\n",
       "      <td>Bizkaia</td>\n",
       "      <td>Colombia</td>\n",
       "      <td>1008.0</td>\n",
       "    </tr>\n",
       "    <tr>\n",
       "      <th>29987</th>\n",
       "      <td>11</td>\n",
       "      <td>Bizkaia</td>\n",
       "      <td>Irlanda</td>\n",
       "      <td>870.0</td>\n",
       "    </tr>\n",
       "    <tr>\n",
       "      <th>29970</th>\n",
       "      <td>11</td>\n",
       "      <td>Bizkaia</td>\n",
       "      <td>Dinamarca</td>\n",
       "      <td>852.0</td>\n",
       "    </tr>\n",
       "    <tr>\n",
       "      <th>29998</th>\n",
       "      <td>11</td>\n",
       "      <td>Bizkaia</td>\n",
       "      <td>Marruecos</td>\n",
       "      <td>739.0</td>\n",
       "    </tr>\n",
       "    <tr>\n",
       "      <th>29966</th>\n",
       "      <td>11</td>\n",
       "      <td>Bizkaia</td>\n",
       "      <td>China</td>\n",
       "      <td>669.0</td>\n",
       "    </tr>\n",
       "    <tr>\n",
       "      <th>30012</th>\n",
       "      <td>11</td>\n",
       "      <td>Bizkaia</td>\n",
       "      <td>Ruman�a</td>\n",
       "      <td>527.0</td>\n",
       "    </tr>\n",
       "    <tr>\n",
       "      <th>29994</th>\n",
       "      <td>11</td>\n",
       "      <td>Bizkaia</td>\n",
       "      <td>Lituania</td>\n",
       "      <td>507.0</td>\n",
       "    </tr>\n",
       "  </tbody>\n",
       "</table>\n",
       "</div>"
      ],
      "text/plain": [
       "       MES PROVINCIA_DESTINO                PAIS_ORIGEN  TURISTAS\n",
       "29979   11           Bizkaia                    Francia   11321.0\n",
       "29954   11           Bizkaia                   Alemania    6879.0\n",
       "30005   11           Bizkaia               Pa�ses Bajos    4841.0\n",
       "30009   11           Bizkaia                Reino Unido    3114.0\n",
       "30008   11           Bizkaia                   Portugal    2459.0\n",
       "29975   11           Bizkaia  Estados Unidos de Am�rica    2380.0\n",
       "29989   11           Bizkaia                     Italia    2296.0\n",
       "30017   11           Bizkaia                     Suecia    2285.0\n",
       "29959   11           Bizkaia                    Austria    1880.0\n",
       "29963   11           Bizkaia                    B�lgica    1719.0\n",
       "30007   11           Bizkaia                    Polonia    1355.0\n",
       "30018   11           Bizkaia                      Suiza    1112.0\n",
       "29995   11           Bizkaia                 Luxemburgo    1096.0\n",
       "29967   11           Bizkaia                   Colombia    1008.0\n",
       "29987   11           Bizkaia                    Irlanda     870.0\n",
       "29970   11           Bizkaia                  Dinamarca     852.0\n",
       "29998   11           Bizkaia                  Marruecos     739.0\n",
       "29966   11           Bizkaia                      China     669.0\n",
       "30012   11           Bizkaia                    Ruman�a     527.0\n",
       "29994   11           Bizkaia                   Lituania     507.0"
      ]
     },
     "execution_count": 61,
     "metadata": {},
     "output_type": "execute_result"
    }
   ],
   "source": [
    "def filtrar_datos(provincia, mes=None):\n",
    "       filtrado_provincia= agrupado[agrupado[\"PROVINCIA_DESTINO\"]== provincia]\n",
    "       if mes:\n",
    "        filtrado_provincia= filtrado_provincia[filtrado_provincia[\"MES\"]== mes]\n",
    "        return filtrado_provincia\n",
    "\n",
    "provincia_Bizkaia_mes11= filtrar_datos(\"Bizkaia\", mes= 11) \n",
    "prov_Bizkaia_mes11_ordenada= provincia_Bizkaia_mes11.sort_values([\"TURISTAS\"], ascending=False).head(20) #selecciono los 20 principales\n",
    "prov_Bizkaia_mes11_ordenada"
   ]
  },
  {
   "cell_type": "code",
   "execution_count": 62,
   "metadata": {},
   "outputs": [
    {
     "data": {
      "image/png": "[encoded data removed]",
      "text/plain": [
       "<Figure size 1000x600 with 1 Axes>"
      ]
     },
     "metadata": {},
     "output_type": "display_data"
    }
   ],
   "source": [
    "plt.figure(figsize=(10,6))\n",
    "\n",
    "plt.barh(prov_Bizkaia_mes11_ordenada[\"PAIS_ORIGEN\"], prov_Bizkaia_mes11_ordenada[\"TURISTAS\"], color= \"skyblue\")\n",
    "\n",
    "plt.xlabel(\"Número de Turistas\")\n",
    "plt.ylabel(\"País de Origen\")\n",
    "plt.title(\"Turistas en Noviembre 2024\")\n",
    "\n",
    "plt.gca().invert_yaxis() #para que el pais con más turistas este en la parte superior\n",
    "plt.tight_layout() #ajustar visualización\n",
    "\n",
    "plt.show()"
   ]
  },
  {
   "cell_type": "markdown",
   "metadata": {},
   "source": [
    "## Nº DE TURISTAS DICIEMBRE 2024 EN BIZKAIA"
   ]
  },
  {
   "cell_type": "code",
   "execution_count": 63,
   "metadata": {},
   "outputs": [
    {
     "data": {
      "application/vnd.microsoft.datawrangler.viewer.v0+json": {
       "columns": [
        {
         "name": "index",
         "rawType": "int64",
         "type": "integer"
        },
        {
         "name": "MES",
         "rawType": "int64",
         "type": "integer"
        },
        {
         "name": "PROVINCIA_DESTINO",
         "rawType": "object",
         "type": "string"
        },
        {
         "name": "PAIS_ORIGEN",
         "rawType": "object",
         "type": "string"
        },
        {
         "name": "TURISTAS",
         "rawType": "float64",
         "type": "float"
        }
       ],
       "conversionMethod": "pd.DataFrame",
       "ref": "4b44acd3-a019-4d51-965c-a84705a1e43f",
       "rows": [
        [
         "29979",
         "11",
         "Bizkaia",
         "Francia",
         "11321.0"
        ],
        [
         "29954",
         "11",
         "Bizkaia",
         "Alemania",
         "6879.0"
        ],
        [
         "30005",
         "11",
         "Bizkaia",
         "Pa�ses Bajos",
         "4841.0"
        ],
        [
         "30009",
         "11",
         "Bizkaia",
         "Reino Unido",
         "3114.0"
        ],
        [
         "30008",
         "11",
         "Bizkaia",
         "Portugal",
         "2459.0"
        ],
        [
         "29975",
         "11",
         "Bizkaia",
         "Estados Unidos de Am�rica",
         "2380.0"
        ],
        [
         "29989",
         "11",
         "Bizkaia",
         "Italia",
         "2296.0"
        ],
        [
         "30017",
         "11",
         "Bizkaia",
         "Suecia",
         "2285.0"
        ],
        [
         "29959",
         "11",
         "Bizkaia",
         "Austria",
         "1880.0"
        ],
        [
         "29963",
         "11",
         "Bizkaia",
         "B�lgica",
         "1719.0"
        ],
        [
         "30007",
         "11",
         "Bizkaia",
         "Polonia",
         "1355.0"
        ],
        [
         "30018",
         "11",
         "Bizkaia",
         "Suiza",
         "1112.0"
        ],
        [
         "29995",
         "11",
         "Bizkaia",
         "Luxemburgo",
         "1096.0"
        ],
        [
         "29967",
         "11",
         "Bizkaia",
         "Colombia",
         "1008.0"
        ],
        [
         "29987",
         "11",
         "Bizkaia",
         "Irlanda",
         "870.0"
        ],
        [
         "29970",
         "11",
         "Bizkaia",
         "Dinamarca",
         "852.0"
        ],
        [
         "29998",
         "11",
         "Bizkaia",
         "Marruecos",
         "739.0"
        ],
        [
         "29966",
         "11",
         "Bizkaia",
         "China",
         "669.0"
        ],
        [
         "30012",
         "11",
         "Bizkaia",
         "Ruman�a",
         "527.0"
        ],
        [
         "29994",
         "11",
         "Bizkaia",
         "Lituania",
         "507.0"
        ]
       ],
       "shape": {
        "columns": 4,
        "rows": 20
       }
      },
      "text/html": [
       "<div>\n",
       "<style scoped>\n",
       "    .dataframe tbody tr th:only-of-type {\n",
       "        vertical-align: middle;\n",
       "    }\n",
       "\n",
       "    .dataframe tbody tr th {\n",
       "        vertical-align: top;\n",
       "    }\n",
       "\n",
       "    .dataframe thead th {\n",
       "        text-align: right;\n",
       "    }\n",
       "</style>\n",
       "<table border=\"1\" class=\"dataframe\">\n",
       "  <thead>\n",
       "    <tr style=\"text-align: right;\">\n",
       "      <th></th>\n",
       "      <th>MES</th>\n",
       "      <th>PROVINCIA_DESTINO</th>\n",
       "      <th>PAIS_ORIGEN</th>\n",
       "      <th>TURISTAS</th>\n",
       "    </tr>\n",
       "  </thead>\n",
       "  <tbody>\n",
       "    <tr>\n",
       "      <th>29979</th>\n",
       "      <td>11</td>\n",
       "      <td>Bizkaia</td>\n",
       "      <td>Francia</td>\n",
       "      <td>11321.0</td>\n",
       "    </tr>\n",
       "    <tr>\n",
       "      <th>29954</th>\n",
       "      <td>11</td>\n",
       "      <td>Bizkaia</td>\n",
       "      <td>Alemania</td>\n",
       "      <td>6879.0</td>\n",
       "    </tr>\n",
       "    <tr>\n",
       "      <th>30005</th>\n",
       "      <td>11</td>\n",
       "      <td>Bizkaia</td>\n",
       "      <td>Pa�ses Bajos</td>\n",
       "      <td>4841.0</td>\n",
       "    </tr>\n",
       "    <tr>\n",
       "      <th>30009</th>\n",
       "      <td>11</td>\n",
       "      <td>Bizkaia</td>\n",
       "      <td>Reino Unido</td>\n",
       "      <td>3114.0</td>\n",
       "    </tr>\n",
       "    <tr>\n",
       "      <th>30008</th>\n",
       "      <td>11</td>\n",
       "      <td>Bizkaia</td>\n",
       "      <td>Portugal</td>\n",
       "      <td>2459.0</td>\n",
       "    </tr>\n",
       "    <tr>\n",
       "      <th>29975</th>\n",
       "      <td>11</td>\n",
       "      <td>Bizkaia</td>\n",
       "      <td>Estados Unidos de Am�rica</td>\n",
       "      <td>2380.0</td>\n",
       "    </tr>\n",
       "    <tr>\n",
       "      <th>29989</th>\n",
       "      <td>11</td>\n",
       "      <td>Bizkaia</td>\n",
       "      <td>Italia</td>\n",
       "      <td>2296.0</td>\n",
       "    </tr>\n",
       "    <tr>\n",
       "      <th>30017</th>\n",
       "      <td>11</td>\n",
       "      <td>Bizkaia</td>\n",
       "      <td>Suecia</td>\n",
       "      <td>2285.0</td>\n",
       "    </tr>\n",
       "    <tr>\n",
       "      <th>29959</th>\n",
       "      <td>11</td>\n",
       "      <td>Bizkaia</td>\n",
       "      <td>Austria</td>\n",
       "      <td>1880.0</td>\n",
       "    </tr>\n",
       "    <tr>\n",
       "      <th>29963</th>\n",
       "      <td>11</td>\n",
       "      <td>Bizkaia</td>\n",
       "      <td>B�lgica</td>\n",
       "      <td>1719.0</td>\n",
       "    </tr>\n",
       "    <tr>\n",
       "      <th>30007</th>\n",
       "      <td>11</td>\n",
       "      <td>Bizkaia</td>\n",
       "      <td>Polonia</td>\n",
       "      <td>1355.0</td>\n",
       "    </tr>\n",
       "    <tr>\n",
       "      <th>30018</th>\n",
       "      <td>11</td>\n",
       "      <td>Bizkaia</td>\n",
       "      <td>Suiza</td>\n",
       "      <td>1112.0</td>\n",
       "    </tr>\n",
       "    <tr>\n",
       "      <th>29995</th>\n",
       "      <td>11</td>\n",
       "      <td>Bizkaia</td>\n",
       "      <td>Luxemburgo</td>\n",
       "      <td>1096.0</td>\n",
       "    </tr>\n",
       "    <tr>\n",
       "      <th>29967</th>\n",
       "      <td>11</td>\n",
       "      <td>Bizkaia</td>\n",
       "      <td>Colombia</td>\n",
       "      <td>1008.0</td>\n",
       "    </tr>\n",
       "    <tr>\n",
       "      <th>29987</th>\n",
       "      <td>11</td>\n",
       "      <td>Bizkaia</td>\n",
       "      <td>Irlanda</td>\n",
       "      <td>870.0</td>\n",
       "    </tr>\n",
       "    <tr>\n",
       "      <th>29970</th>\n",
       "      <td>11</td>\n",
       "      <td>Bizkaia</td>\n",
       "      <td>Dinamarca</td>\n",
       "      <td>852.0</td>\n",
       "    </tr>\n",
       "    <tr>\n",
       "      <th>29998</th>\n",
       "      <td>11</td>\n",
       "      <td>Bizkaia</td>\n",
       "      <td>Marruecos</td>\n",
       "      <td>739.0</td>\n",
       "    </tr>\n",
       "    <tr>\n",
       "      <th>29966</th>\n",
       "      <td>11</td>\n",
       "      <td>Bizkaia</td>\n",
       "      <td>China</td>\n",
       "      <td>669.0</td>\n",
       "    </tr>\n",
       "    <tr>\n",
       "      <th>30012</th>\n",
       "      <td>11</td>\n",
       "      <td>Bizkaia</td>\n",
       "      <td>Ruman�a</td>\n",
       "      <td>527.0</td>\n",
       "    </tr>\n",
       "    <tr>\n",
       "      <th>29994</th>\n",
       "      <td>11</td>\n",
       "      <td>Bizkaia</td>\n",
       "      <td>Lituania</td>\n",
       "      <td>507.0</td>\n",
       "    </tr>\n",
       "  </tbody>\n",
       "</table>\n",
       "</div>"
      ],
      "text/plain": [
       "       MES PROVINCIA_DESTINO                PAIS_ORIGEN  TURISTAS\n",
       "29979   11           Bizkaia                    Francia   11321.0\n",
       "29954   11           Bizkaia                   Alemania    6879.0\n",
       "30005   11           Bizkaia               Pa�ses Bajos    4841.0\n",
       "30009   11           Bizkaia                Reino Unido    3114.0\n",
       "30008   11           Bizkaia                   Portugal    2459.0\n",
       "29975   11           Bizkaia  Estados Unidos de Am�rica    2380.0\n",
       "29989   11           Bizkaia                     Italia    2296.0\n",
       "30017   11           Bizkaia                     Suecia    2285.0\n",
       "29959   11           Bizkaia                    Austria    1880.0\n",
       "29963   11           Bizkaia                    B�lgica    1719.0\n",
       "30007   11           Bizkaia                    Polonia    1355.0\n",
       "30018   11           Bizkaia                      Suiza    1112.0\n",
       "29995   11           Bizkaia                 Luxemburgo    1096.0\n",
       "29967   11           Bizkaia                   Colombia    1008.0\n",
       "29987   11           Bizkaia                    Irlanda     870.0\n",
       "29970   11           Bizkaia                  Dinamarca     852.0\n",
       "29998   11           Bizkaia                  Marruecos     739.0\n",
       "29966   11           Bizkaia                      China     669.0\n",
       "30012   11           Bizkaia                    Ruman�a     527.0\n",
       "29994   11           Bizkaia                   Lituania     507.0"
      ]
     },
     "execution_count": 63,
     "metadata": {},
     "output_type": "execute_result"
    }
   ],
   "source": [
    "def filtrar_datos(provincia, mes=None):\n",
    "       filtrado_provincia= agrupado[agrupado[\"PROVINCIA_DESTINO\"]== provincia]\n",
    "       if mes:\n",
    "        filtrado_provincia= filtrado_provincia[filtrado_provincia[\"MES\"]== mes]\n",
    "        return filtrado_provincia\n",
    "\n",
    "provincia_Bizkaia_mes12= filtrar_datos(\"Bizkaia\", mes= 12) \n",
    "prov_Bizkaia_mes12_ordenada= provincia_Bizkaia_mes11.sort_values([\"TURISTAS\"], ascending=False).head(20) #selecciono los 20 principales\n",
    "prov_Bizkaia_mes12_ordenada"
   ]
  },
  {
   "cell_type": "code",
   "execution_count": 64,
   "metadata": {},
   "outputs": [
    {
     "data": {
      "image/png": "[encoded data removed]",
      "text/plain": [
       "<Figure size 1000x600 with 1 Axes>"
      ]
     },
     "metadata": {},
     "output_type": "display_data"
    }
   ],
   "source": [
    "plt.figure(figsize=(10,6))\n",
    "\n",
    "plt.barh(prov_Bizkaia_mes12_ordenada[\"PAIS_ORIGEN\"], prov_Bizkaia_mes12_ordenada[\"TURISTAS\"], color= \"skyblue\")\n",
    "\n",
    "plt.xlabel(\"Número de Turistas\")\n",
    "plt.ylabel(\"País de Origen\")\n",
    "plt.title(\"Turistas en Diciembre 2024\")\n",
    "\n",
    "plt.gca().invert_yaxis() #para que el pais con más turistas este en la parte superior\n",
    "plt.tight_layout() #ajustar visualización\n",
    "\n",
    "plt.show()"
   ]
  }
 ],
 "metadata": {
  "kernelspec": {
   "display_name": "Python 3",
   "language": "python",
   "name": "python3"
  },
  "language_info": {
   "codemirror_mode": {
    "name": "ipython",
    "version": 3
   },
   "file_extension": ".py",
   "mimetype": "text/x-python",
   "name": "python",
   "nbconvert_exporter": "python",
   "pygments_lexer": "ipython3",
   "version": "3.11.9"
  }
 },
 "nbformat": 4,
 "nbformat_minor": 2
}
