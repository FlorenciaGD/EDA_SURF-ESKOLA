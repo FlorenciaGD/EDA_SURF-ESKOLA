{
 "cells": [
  {
   "cell_type": "code",
   "execution_count": 1,
   "metadata": {},
   "outputs": [],
   "source": [
    "import requests\n",
    "import zipfile\n",
    "import pandas as pd\n",
    "import numpy as np\n",
    "import matplotlib.pyplot as plt\n",
    "import seaborn as sns\n"
   ]
  },
  {
   "cell_type": "code",
   "execution_count": 2,
   "metadata": {},
   "outputs": [
    {
     "data": {
      "application/vnd.microsoft.datawrangler.viewer.v0+json": {
       "columns": [
        {
         "name": "index",
         "rawType": "int64",
         "type": "integer"
        },
        {
         "name": "AÑO",
         "rawType": "int64",
         "type": "integer"
        },
        {
         "name": "MES",
         "rawType": "int64",
         "type": "integer"
        },
        {
         "name": "PROVINCIA_DESTINO",
         "rawType": "object",
         "type": "string"
        },
        {
         "name": "CONTINENTE_ORIGEN",
         "rawType": "object",
         "type": "string"
        },
        {
         "name": "PAIS_ORIGEN",
         "rawType": "object",
         "type": "string"
        },
        {
         "name": "TURISTAS",
         "rawType": "float64",
         "type": "float"
        },
        {
         "name": "PERNOCTACIONES",
         "rawType": "object",
         "type": "string"
        },
        {
         "name": "ESTANCIA_MEDIA",
         "rawType": "object",
         "type": "string"
        }
       ],
       "conversionMethod": "pd.DataFrame",
       "ref": "269615ab-f538-419a-a323-6cf6fb8d2e75",
       "rows": [
        [
         "0",
         "2023",
         "1",
         "A Coru�a",
         "Am�rica",
         "Argentina",
         "295.0",
         "3098,0",
         "10,5"
        ],
        [
         "1",
         "2023",
         "1",
         "A Coru�a",
         "Am�rica",
         "Brasil",
         "498.0",
         "4084,0",
         "8,2"
        ],
        [
         "2",
         "2023",
         "1",
         "A Coru�a",
         "Am�rica",
         "Canad�",
         "1385.0",
         "15512,0",
         "11,2"
        ],
        [
         "3",
         "2023",
         "1",
         "A Coru�a",
         "Am�rica",
         "Chile",
         "58.0",
         "505,0",
         "8,7"
        ],
        [
         "4",
         "2023",
         "1",
         "A Coru�a",
         "Am�rica",
         "Colombia",
         "370.0",
         "4662,0",
         "12,6"
        ],
        [
         "5",
         "2023",
         "1",
         "A Coru�a",
         "Am�rica",
         "Estados Unidos de Am�rica",
         "1559.0",
         "19332,0",
         "12,4"
        ],
        [
         "6",
         "2023",
         "1",
         "A Coru�a",
         "Am�rica",
         "M�xico",
         "334.0",
         "2605,0",
         "7,8"
        ],
        [
         "7",
         "2023",
         "1",
         "A Coru�a",
         "Am�rica",
         "Panam�",
         "44.0",
         "629,0",
         "14,3"
        ],
        [
         "8",
         "2023",
         "1",
         "A Coru�a",
         "Am�rica",
         "Per�",
         "73.0",
         "847,0",
         "11,6"
        ],
        [
         "9",
         "2023",
         "1",
         "A Coru�a",
         "Am�rica",
         "Uruguay",
         "62.0",
         "800,0",
         "12,9"
        ],
        [
         "10",
         "2023",
         "1",
         "A Coru�a",
         "Am�rica",
         "Venezuela",
         "187.0",
         "2712,0",
         "14,5"
        ],
        [
         "11",
         "2023",
         "1",
         "A Coru�a",
         "Asia",
         "China",
         "155.0",
         "1023,0",
         "6,6"
        ],
        [
         "12",
         "2023",
         "1",
         "A Coru�a",
         "Asia",
         "Corea",
         "62.0",
         "434,0",
         "7,0"
        ],
        [
         "13",
         "2023",
         "1",
         "A Coru�a",
         "Asia",
         "Emiratos �rabes Unidos",
         "36.0",
         "313,0",
         "8,7"
        ],
        [
         "14",
         "2023",
         "1",
         "A Coru�a",
         "Asia",
         "Filipinas",
         "298.0",
         "2026,0",
         "6,8"
        ],
        [
         "15",
         "2023",
         "1",
         "A Coru�a",
         "Asia",
         "India",
         "61.0",
         "336,0",
         "5,5"
        ],
        [
         "16",
         "2023",
         "1",
         "A Coru�a",
         "Asia",
         "Indonesia",
         "91.0",
         "701,0",
         "7,7"
        ],
        [
         "17",
         "2023",
         "1",
         "A Coru�a",
         "Asia",
         "Jap�n",
         "76.0",
         "798,0",
         "10,5"
        ],
        [
         "18",
         "2023",
         "1",
         "A Coru�a",
         "Asia",
         "Tailandia",
         "44.0",
         "211,0",
         "4,8"
        ],
        [
         "19",
         "2023",
         "1",
         "A Coru�a",
         "Europa",
         "Alemania",
         "2570.0",
         "31097,0",
         "12,1"
        ],
        [
         "20",
         "2023",
         "1",
         "A Coru�a",
         "Europa",
         "Andorra",
         "46.0",
         "377,0",
         "8,2"
        ],
        [
         "21",
         "2023",
         "1",
         "A Coru�a",
         "Europa",
         "Austria",
         "933.0",
         "9890,0",
         "10,6"
        ],
        [
         "22",
         "2023",
         "1",
         "A Coru�a",
         "Europa",
         "Bulgaria",
         "33.0",
         "205,0",
         "6,2"
        ],
        [
         "23",
         "2023",
         "1",
         "A Coru�a",
         "Europa",
         "B�lgica",
         "961.0",
         "9322,0",
         "9,7"
        ],
        [
         "24",
         "2023",
         "1",
         "A Coru�a",
         "Europa",
         "Croacia",
         "80.0",
         "488,0",
         "6,1"
        ],
        [
         "25",
         "2023",
         "1",
         "A Coru�a",
         "Europa",
         "Dinamarca",
         "538.0",
         "6187,0",
         "11,5"
        ],
        [
         "26",
         "2023",
         "1",
         "A Coru�a",
         "Europa",
         "Estonia",
         "56.0",
         "560,0",
         "10,0"
        ],
        [
         "27",
         "2023",
         "1",
         "A Coru�a",
         "Europa",
         "Finlandia",
         "75.0",
         "555,0",
         "7,4"
        ],
        [
         "28",
         "2023",
         "1",
         "A Coru�a",
         "Europa",
         "Francia",
         "3609.0",
         "38616,0",
         "10,7"
        ],
        [
         "29",
         "2023",
         "1",
         "A Coru�a",
         "Europa",
         "Grecia",
         "60.0",
         "390,0",
         "6,5"
        ],
        [
         "30",
         "2023",
         "1",
         "A Coru�a",
         "Europa",
         "Hungr�a",
         "58.0",
         "464,0",
         "8,0"
        ],
        [
         "31",
         "2023",
         "1",
         "A Coru�a",
         "Europa",
         "Irlanda",
         "432.0",
         "3715,0",
         "8,6"
        ],
        [
         "32",
         "2023",
         "1",
         "A Coru�a",
         "Europa",
         "Italia",
         "1404.0",
         "11653,0",
         "8,3"
        ],
        [
         "33",
         "2023",
         "1",
         "A Coru�a",
         "Europa",
         "Letonia",
         "67.0",
         "704,0",
         "10,5"
        ],
        [
         "34",
         "2023",
         "1",
         "A Coru�a",
         "Europa",
         "Liechtenstein",
         "122.0",
         "988,0",
         "8,1"
        ],
        [
         "35",
         "2023",
         "1",
         "A Coru�a",
         "Europa",
         "Lituania",
         "55.0",
         "369,0",
         "6,7"
        ],
        [
         "36",
         "2023",
         "1",
         "A Coru�a",
         "Europa",
         "Luxemburgo",
         "743.0",
         "8322,0",
         "11,2"
        ],
        [
         "37",
         "2023",
         "1",
         "A Coru�a",
         "Europa",
         "Noruega",
         "106.0",
         "943,0",
         "8,9"
        ],
        [
         "38",
         "2023",
         "1",
         "A Coru�a",
         "Europa",
         "Pa�ses Bajos",
         "2796.0",
         "29917,0",
         "10,7"
        ],
        [
         "39",
         "2023",
         "1",
         "A Coru�a",
         "Europa",
         "Polonia",
         "612.0",
         "4529,0",
         "7,4"
        ],
        [
         "40",
         "2023",
         "1",
         "A Coru�a",
         "Europa",
         "Portugal",
         "2961.0",
         "15693,0",
         "5,3"
        ],
        [
         "41",
         "2023",
         "1",
         "A Coru�a",
         "Europa",
         "Reino Unido",
         "3285.0",
         "32193,0",
         "9,8"
        ],
        [
         "42",
         "2023",
         "1",
         "A Coru�a",
         "Europa",
         "Rep�blica Checa",
         "53.0",
         "567,0",
         "10,7"
        ],
        [
         "43",
         "2023",
         "1",
         "A Coru�a",
         "Europa",
         "Ruman�a",
         "87.0",
         "583,0",
         "6,7"
        ],
        [
         "44",
         "2023",
         "1",
         "A Coru�a",
         "Europa",
         "Rusia",
         "121.0",
         "750,0",
         "6,2"
        ],
        [
         "45",
         "2023",
         "1",
         "A Coru�a",
         "Europa",
         "Suecia",
         "752.0",
         "7971,0",
         "10,6"
        ],
        [
         "46",
         "2023",
         "1",
         "A Coru�a",
         "Europa",
         "Suiza",
         "2749.0",
         "31614,0",
         "11,5"
        ],
        [
         "47",
         "2023",
         "1",
         "A Coru�a",
         "Europa",
         "Turqu�a",
         "130.0",
         "611,0",
         "4,7"
        ],
        [
         "48",
         "2023",
         "1",
         "A Coru�a",
         "�frica",
         "Argelia",
         "30.0",
         "447,0",
         "14,9"
        ],
        [
         "49",
         "2023",
         "1",
         "A Coru�a",
         "�frica",
         "Marruecos",
         "189.0",
         "1758,0",
         "9,3"
        ]
       ],
       "shape": {
        "columns": 8,
        "rows": 68088
       }
      },
      "text/html": [
       "<div>\n",
       "<style scoped>\n",
       "    .dataframe tbody tr th:only-of-type {\n",
       "        vertical-align: middle;\n",
       "    }\n",
       "\n",
       "    .dataframe tbody tr th {\n",
       "        vertical-align: top;\n",
       "    }\n",
       "\n",
       "    .dataframe thead th {\n",
       "        text-align: right;\n",
       "    }\n",
       "</style>\n",
       "<table border=\"1\" class=\"dataframe\">\n",
       "  <thead>\n",
       "    <tr style=\"text-align: right;\">\n",
       "      <th></th>\n",
       "      <th>AÑO</th>\n",
       "      <th>MES</th>\n",
       "      <th>PROVINCIA_DESTINO</th>\n",
       "      <th>CONTINENTE_ORIGEN</th>\n",
       "      <th>PAIS_ORIGEN</th>\n",
       "      <th>TURISTAS</th>\n",
       "      <th>PERNOCTACIONES</th>\n",
       "      <th>ESTANCIA_MEDIA</th>\n",
       "    </tr>\n",
       "  </thead>\n",
       "  <tbody>\n",
       "    <tr>\n",
       "      <th>0</th>\n",
       "      <td>2023</td>\n",
       "      <td>1</td>\n",
       "      <td>A Coru�a</td>\n",
       "      <td>Am�rica</td>\n",
       "      <td>Argentina</td>\n",
       "      <td>295.0</td>\n",
       "      <td>3098,0</td>\n",
       "      <td>10,5</td>\n",
       "    </tr>\n",
       "    <tr>\n",
       "      <th>1</th>\n",
       "      <td>2023</td>\n",
       "      <td>1</td>\n",
       "      <td>A Coru�a</td>\n",
       "      <td>Am�rica</td>\n",
       "      <td>Brasil</td>\n",
       "      <td>498.0</td>\n",
       "      <td>4084,0</td>\n",
       "      <td>8,2</td>\n",
       "    </tr>\n",
       "    <tr>\n",
       "      <th>2</th>\n",
       "      <td>2023</td>\n",
       "      <td>1</td>\n",
       "      <td>A Coru�a</td>\n",
       "      <td>Am�rica</td>\n",
       "      <td>Canad�</td>\n",
       "      <td>1385.0</td>\n",
       "      <td>15512,0</td>\n",
       "      <td>11,2</td>\n",
       "    </tr>\n",
       "    <tr>\n",
       "      <th>3</th>\n",
       "      <td>2023</td>\n",
       "      <td>1</td>\n",
       "      <td>A Coru�a</td>\n",
       "      <td>Am�rica</td>\n",
       "      <td>Chile</td>\n",
       "      <td>58.0</td>\n",
       "      <td>505,0</td>\n",
       "      <td>8,7</td>\n",
       "    </tr>\n",
       "    <tr>\n",
       "      <th>4</th>\n",
       "      <td>2023</td>\n",
       "      <td>1</td>\n",
       "      <td>A Coru�a</td>\n",
       "      <td>Am�rica</td>\n",
       "      <td>Colombia</td>\n",
       "      <td>370.0</td>\n",
       "      <td>4662,0</td>\n",
       "      <td>12,6</td>\n",
       "    </tr>\n",
       "    <tr>\n",
       "      <th>...</th>\n",
       "      <td>...</td>\n",
       "      <td>...</td>\n",
       "      <td>...</td>\n",
       "      <td>...</td>\n",
       "      <td>...</td>\n",
       "      <td>...</td>\n",
       "      <td>...</td>\n",
       "      <td>...</td>\n",
       "    </tr>\n",
       "    <tr>\n",
       "      <th>68083</th>\n",
       "      <td>2024</td>\n",
       "      <td>12</td>\n",
       "      <td>�vila</td>\n",
       "      <td>Europa</td>\n",
       "      <td>Reino Unido</td>\n",
       "      <td>192.0</td>\n",
       "      <td>1536,0</td>\n",
       "      <td>8,0</td>\n",
       "    </tr>\n",
       "    <tr>\n",
       "      <th>68084</th>\n",
       "      <td>2024</td>\n",
       "      <td>12</td>\n",
       "      <td>�vila</td>\n",
       "      <td>Europa</td>\n",
       "      <td>Ruman�a</td>\n",
       "      <td>135.0</td>\n",
       "      <td>2160,0</td>\n",
       "      <td>16,0</td>\n",
       "    </tr>\n",
       "    <tr>\n",
       "      <th>68085</th>\n",
       "      <td>2024</td>\n",
       "      <td>12</td>\n",
       "      <td>�vila</td>\n",
       "      <td>Europa</td>\n",
       "      <td>Suecia</td>\n",
       "      <td>296.0</td>\n",
       "      <td>5180,0</td>\n",
       "      <td>17,5</td>\n",
       "    </tr>\n",
       "    <tr>\n",
       "      <th>68086</th>\n",
       "      <td>2024</td>\n",
       "      <td>12</td>\n",
       "      <td>�vila</td>\n",
       "      <td>Europa</td>\n",
       "      <td>Suiza</td>\n",
       "      <td>98.0</td>\n",
       "      <td>490,0</td>\n",
       "      <td>5,0</td>\n",
       "    </tr>\n",
       "    <tr>\n",
       "      <th>68087</th>\n",
       "      <td>2024</td>\n",
       "      <td>12</td>\n",
       "      <td>�vila</td>\n",
       "      <td>�frica</td>\n",
       "      <td>Marruecos</td>\n",
       "      <td>145.0</td>\n",
       "      <td>1189,0</td>\n",
       "      <td>8,2</td>\n",
       "    </tr>\n",
       "  </tbody>\n",
       "</table>\n",
       "<p>68088 rows × 8 columns</p>\n",
       "</div>"
      ],
      "text/plain": [
       "        AÑO  MES PROVINCIA_DESTINO CONTINENTE_ORIGEN  PAIS_ORIGEN  TURISTAS  \\\n",
       "0      2023    1          A Coru�a           Am�rica    Argentina     295.0   \n",
       "1      2023    1          A Coru�a           Am�rica       Brasil     498.0   \n",
       "2      2023    1          A Coru�a           Am�rica       Canad�    1385.0   \n",
       "3      2023    1          A Coru�a           Am�rica        Chile      58.0   \n",
       "4      2023    1          A Coru�a           Am�rica     Colombia     370.0   \n",
       "...     ...  ...               ...               ...          ...       ...   \n",
       "68083  2024   12             �vila            Europa  Reino Unido     192.0   \n",
       "68084  2024   12             �vila            Europa      Ruman�a     135.0   \n",
       "68085  2024   12             �vila            Europa       Suecia     296.0   \n",
       "68086  2024   12             �vila            Europa        Suiza      98.0   \n",
       "68087  2024   12             �vila            �frica    Marruecos     145.0   \n",
       "\n",
       "      PERNOCTACIONES ESTANCIA_MEDIA  \n",
       "0             3098,0           10,5  \n",
       "1             4084,0            8,2  \n",
       "2            15512,0           11,2  \n",
       "3              505,0            8,7  \n",
       "4             4662,0           12,6  \n",
       "...              ...            ...  \n",
       "68083         1536,0            8,0  \n",
       "68084         2160,0           16,0  \n",
       "68085         5180,0           17,5  \n",
       "68086          490,0            5,0  \n",
       "68087         1189,0            8,2  \n",
       "\n",
       "[68088 rows x 8 columns]"
      ]
     },
     "execution_count": 2,
     "metadata": {},
     "output_type": "execute_result"
    }
   ],
   "source": [
    "path = \"C:\\\\Users\\\\Flore\\\\Desktop\\\\EDA_SURF ESKOLA\\\\turismo_receptor_provincia_pais_ARCHIVO_LIMPIO.csv\"\n",
    "turism = pd.read_csv(path, sep=\",\")\n",
    "turism"
   ]
  },
  {
   "cell_type": "code",
   "execution_count": 3,
   "metadata": {},
   "outputs": [
    {
     "name": "stdout",
     "output_type": "stream",
     "text": [
      "<class 'pandas.core.frame.DataFrame'>\n",
      "RangeIndex: 68088 entries, 0 to 68087\n",
      "Data columns (total 8 columns):\n",
      " #   Column             Non-Null Count  Dtype  \n",
      "---  ------             --------------  -----  \n",
      " 0   AÑO                68088 non-null  int64  \n",
      " 1   MES                68088 non-null  int64  \n",
      " 2   PROVINCIA_DESTINO  68088 non-null  object \n",
      " 3   CONTINENTE_ORIGEN  68088 non-null  object \n",
      " 4   PAIS_ORIGEN        68088 non-null  object \n",
      " 5   TURISTAS           68088 non-null  float64\n",
      " 6   PERNOCTACIONES     68088 non-null  object \n",
      " 7   ESTANCIA_MEDIA     68088 non-null  object \n",
      "dtypes: float64(1), int64(2), object(5)\n",
      "memory usage: 4.2+ MB\n"
     ]
    }
   ],
   "source": [
    "turism.info()"
   ]
  },
  {
   "cell_type": "code",
   "execution_count": 4,
   "metadata": {},
   "outputs": [],
   "source": [
    "df= pd.DataFrame(turism)"
   ]
  },
  {
   "cell_type": "code",
   "execution_count": 5,
   "metadata": {},
   "outputs": [
    {
     "data": {
      "application/vnd.microsoft.datawrangler.viewer.v0+json": {
       "columns": [
        {
         "name": "index",
         "rawType": "int64",
         "type": "integer"
        },
        {
         "name": "AÑO",
         "rawType": "int64",
         "type": "integer"
        },
        {
         "name": "MES",
         "rawType": "int64",
         "type": "integer"
        },
        {
         "name": "PROVINCIA_DESTINO",
         "rawType": "object",
         "type": "string"
        },
        {
         "name": "CONTINENTE_ORIGEN",
         "rawType": "object",
         "type": "string"
        },
        {
         "name": "PAIS_ORIGEN",
         "rawType": "object",
         "type": "string"
        },
        {
         "name": "TURISTAS",
         "rawType": "float64",
         "type": "float"
        },
        {
         "name": "PERNOCTACIONES",
         "rawType": "object",
         "type": "string"
        },
        {
         "name": "ESTANCIA_MEDIA",
         "rawType": "object",
         "type": "string"
        }
       ],
       "conversionMethod": "pd.DataFrame",
       "ref": "1671a30e-ae37-4772-ad0d-fd71bc6780b2",
       "rows": [
        [
         "68083",
         "2024",
         "12",
         "�vila",
         "Europa",
         "Reino Unido",
         "192.0",
         "1536,0",
         "8,0"
        ],
        [
         "68084",
         "2024",
         "12",
         "�vila",
         "Europa",
         "Ruman�a",
         "135.0",
         "2160,0",
         "16,0"
        ],
        [
         "68085",
         "2024",
         "12",
         "�vila",
         "Europa",
         "Suecia",
         "296.0",
         "5180,0",
         "17,5"
        ],
        [
         "68086",
         "2024",
         "12",
         "�vila",
         "Europa",
         "Suiza",
         "98.0",
         "490,0",
         "5,0"
        ],
        [
         "68087",
         "2024",
         "12",
         "�vila",
         "�frica",
         "Marruecos",
         "145.0",
         "1189,0",
         "8,2"
        ]
       ],
       "shape": {
        "columns": 8,
        "rows": 5
       }
      },
      "text/html": [
       "<div>\n",
       "<style scoped>\n",
       "    .dataframe tbody tr th:only-of-type {\n",
       "        vertical-align: middle;\n",
       "    }\n",
       "\n",
       "    .dataframe tbody tr th {\n",
       "        vertical-align: top;\n",
       "    }\n",
       "\n",
       "    .dataframe thead th {\n",
       "        text-align: right;\n",
       "    }\n",
       "</style>\n",
       "<table border=\"1\" class=\"dataframe\">\n",
       "  <thead>\n",
       "    <tr style=\"text-align: right;\">\n",
       "      <th></th>\n",
       "      <th>AÑO</th>\n",
       "      <th>MES</th>\n",
       "      <th>PROVINCIA_DESTINO</th>\n",
       "      <th>CONTINENTE_ORIGEN</th>\n",
       "      <th>PAIS_ORIGEN</th>\n",
       "      <th>TURISTAS</th>\n",
       "      <th>PERNOCTACIONES</th>\n",
       "      <th>ESTANCIA_MEDIA</th>\n",
       "    </tr>\n",
       "  </thead>\n",
       "  <tbody>\n",
       "    <tr>\n",
       "      <th>68083</th>\n",
       "      <td>2024</td>\n",
       "      <td>12</td>\n",
       "      <td>�vila</td>\n",
       "      <td>Europa</td>\n",
       "      <td>Reino Unido</td>\n",
       "      <td>192.0</td>\n",
       "      <td>1536,0</td>\n",
       "      <td>8,0</td>\n",
       "    </tr>\n",
       "    <tr>\n",
       "      <th>68084</th>\n",
       "      <td>2024</td>\n",
       "      <td>12</td>\n",
       "      <td>�vila</td>\n",
       "      <td>Europa</td>\n",
       "      <td>Ruman�a</td>\n",
       "      <td>135.0</td>\n",
       "      <td>2160,0</td>\n",
       "      <td>16,0</td>\n",
       "    </tr>\n",
       "    <tr>\n",
       "      <th>68085</th>\n",
       "      <td>2024</td>\n",
       "      <td>12</td>\n",
       "      <td>�vila</td>\n",
       "      <td>Europa</td>\n",
       "      <td>Suecia</td>\n",
       "      <td>296.0</td>\n",
       "      <td>5180,0</td>\n",
       "      <td>17,5</td>\n",
       "    </tr>\n",
       "    <tr>\n",
       "      <th>68086</th>\n",
       "      <td>2024</td>\n",
       "      <td>12</td>\n",
       "      <td>�vila</td>\n",
       "      <td>Europa</td>\n",
       "      <td>Suiza</td>\n",
       "      <td>98.0</td>\n",
       "      <td>490,0</td>\n",
       "      <td>5,0</td>\n",
       "    </tr>\n",
       "    <tr>\n",
       "      <th>68087</th>\n",
       "      <td>2024</td>\n",
       "      <td>12</td>\n",
       "      <td>�vila</td>\n",
       "      <td>�frica</td>\n",
       "      <td>Marruecos</td>\n",
       "      <td>145.0</td>\n",
       "      <td>1189,0</td>\n",
       "      <td>8,2</td>\n",
       "    </tr>\n",
       "  </tbody>\n",
       "</table>\n",
       "</div>"
      ],
      "text/plain": [
       "        AÑO  MES PROVINCIA_DESTINO CONTINENTE_ORIGEN  PAIS_ORIGEN  TURISTAS  \\\n",
       "68083  2024   12             �vila            Europa  Reino Unido     192.0   \n",
       "68084  2024   12             �vila            Europa      Ruman�a     135.0   \n",
       "68085  2024   12             �vila            Europa       Suecia     296.0   \n",
       "68086  2024   12             �vila            Europa        Suiza      98.0   \n",
       "68087  2024   12             �vila            �frica    Marruecos     145.0   \n",
       "\n",
       "      PERNOCTACIONES ESTANCIA_MEDIA  \n",
       "68083         1536,0            8,0  \n",
       "68084         2160,0           16,0  \n",
       "68085         5180,0           17,5  \n",
       "68086          490,0            5,0  \n",
       "68087         1189,0            8,2  "
      ]
     },
     "execution_count": 5,
     "metadata": {},
     "output_type": "execute_result"
    }
   ],
   "source": [
    "df.tail()"
   ]
  },
  {
   "cell_type": "code",
   "execution_count": 6,
   "metadata": {},
   "outputs": [
    {
     "data": {
      "application/vnd.microsoft.datawrangler.viewer.v0+json": {
       "columns": [
        {
         "name": "index",
         "rawType": "int64",
         "type": "integer"
        },
        {
         "name": "AÑO",
         "rawType": "int64",
         "type": "integer"
        },
        {
         "name": "MES",
         "rawType": "int64",
         "type": "integer"
        },
        {
         "name": "PROVINCIA_DESTINO",
         "rawType": "object",
         "type": "string"
        },
        {
         "name": "CONTINENTE_ORIGEN",
         "rawType": "object",
         "type": "string"
        },
        {
         "name": "PAIS_ORIGEN",
         "rawType": "object",
         "type": "string"
        },
        {
         "name": "TURISTAS",
         "rawType": "float64",
         "type": "float"
        },
        {
         "name": "PERNOCTACIONES",
         "rawType": "object",
         "type": "string"
        },
        {
         "name": "ESTANCIA_MEDIA",
         "rawType": "object",
         "type": "string"
        }
       ],
       "conversionMethod": "pd.DataFrame",
       "ref": "393955fa-e50a-41e2-bd69-6d1d3814f57e",
       "rows": [
        [
         "32735",
         "2024",
         "1",
         "A Coru�a",
         "Am�rica",
         "Argentina",
         "219.0",
         "2365,0",
         "10,8"
        ],
        [
         "32736",
         "2024",
         "1",
         "A Coru�a",
         "Am�rica",
         "Brasil",
         "462.0",
         "3142,0",
         "6,8"
        ],
        [
         "32737",
         "2024",
         "1",
         "A Coru�a",
         "Am�rica",
         "Canad�",
         "102.0",
         "775,0",
         "7,6"
        ],
        [
         "32738",
         "2024",
         "1",
         "A Coru�a",
         "Am�rica",
         "Chile",
         "124.0",
         "905,0",
         "7,3"
        ],
        [
         "32739",
         "2024",
         "1",
         "A Coru�a",
         "Am�rica",
         "Colombia",
         "451.0",
         "3788,0",
         "8,4"
        ],
        [
         "32740",
         "2024",
         "1",
         "A Coru�a",
         "Am�rica",
         "Estados Unidos de Am�rica",
         "1528.0",
         "13294,0",
         "8,7"
        ],
        [
         "32741",
         "2024",
         "1",
         "A Coru�a",
         "Am�rica",
         "M�xico",
         "259.0",
         "2046,0",
         "7,9"
        ],
        [
         "32742",
         "2024",
         "1",
         "A Coru�a",
         "Am�rica",
         "Per�",
         "66.0",
         "601,0",
         "9,1"
        ],
        [
         "32743",
         "2024",
         "1",
         "A Coru�a",
         "Am�rica",
         "Uruguay",
         "89.0",
         "926,0",
         "10,4"
        ],
        [
         "32744",
         "2024",
         "1",
         "A Coru�a",
         "Am�rica",
         "Venezuela",
         "412.0",
         "2925,0",
         "7,1"
        ],
        [
         "32745",
         "2024",
         "1",
         "A Coru�a",
         "Asia",
         "China",
         "441.0",
         "2999,0",
         "6,8"
        ],
        [
         "32746",
         "2024",
         "1",
         "A Coru�a",
         "Asia",
         "Corea",
         "36.0",
         "259,0",
         "7,2"
        ],
        [
         "32747",
         "2024",
         "1",
         "A Coru�a",
         "Asia",
         "Emiratos �rabes Unidos",
         "34.0",
         "306,0",
         "9,0"
        ],
        [
         "32748",
         "2024",
         "1",
         "A Coru�a",
         "Asia",
         "Filipinas",
         "143.0",
         "458,0",
         "3,2"
        ],
        [
         "32749",
         "2024",
         "1",
         "A Coru�a",
         "Asia",
         "India",
         "130.0",
         "728,0",
         "5,6"
        ],
        [
         "32750",
         "2024",
         "1",
         "A Coru�a",
         "Asia",
         "Indonesia",
         "49.0",
         "475,0",
         "9,7"
        ],
        [
         "32751",
         "2024",
         "1",
         "A Coru�a",
         "Asia",
         "Jap�n",
         "117.0",
         "761,0",
         "6,5"
        ],
        [
         "32752",
         "2024",
         "1",
         "A Coru�a",
         "Asia",
         "Tailandia",
         "77.0",
         "501,0",
         "6,5"
        ],
        [
         "32753",
         "2024",
         "1",
         "A Coru�a",
         "Europa",
         "Alemania",
         "2718.0",
         "23647,0",
         "8,7"
        ],
        [
         "32754",
         "2024",
         "1",
         "A Coru�a",
         "Europa",
         "Andorra",
         "62.0",
         "533,0",
         "8,6"
        ],
        [
         "32755",
         "2024",
         "1",
         "A Coru�a",
         "Europa",
         "Austria",
         "940.0",
         "7614,0",
         "8,1"
        ],
        [
         "32756",
         "2024",
         "1",
         "A Coru�a",
         "Europa",
         "Bulgaria",
         "39.0",
         "238,0",
         "6,1"
        ],
        [
         "32757",
         "2024",
         "1",
         "A Coru�a",
         "Europa",
         "B�lgica",
         "1070.0",
         "8881,0",
         "8,3"
        ],
        [
         "32758",
         "2024",
         "1",
         "A Coru�a",
         "Europa",
         "Croacia",
         "71.0",
         "518,0",
         "7,3"
        ],
        [
         "32759",
         "2024",
         "1",
         "A Coru�a",
         "Europa",
         "Dinamarca",
         "658.0",
         "5725,0",
         "8,7"
        ],
        [
         "32760",
         "2024",
         "1",
         "A Coru�a",
         "Europa",
         "Estonia",
         "30.0",
         "210,0",
         "7,0"
        ],
        [
         "32761",
         "2024",
         "1",
         "A Coru�a",
         "Europa",
         "Finlandia",
         "106.0",
         "753,0",
         "7,1"
        ],
        [
         "32762",
         "2024",
         "1",
         "A Coru�a",
         "Europa",
         "Francia",
         "4002.0",
         "35218,0",
         "8,8"
        ],
        [
         "32763",
         "2024",
         "1",
         "A Coru�a",
         "Europa",
         "Grecia",
         "53.0",
         "392,0",
         "7,4"
        ],
        [
         "32764",
         "2024",
         "1",
         "A Coru�a",
         "Europa",
         "Irlanda",
         "381.0",
         "3658,0",
         "9,6"
        ],
        [
         "32765",
         "2024",
         "1",
         "A Coru�a",
         "Europa",
         "Italia",
         "1187.0",
         "9496,0",
         "8,0"
        ],
        [
         "32766",
         "2024",
         "1",
         "A Coru�a",
         "Europa",
         "Letonia",
         "118.0",
         "920,0",
         "7,8"
        ],
        [
         "32767",
         "2024",
         "1",
         "A Coru�a",
         "Europa",
         "Liechtenstein",
         "166.0",
         "1544,0",
         "9,3"
        ],
        [
         "32768",
         "2024",
         "1",
         "A Coru�a",
         "Europa",
         "Lituania",
         "50.0",
         "440,0",
         "8,8"
        ],
        [
         "32769",
         "2024",
         "1",
         "A Coru�a",
         "Europa",
         "Luxemburgo",
         "966.0",
         "11495,0",
         "11,9"
        ],
        [
         "32770",
         "2024",
         "1",
         "A Coru�a",
         "Europa",
         "Noruega",
         "102.0",
         "847,0",
         "8,3"
        ],
        [
         "32771",
         "2024",
         "1",
         "A Coru�a",
         "Europa",
         "Pa�ses Bajos",
         "2328.0",
         "14434,0",
         "6,2"
        ],
        [
         "32772",
         "2024",
         "1",
         "A Coru�a",
         "Europa",
         "Polonia",
         "844.0",
         "6246,0",
         "7,4"
        ],
        [
         "32773",
         "2024",
         "1",
         "A Coru�a",
         "Europa",
         "Portugal",
         "4871.0",
         "23868,0",
         "4,9"
        ],
        [
         "32774",
         "2024",
         "1",
         "A Coru�a",
         "Europa",
         "Reino Unido",
         "3577.0",
         "30762,0",
         "8,6"
        ],
        [
         "32775",
         "2024",
         "1",
         "A Coru�a",
         "Europa",
         "Rep�blica Checa",
         "92.0",
         "773,0",
         "8,4"
        ],
        [
         "32776",
         "2024",
         "1",
         "A Coru�a",
         "Europa",
         "Rep�blica Eslovaca",
         "38.0",
         "243,0",
         "6,4"
        ],
        [
         "32777",
         "2024",
         "1",
         "A Coru�a",
         "Europa",
         "Ruman�a",
         "121.0",
         "956,0",
         "7,9"
        ],
        [
         "32778",
         "2024",
         "1",
         "A Coru�a",
         "Europa",
         "Rusia",
         "169.0",
         "1048,0",
         "6,2"
        ],
        [
         "32779",
         "2024",
         "1",
         "A Coru�a",
         "Europa",
         "Suecia",
         "1001.0",
         "7808,0",
         "7,8"
        ],
        [
         "32780",
         "2024",
         "1",
         "A Coru�a",
         "Europa",
         "Suiza",
         "2829.0",
         "29987,0",
         "10,6"
        ],
        [
         "32781",
         "2024",
         "1",
         "A Coru�a",
         "Europa",
         "Turqu�a",
         "230.0",
         "1035,0",
         "4,5"
        ],
        [
         "32782",
         "2024",
         "1",
         "A Coru�a",
         "Ocean�a",
         "Australia",
         "73.0",
         "672,0",
         "9,2"
        ],
        [
         "32783",
         "2024",
         "1",
         "A Coru�a",
         "�frica",
         "Argelia",
         "38.0",
         "213,0",
         "5,6"
        ],
        [
         "32784",
         "2024",
         "1",
         "A Coru�a",
         "�frica",
         "Marruecos",
         "279.0",
         "2120,0",
         "7,6"
        ]
       ],
       "shape": {
        "columns": 8,
        "rows": 35353
       }
      },
      "text/html": [
       "<div>\n",
       "<style scoped>\n",
       "    .dataframe tbody tr th:only-of-type {\n",
       "        vertical-align: middle;\n",
       "    }\n",
       "\n",
       "    .dataframe tbody tr th {\n",
       "        vertical-align: top;\n",
       "    }\n",
       "\n",
       "    .dataframe thead th {\n",
       "        text-align: right;\n",
       "    }\n",
       "</style>\n",
       "<table border=\"1\" class=\"dataframe\">\n",
       "  <thead>\n",
       "    <tr style=\"text-align: right;\">\n",
       "      <th></th>\n",
       "      <th>AÑO</th>\n",
       "      <th>MES</th>\n",
       "      <th>PROVINCIA_DESTINO</th>\n",
       "      <th>CONTINENTE_ORIGEN</th>\n",
       "      <th>PAIS_ORIGEN</th>\n",
       "      <th>TURISTAS</th>\n",
       "      <th>PERNOCTACIONES</th>\n",
       "      <th>ESTANCIA_MEDIA</th>\n",
       "    </tr>\n",
       "  </thead>\n",
       "  <tbody>\n",
       "    <tr>\n",
       "      <th>32735</th>\n",
       "      <td>2024</td>\n",
       "      <td>1</td>\n",
       "      <td>A Coru�a</td>\n",
       "      <td>Am�rica</td>\n",
       "      <td>Argentina</td>\n",
       "      <td>219.0</td>\n",
       "      <td>2365,0</td>\n",
       "      <td>10,8</td>\n",
       "    </tr>\n",
       "    <tr>\n",
       "      <th>32736</th>\n",
       "      <td>2024</td>\n",
       "      <td>1</td>\n",
       "      <td>A Coru�a</td>\n",
       "      <td>Am�rica</td>\n",
       "      <td>Brasil</td>\n",
       "      <td>462.0</td>\n",
       "      <td>3142,0</td>\n",
       "      <td>6,8</td>\n",
       "    </tr>\n",
       "    <tr>\n",
       "      <th>32737</th>\n",
       "      <td>2024</td>\n",
       "      <td>1</td>\n",
       "      <td>A Coru�a</td>\n",
       "      <td>Am�rica</td>\n",
       "      <td>Canad�</td>\n",
       "      <td>102.0</td>\n",
       "      <td>775,0</td>\n",
       "      <td>7,6</td>\n",
       "    </tr>\n",
       "    <tr>\n",
       "      <th>32738</th>\n",
       "      <td>2024</td>\n",
       "      <td>1</td>\n",
       "      <td>A Coru�a</td>\n",
       "      <td>Am�rica</td>\n",
       "      <td>Chile</td>\n",
       "      <td>124.0</td>\n",
       "      <td>905,0</td>\n",
       "      <td>7,3</td>\n",
       "    </tr>\n",
       "    <tr>\n",
       "      <th>32739</th>\n",
       "      <td>2024</td>\n",
       "      <td>1</td>\n",
       "      <td>A Coru�a</td>\n",
       "      <td>Am�rica</td>\n",
       "      <td>Colombia</td>\n",
       "      <td>451.0</td>\n",
       "      <td>3788,0</td>\n",
       "      <td>8,4</td>\n",
       "    </tr>\n",
       "    <tr>\n",
       "      <th>...</th>\n",
       "      <td>...</td>\n",
       "      <td>...</td>\n",
       "      <td>...</td>\n",
       "      <td>...</td>\n",
       "      <td>...</td>\n",
       "      <td>...</td>\n",
       "      <td>...</td>\n",
       "      <td>...</td>\n",
       "    </tr>\n",
       "    <tr>\n",
       "      <th>68083</th>\n",
       "      <td>2024</td>\n",
       "      <td>12</td>\n",
       "      <td>�vila</td>\n",
       "      <td>Europa</td>\n",
       "      <td>Reino Unido</td>\n",
       "      <td>192.0</td>\n",
       "      <td>1536,0</td>\n",
       "      <td>8,0</td>\n",
       "    </tr>\n",
       "    <tr>\n",
       "      <th>68084</th>\n",
       "      <td>2024</td>\n",
       "      <td>12</td>\n",
       "      <td>�vila</td>\n",
       "      <td>Europa</td>\n",
       "      <td>Ruman�a</td>\n",
       "      <td>135.0</td>\n",
       "      <td>2160,0</td>\n",
       "      <td>16,0</td>\n",
       "    </tr>\n",
       "    <tr>\n",
       "      <th>68085</th>\n",
       "      <td>2024</td>\n",
       "      <td>12</td>\n",
       "      <td>�vila</td>\n",
       "      <td>Europa</td>\n",
       "      <td>Suecia</td>\n",
       "      <td>296.0</td>\n",
       "      <td>5180,0</td>\n",
       "      <td>17,5</td>\n",
       "    </tr>\n",
       "    <tr>\n",
       "      <th>68086</th>\n",
       "      <td>2024</td>\n",
       "      <td>12</td>\n",
       "      <td>�vila</td>\n",
       "      <td>Europa</td>\n",
       "      <td>Suiza</td>\n",
       "      <td>98.0</td>\n",
       "      <td>490,0</td>\n",
       "      <td>5,0</td>\n",
       "    </tr>\n",
       "    <tr>\n",
       "      <th>68087</th>\n",
       "      <td>2024</td>\n",
       "      <td>12</td>\n",
       "      <td>�vila</td>\n",
       "      <td>�frica</td>\n",
       "      <td>Marruecos</td>\n",
       "      <td>145.0</td>\n",
       "      <td>1189,0</td>\n",
       "      <td>8,2</td>\n",
       "    </tr>\n",
       "  </tbody>\n",
       "</table>\n",
       "<p>35353 rows × 8 columns</p>\n",
       "</div>"
      ],
      "text/plain": [
       "        AÑO  MES PROVINCIA_DESTINO CONTINENTE_ORIGEN  PAIS_ORIGEN  TURISTAS  \\\n",
       "32735  2024    1          A Coru�a           Am�rica    Argentina     219.0   \n",
       "32736  2024    1          A Coru�a           Am�rica       Brasil     462.0   \n",
       "32737  2024    1          A Coru�a           Am�rica       Canad�     102.0   \n",
       "32738  2024    1          A Coru�a           Am�rica        Chile     124.0   \n",
       "32739  2024    1          A Coru�a           Am�rica     Colombia     451.0   \n",
       "...     ...  ...               ...               ...          ...       ...   \n",
       "68083  2024   12             �vila            Europa  Reino Unido     192.0   \n",
       "68084  2024   12             �vila            Europa      Ruman�a     135.0   \n",
       "68085  2024   12             �vila            Europa       Suecia     296.0   \n",
       "68086  2024   12             �vila            Europa        Suiza      98.0   \n",
       "68087  2024   12             �vila            �frica    Marruecos     145.0   \n",
       "\n",
       "      PERNOCTACIONES ESTANCIA_MEDIA  \n",
       "32735         2365,0           10,8  \n",
       "32736         3142,0            6,8  \n",
       "32737          775,0            7,6  \n",
       "32738          905,0            7,3  \n",
       "32739         3788,0            8,4  \n",
       "...              ...            ...  \n",
       "68083         1536,0            8,0  \n",
       "68084         2160,0           16,0  \n",
       "68085         5180,0           17,5  \n",
       "68086          490,0            5,0  \n",
       "68087         1189,0            8,2  \n",
       "\n",
       "[35353 rows x 8 columns]"
      ]
     },
     "execution_count": 6,
     "metadata": {},
     "output_type": "execute_result"
    }
   ],
   "source": [
    "filtro = df[df[\"AÑO\"]>=2024]\n",
    "turistas= pd.DataFrame(filtro)\n",
    "turistas"
   ]
  },
  {
   "cell_type": "code",
   "execution_count": 7,
   "metadata": {},
   "outputs": [
    {
     "data": {
      "text/plain": [
       "CONTINENTE_ORIGEN\n",
       "Europa     18686\n",
       "Am�rica     6960\n",
       "Asia        5415\n",
       "�frica      3742\n",
       "Ocean�a      550\n",
       "Name: count, dtype: int64"
      ]
     },
     "execution_count": 7,
     "metadata": {},
     "output_type": "execute_result"
    }
   ],
   "source": [
    "continente_origen = filtro[\"CONTINENTE_ORIGEN\"].value_counts()\n",
    "continente_origen"
   ]
  },
  {
   "cell_type": "code",
   "execution_count": 8,
   "metadata": {},
   "outputs": [
    {
     "data": {
      "application/vnd.microsoft.datawrangler.viewer.v0+json": {
       "columns": [
        {
         "name": "index",
         "rawType": "int64",
         "type": "integer"
        },
        {
         "name": "PROVINCIA_DESTINO",
         "rawType": "object",
         "type": "string"
        },
        {
         "name": "PAIS_ORIGEN",
         "rawType": "object",
         "type": "string"
        },
        {
         "name": "TURISTAS",
         "rawType": "float64",
         "type": "float"
        }
       ],
       "conversionMethod": "pd.DataFrame",
       "ref": "b5da8fab-c9bf-4654-988a-85143e06f1f3",
       "rows": [
        [
         "0",
         "A Coru�a",
         "Alemania",
         "69025.0"
        ],
        [
         "1",
         "A Coru�a",
         "Andorra",
         "864.0"
        ],
        [
         "2",
         "A Coru�a",
         "Arabia Saud�",
         "92.0"
        ],
        [
         "3",
         "A Coru�a",
         "Argelia",
         "439.0"
        ],
        [
         "4",
         "A Coru�a",
         "Argentina",
         "5738.0"
        ],
        [
         "5",
         "A Coru�a",
         "Australia",
         "2907.0"
        ],
        [
         "6",
         "A Coru�a",
         "Austria",
         "28476.0"
        ],
        [
         "7",
         "A Coru�a",
         "Bosnia y Herzegovina",
         "42.0"
        ],
        [
         "8",
         "A Coru�a",
         "Brasil",
         "9966.0"
        ],
        [
         "9",
         "A Coru�a",
         "Bulgaria",
         "1356.0"
        ],
        [
         "10",
         "A Coru�a",
         "B�lgica",
         "27614.0"
        ],
        [
         "11",
         "A Coru�a",
         "Camer�n",
         "36.0"
        ],
        [
         "12",
         "A Coru�a",
         "Canad�",
         "5081.0"
        ],
        [
         "13",
         "A Coru�a",
         "Chile",
         "1527.0"
        ],
        [
         "14",
         "A Coru�a",
         "China",
         "10854.0"
        ],
        [
         "15",
         "A Coru�a",
         "Chipre",
         "31.0"
        ],
        [
         "16",
         "A Coru�a",
         "Colombia",
         "7033.0"
        ],
        [
         "17",
         "A Coru�a",
         "Corea",
         "2424.0"
        ],
        [
         "18",
         "A Coru�a",
         "Costa de Marfil",
         "42.0"
        ],
        [
         "19",
         "A Coru�a",
         "Croacia",
         "2393.0"
        ],
        [
         "20",
         "A Coru�a",
         "Dinamarca",
         "11215.0"
        ],
        [
         "21",
         "A Coru�a",
         "Ecuador",
         "475.0"
        ],
        [
         "22",
         "A Coru�a",
         "Egipto",
         "198.0"
        ],
        [
         "23",
         "A Coru�a",
         "Emiratos �rabes Unidos",
         "750.0"
        ],
        [
         "24",
         "A Coru�a",
         "Eslovenia",
         "809.0"
        ],
        [
         "25",
         "A Coru�a",
         "Estados Unidos de Am�rica",
         "64403.0"
        ],
        [
         "26",
         "A Coru�a",
         "Estonia",
         "940.0"
        ],
        [
         "27",
         "A Coru�a",
         "Filipinas",
         "8614.0"
        ],
        [
         "28",
         "A Coru�a",
         "Finlandia",
         "2317.0"
        ],
        [
         "29",
         "A Coru�a",
         "Francia",
         "95056.0"
        ],
        [
         "30",
         "A Coru�a",
         "Georgia",
         "69.0"
        ],
        [
         "31",
         "A Coru�a",
         "Grecia",
         "1740.0"
        ],
        [
         "32",
         "A Coru�a",
         "Guatemala",
         "129.0"
        ],
        [
         "33",
         "A Coru�a",
         "Hungr�a",
         "1951.0"
        ],
        [
         "34",
         "A Coru�a",
         "India",
         "5162.0"
        ],
        [
         "35",
         "A Coru�a",
         "Indonesia",
         "1467.0"
        ],
        [
         "36",
         "A Coru�a",
         "Irlanda",
         "21826.0"
        ],
        [
         "37",
         "A Coru�a",
         "Islandia",
         "221.0"
        ],
        [
         "38",
         "A Coru�a",
         "Israel",
         "528.0"
        ],
        [
         "39",
         "A Coru�a",
         "Italia",
         "40158.0"
        ],
        [
         "40",
         "A Coru�a",
         "Jap�n",
         "2692.0"
        ],
        [
         "41",
         "A Coru�a",
         "Kenia",
         "83.0"
        ],
        [
         "42",
         "A Coru�a",
         "Letonia",
         "1513.0"
        ],
        [
         "43",
         "A Coru�a",
         "Liechtenstein",
         "3457.0"
        ],
        [
         "44",
         "A Coru�a",
         "Lituania",
         "1129.0"
        ],
        [
         "45",
         "A Coru�a",
         "Luxemburgo",
         "15560.0"
        ],
        [
         "46",
         "A Coru�a",
         "L�bano",
         "35.0"
        ],
        [
         "47",
         "A Coru�a",
         "Madagascar",
         "38.0"
        ],
        [
         "48",
         "A Coru�a",
         "Malasia",
         "224.0"
        ],
        [
         "49",
         "A Coru�a",
         "Mali",
         "166.0"
        ]
       ],
       "shape": {
        "columns": 3,
        "rows": 3705
       }
      },
      "text/html": [
       "<div>\n",
       "<style scoped>\n",
       "    .dataframe tbody tr th:only-of-type {\n",
       "        vertical-align: middle;\n",
       "    }\n",
       "\n",
       "    .dataframe tbody tr th {\n",
       "        vertical-align: top;\n",
       "    }\n",
       "\n",
       "    .dataframe thead th {\n",
       "        text-align: right;\n",
       "    }\n",
       "</style>\n",
       "<table border=\"1\" class=\"dataframe\">\n",
       "  <thead>\n",
       "    <tr style=\"text-align: right;\">\n",
       "      <th></th>\n",
       "      <th>PROVINCIA_DESTINO</th>\n",
       "      <th>PAIS_ORIGEN</th>\n",
       "      <th>TURISTAS</th>\n",
       "    </tr>\n",
       "  </thead>\n",
       "  <tbody>\n",
       "    <tr>\n",
       "      <th>0</th>\n",
       "      <td>A Coru�a</td>\n",
       "      <td>Alemania</td>\n",
       "      <td>69025.0</td>\n",
       "    </tr>\n",
       "    <tr>\n",
       "      <th>1</th>\n",
       "      <td>A Coru�a</td>\n",
       "      <td>Andorra</td>\n",
       "      <td>864.0</td>\n",
       "    </tr>\n",
       "    <tr>\n",
       "      <th>2</th>\n",
       "      <td>A Coru�a</td>\n",
       "      <td>Arabia Saud�</td>\n",
       "      <td>92.0</td>\n",
       "    </tr>\n",
       "    <tr>\n",
       "      <th>3</th>\n",
       "      <td>A Coru�a</td>\n",
       "      <td>Argelia</td>\n",
       "      <td>439.0</td>\n",
       "    </tr>\n",
       "    <tr>\n",
       "      <th>4</th>\n",
       "      <td>A Coru�a</td>\n",
       "      <td>Argentina</td>\n",
       "      <td>5738.0</td>\n",
       "    </tr>\n",
       "    <tr>\n",
       "      <th>...</th>\n",
       "      <td>...</td>\n",
       "      <td>...</td>\n",
       "      <td>...</td>\n",
       "    </tr>\n",
       "    <tr>\n",
       "      <th>3700</th>\n",
       "      <td>�vila</td>\n",
       "      <td>Senegal</td>\n",
       "      <td>69.0</td>\n",
       "    </tr>\n",
       "    <tr>\n",
       "      <th>3701</th>\n",
       "      <td>�vila</td>\n",
       "      <td>Suecia</td>\n",
       "      <td>4814.0</td>\n",
       "    </tr>\n",
       "    <tr>\n",
       "      <th>3702</th>\n",
       "      <td>�vila</td>\n",
       "      <td>Suiza</td>\n",
       "      <td>2155.0</td>\n",
       "    </tr>\n",
       "    <tr>\n",
       "      <th>3703</th>\n",
       "      <td>�vila</td>\n",
       "      <td>Turqu�a</td>\n",
       "      <td>34.0</td>\n",
       "    </tr>\n",
       "    <tr>\n",
       "      <th>3704</th>\n",
       "      <td>�vila</td>\n",
       "      <td>Venezuela</td>\n",
       "      <td>264.0</td>\n",
       "    </tr>\n",
       "  </tbody>\n",
       "</table>\n",
       "<p>3705 rows × 3 columns</p>\n",
       "</div>"
      ],
      "text/plain": [
       "     PROVINCIA_DESTINO   PAIS_ORIGEN  TURISTAS\n",
       "0             A Coru�a      Alemania   69025.0\n",
       "1             A Coru�a       Andorra     864.0\n",
       "2             A Coru�a  Arabia Saud�      92.0\n",
       "3             A Coru�a       Argelia     439.0\n",
       "4             A Coru�a     Argentina    5738.0\n",
       "...                ...           ...       ...\n",
       "3700             �vila       Senegal      69.0\n",
       "3701             �vila        Suecia    4814.0\n",
       "3702             �vila         Suiza    2155.0\n",
       "3703             �vila       Turqu�a      34.0\n",
       "3704             �vila     Venezuela     264.0\n",
       "\n",
       "[3705 rows x 3 columns]"
      ]
     },
     "execution_count": 8,
     "metadata": {},
     "output_type": "execute_result"
    }
   ],
   "source": [
    "agrupado= turistas.groupby([\"PROVINCIA_DESTINO\", \"PAIS_ORIGEN\"])[\"TURISTAS\"].sum().reset_index()\n",
    "agrupado"
   ]
  },
  {
   "cell_type": "code",
   "execution_count": 9,
   "metadata": {},
   "outputs": [
    {
     "data": {
      "application/vnd.microsoft.datawrangler.viewer.v0+json": {
       "columns": [
        {
         "name": "index",
         "rawType": "int64",
         "type": "integer"
        },
        {
         "name": "PAIS_ORIGEN",
         "rawType": "object",
         "type": "string"
        },
        {
         "name": "TURISTAS",
         "rawType": "float64",
         "type": "float"
        }
       ],
       "conversionMethod": "pd.DataFrame",
       "ref": "aa0b81bc-dbed-4cfa-a537-870f6a26a251",
       "rows": [
        [
         "0",
         "Albania",
         "30899.0"
        ],
        [
         "1",
         "Alemania",
         "13350981.0"
        ],
        [
         "2",
         "Andorra",
         "391412.0"
        ],
        [
         "3",
         "Angola",
         "3975.0"
        ],
        [
         "4",
         "Arabia Saud�",
         "81230.0"
        ],
        [
         "5",
         "Argelia",
         "219152.0"
        ],
        [
         "6",
         "Argentina",
         "475634.0"
        ],
        [
         "7",
         "Armenia",
         "16346.0"
        ],
        [
         "8",
         "Australia",
         "236162.0"
        ],
        [
         "9",
         "Austria",
         "2340281.0"
        ],
        [
         "10",
         "Azerbaiy�n",
         "7831.0"
        ],
        [
         "11",
         "Bahamas",
         "133.0"
        ],
        [
         "12",
         "Bahr�in",
         "5440.0"
        ],
        [
         "13",
         "Bangladesh",
         "3386.0"
        ],
        [
         "14",
         "Belar�s",
         "37986.0"
        ],
        [
         "15",
         "Benin",
         "399.0"
        ],
        [
         "16",
         "Bolivia",
         "19480.0"
        ],
        [
         "17",
         "Bosnia y Herzegovina",
         "11292.0"
        ],
        [
         "18",
         "Brasil",
         "476264.0"
        ],
        [
         "19",
         "Bulgaria",
         "275059.0"
        ],
        [
         "20",
         "Burkina Faso",
         "1403.0"
        ],
        [
         "21",
         "B�lgica",
         "3132544.0"
        ],
        [
         "22",
         "Cabo Verde",
         "794.0"
        ],
        [
         "23",
         "Camboya",
         "135.0"
        ],
        [
         "24",
         "Camer�n",
         "3189.0"
        ],
        [
         "25",
         "Canad�",
         "567216.0"
        ],
        [
         "26",
         "Chad",
         "212.0"
        ],
        [
         "27",
         "Chile",
         "156485.0"
        ],
        [
         "28",
         "China",
         "818878.0"
        ],
        [
         "29",
         "Chipre",
         "24880.0"
        ],
        [
         "30",
         "Colombia",
         "700275.0"
        ],
        [
         "31",
         "Corea",
         "223247.0"
        ],
        [
         "32",
         "Costa Rica",
         "24752.0"
        ],
        [
         "33",
         "Costa de Marfil",
         "5141.0"
        ],
        [
         "34",
         "Croacia",
         "139272.0"
        ],
        [
         "35",
         "Cuba",
         "10540.0"
        ],
        [
         "36",
         "Dinamarca",
         "1393773.0"
        ],
        [
         "37",
         "Ecuador",
         "93377.0"
        ],
        [
         "38",
         "Egipto",
         "42021.0"
        ],
        [
         "39",
         "El Salvador",
         "12678.0"
        ],
        [
         "40",
         "Emiratos �rabes Unidos",
         "138941.0"
        ],
        [
         "41",
         "Eslovenia",
         "121662.0"
        ],
        [
         "42",
         "Estados Unidos de Am�rica",
         "4042383.0"
        ],
        [
         "43",
         "Estonia",
         "143270.0"
        ],
        [
         "44",
         "Etiop�a",
         "319.0"
        ],
        [
         "45",
         "Filipinas",
         "332753.0"
        ],
        [
         "46",
         "Finlandia",
         "571967.0"
        ],
        [
         "47",
         "Francia",
         "14108099.0"
        ],
        [
         "48",
         "Gab�n",
         "162.0"
        ],
        [
         "49",
         "Gambia",
         "5047.0"
        ]
       ],
       "shape": {
        "columns": 2,
        "rows": 142
       }
      },
      "text/html": [
       "<div>\n",
       "<style scoped>\n",
       "    .dataframe tbody tr th:only-of-type {\n",
       "        vertical-align: middle;\n",
       "    }\n",
       "\n",
       "    .dataframe tbody tr th {\n",
       "        vertical-align: top;\n",
       "    }\n",
       "\n",
       "    .dataframe thead th {\n",
       "        text-align: right;\n",
       "    }\n",
       "</style>\n",
       "<table border=\"1\" class=\"dataframe\">\n",
       "  <thead>\n",
       "    <tr style=\"text-align: right;\">\n",
       "      <th></th>\n",
       "      <th>PAIS_ORIGEN</th>\n",
       "      <th>TURISTAS</th>\n",
       "    </tr>\n",
       "  </thead>\n",
       "  <tbody>\n",
       "    <tr>\n",
       "      <th>0</th>\n",
       "      <td>Albania</td>\n",
       "      <td>30899.0</td>\n",
       "    </tr>\n",
       "    <tr>\n",
       "      <th>1</th>\n",
       "      <td>Alemania</td>\n",
       "      <td>13350981.0</td>\n",
       "    </tr>\n",
       "    <tr>\n",
       "      <th>2</th>\n",
       "      <td>Andorra</td>\n",
       "      <td>391412.0</td>\n",
       "    </tr>\n",
       "    <tr>\n",
       "      <th>3</th>\n",
       "      <td>Angola</td>\n",
       "      <td>3975.0</td>\n",
       "    </tr>\n",
       "    <tr>\n",
       "      <th>4</th>\n",
       "      <td>Arabia Saud�</td>\n",
       "      <td>81230.0</td>\n",
       "    </tr>\n",
       "    <tr>\n",
       "      <th>...</th>\n",
       "      <td>...</td>\n",
       "      <td>...</td>\n",
       "    </tr>\n",
       "    <tr>\n",
       "      <th>137</th>\n",
       "      <td>Uzbekist�n</td>\n",
       "      <td>4589.0</td>\n",
       "    </tr>\n",
       "    <tr>\n",
       "      <th>138</th>\n",
       "      <td>Venezuela</td>\n",
       "      <td>146632.0</td>\n",
       "    </tr>\n",
       "    <tr>\n",
       "      <th>139</th>\n",
       "      <td>Vietnam</td>\n",
       "      <td>21371.0</td>\n",
       "    </tr>\n",
       "    <tr>\n",
       "      <th>140</th>\n",
       "      <td>Zambia</td>\n",
       "      <td>33.0</td>\n",
       "    </tr>\n",
       "    <tr>\n",
       "      <th>141</th>\n",
       "      <td>Zimbabwe</td>\n",
       "      <td>1115.0</td>\n",
       "    </tr>\n",
       "  </tbody>\n",
       "</table>\n",
       "<p>142 rows × 2 columns</p>\n",
       "</div>"
      ],
      "text/plain": [
       "      PAIS_ORIGEN    TURISTAS\n",
       "0         Albania     30899.0\n",
       "1        Alemania  13350981.0\n",
       "2         Andorra    391412.0\n",
       "3          Angola      3975.0\n",
       "4    Arabia Saud�     81230.0\n",
       "..            ...         ...\n",
       "137    Uzbekist�n      4589.0\n",
       "138     Venezuela    146632.0\n",
       "139       Vietnam     21371.0\n",
       "140        Zambia        33.0\n",
       "141      Zimbabwe      1115.0\n",
       "\n",
       "[142 rows x 2 columns]"
      ]
     },
     "execution_count": 9,
     "metadata": {},
     "output_type": "execute_result"
    }
   ],
   "source": [
    "agrupado_españa= turistas.groupby([\"PAIS_ORIGEN\"])[\"TURISTAS\"].sum().reset_index()\n",
    "agrupado_españa"
   ]
  },
  {
   "cell_type": "code",
   "execution_count": null,
   "metadata": {},
   "outputs": [
    {
     "data": {
      "image/png": "[encoded data removed]",
      "text/plain": [
       "<Figure size 1000x600 with 1 Axes>"
      ]
     },
     "metadata": {},
     "output_type": "display_data"
    }
   ],
   "source": [
    "top20_españa= agrupado_españa.sort_values(\"TURISTAS\", ascending=False).head(20)\n",
    "\n",
    "#gráfica horizontal\n",
    "plt.figure(figsize=(10, 6))\n",
    "plt.barh(top20_españa[\"PAIS_ORIGEN\"], top20_españa[\"TURISTAS\"], color='skyblue')\n",
    "plt.xlabel(\"TURISTAS\")\n",
    "plt.ylabel(\"PAIS_ORIGEN\")\n",
    "plt.title(\"Top 20 de los países que más visitan España\")\n",
    "plt.gca().invert_yaxis()  #invertir el eje Y para que el país con más turistas esté arriba\n",
    "plt.tight_layout()\n",
    "#plt.yticks([\"Francia\",\"Alemania\", \"Países Bajos\", \"Reino Unido\", \"Italia\", \"Estados Unidos de América\", \"Suecia\", \"Bélgica\", \"Portugal\", \"Austria\", \"Suiza\", \"Polonia\", \"Irlanda\", \"Dinamarca\", \"Luxemburgo\", \"Colombia\", \"Marruecos\", \"China\", \"Rumanía\", \"México\"])\n",
    "\n",
    "plt.show()"
   ]
  },
  {
   "cell_type": "code",
   "execution_count": null,
   "metadata": {},
   "outputs": [
    {
     "data": {
      "image/png": "[encoded data removed]",
      "text/plain": [
       "<Figure size 1200x700 with 1 Axes>"
      ]
     },
     "metadata": {},
     "output_type": "display_data"
    }
   ],
   "source": [
    "top20_españa = agrupado_españa.sort_values(\"TURISTAS\", ascending=False).head(20)\n",
    "\n",
    "#gráfica horizontal con azul oscuro\n",
    "plt.figure(figsize=(12, 7))\n",
    "plt.barh(top20_españa[\"PAIS_ORIGEN\"], top20_españa[\"TURISTAS\"], color='#1f4e79')  # Azul oscuro\n",
    "plt.xlabel(\"Número de turistas\", fontsize=12)\n",
    "plt.ylabel(\"País de origen\", fontsize=12)\n",
    "plt.title(\"Top 20 países que más visitan España\", fontsize=14, fontweight='bold')\n",
    "plt.gca().invert_yaxis()  #país con más turistas arriba\n",
    "plt.grid(axis='x', linestyle='--', alpha=0.3)\n",
    "plt.xticks(fontsize=10)\n",
    "plt.yticks(fontsize=10)\n",
    "plt.tight_layout()\n",
    "\n",
    "\n",
    "plt.show()"
   ]
  }
 ],
 "metadata": {
  "kernelspec": {
   "display_name": "Python 3",
   "language": "python",
   "name": "python3"
  },
  "language_info": {
   "codemirror_mode": {
    "name": "ipython",
    "version": 3
   },
   "file_extension": ".py",
   "mimetype": "text/x-python",
   "name": "python",
   "nbconvert_exporter": "python",
   "pygments_lexer": "ipython3",
   "version": "3.11.9"
  }
 },
 "nbformat": 4,
 "nbformat_minor": 2
}
