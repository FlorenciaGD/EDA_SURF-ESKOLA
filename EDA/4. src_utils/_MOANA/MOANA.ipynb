{
 "cells": [
  {
   "cell_type": "code",
   "execution_count": 2,
   "id": "2ea19d54",
   "metadata": {},
   "outputs": [],
   "source": [
    "import requests\n",
    "import zipfile\n",
    "import pandas as pd\n",
    "import numpy as np\n",
    "import matplotlib.pyplot as plt\n",
    "import seaborn as sns"
   ]
  },
  {
   "cell_type": "code",
   "execution_count": 3,
   "id": "9749eb59",
   "metadata": {},
   "outputs": [
    {
     "data": {
      "application/vnd.microsoft.datawrangler.viewer.v0+json": {
       "columns": [
        {
         "name": "index",
         "rawType": "int64",
         "type": "integer"
        },
        {
         "name": "País",
         "rawType": "object",
         "type": "string"
        },
        {
         "name": "Cuota de tráfico",
         "rawType": "object",
         "type": "string"
        },
        {
         "name": "Visitas",
         "rawType": "int64",
         "type": "integer"
        },
        {
         "name": "Participación en escritorio",
         "rawType": "object",
         "type": "string"
        },
        {
         "name": "Participación en móviles",
         "rawType": "object",
         "type": "string"
        }
       ],
       "conversionMethod": "pd.DataFrame",
       "ref": "d88edb65-46b5-457f-bf50-bcaea7c0e038",
       "rows": [
        [
         "0",
         "España",
         "97,56 %",
         "21093",
         "2,37 %",
         "97,63 %"
        ],
        [
         "1",
         "Reino Unido",
         "0,84 %",
         "182",
         "100 %",
         "0 %"
        ],
        [
         "2",
         "Argentina",
         "0,66 %",
         "142",
         "100 %",
         "0 %"
        ],
        [
         "3",
         "Estados Unidos",
         "0,36 %",
         "77",
         "100 %",
         "0 %"
        ],
        [
         "4",
         "Alemania",
         "0,34 %",
         "74",
         "100 %",
         "0 %"
        ]
       ],
       "shape": {
        "columns": 5,
        "rows": 5
       }
      },
      "text/html": [
       "<div>\n",
       "<style scoped>\n",
       "    .dataframe tbody tr th:only-of-type {\n",
       "        vertical-align: middle;\n",
       "    }\n",
       "\n",
       "    .dataframe tbody tr th {\n",
       "        vertical-align: top;\n",
       "    }\n",
       "\n",
       "    .dataframe thead th {\n",
       "        text-align: right;\n",
       "    }\n",
       "</style>\n",
       "<table border=\"1\" class=\"dataframe\">\n",
       "  <thead>\n",
       "    <tr style=\"text-align: right;\">\n",
       "      <th></th>\n",
       "      <th>País</th>\n",
       "      <th>Cuota de tráfico</th>\n",
       "      <th>Visitas</th>\n",
       "      <th>Participación en escritorio</th>\n",
       "      <th>Participación en móviles</th>\n",
       "    </tr>\n",
       "  </thead>\n",
       "  <tbody>\n",
       "    <tr>\n",
       "      <th>0</th>\n",
       "      <td>España</td>\n",
       "      <td>97,56 %</td>\n",
       "      <td>21093</td>\n",
       "      <td>2,37 %</td>\n",
       "      <td>97,63 %</td>\n",
       "    </tr>\n",
       "    <tr>\n",
       "      <th>1</th>\n",
       "      <td>Reino Unido</td>\n",
       "      <td>0,84 %</td>\n",
       "      <td>182</td>\n",
       "      <td>100 %</td>\n",
       "      <td>0 %</td>\n",
       "    </tr>\n",
       "    <tr>\n",
       "      <th>2</th>\n",
       "      <td>Argentina</td>\n",
       "      <td>0,66 %</td>\n",
       "      <td>142</td>\n",
       "      <td>100 %</td>\n",
       "      <td>0 %</td>\n",
       "    </tr>\n",
       "    <tr>\n",
       "      <th>3</th>\n",
       "      <td>Estados Unidos</td>\n",
       "      <td>0,36 %</td>\n",
       "      <td>77</td>\n",
       "      <td>100 %</td>\n",
       "      <td>0 %</td>\n",
       "    </tr>\n",
       "    <tr>\n",
       "      <th>4</th>\n",
       "      <td>Alemania</td>\n",
       "      <td>0,34 %</td>\n",
       "      <td>74</td>\n",
       "      <td>100 %</td>\n",
       "      <td>0 %</td>\n",
       "    </tr>\n",
       "  </tbody>\n",
       "</table>\n",
       "</div>"
      ],
      "text/plain": [
       "             País Cuota de tráfico  Visitas Participación en escritorio  \\\n",
       "0          España          97,56 %    21093                      2,37 %   \n",
       "1     Reino Unido           0,84 %      182                       100 %   \n",
       "2       Argentina           0,66 %      142                       100 %   \n",
       "3  Estados Unidos           0,36 %       77                       100 %   \n",
       "4        Alemania           0,34 %       74                       100 %   \n",
       "\n",
       "  Participación en móviles  \n",
       "0                  97,63 %  \n",
       "1                      0 %  \n",
       "2                      0 %  \n",
       "3                      0 %  \n",
       "4                      0 %  "
      ]
     },
     "execution_count": 3,
     "metadata": {},
     "output_type": "execute_result"
    }
   ],
   "source": [
    "path = \"C:\\\\Users\\\\Flore\\\\Desktop\\\\EDA_SURF ESKOLA\\\\EDA\\\\_PEÑATXURI\\\\2024_DATOS_PEÑATXURI\\\\Distribución por País_escueladesurfsopelana.com_ene – dic 2024_Todos los dispositivos.csv\"\n",
    "anual = pd.read_csv(path, sep=\",\")\n",
    "anual"
   ]
  },
  {
   "cell_type": "code",
   "execution_count": null,
   "id": "f7c47c6e",
   "metadata": {},
   "outputs": [],
   "source": []
  },
  {
   "cell_type": "code",
   "execution_count": null,
   "id": "16a98b84",
   "metadata": {},
   "outputs": [],
   "source": []
  },
  {
   "cell_type": "code",
   "execution_count": null,
   "id": "a85e0e4d",
   "metadata": {},
   "outputs": [],
   "source": []
  },
  {
   "cell_type": "code",
   "execution_count": null,
   "id": "d7b10f76",
   "metadata": {},
   "outputs": [],
   "source": []
  },
  {
   "cell_type": "code",
   "execution_count": null,
   "id": "fb63af36",
   "metadata": {},
   "outputs": [],
   "source": []
  },
  {
   "cell_type": "code",
   "execution_count": null,
   "id": "3f6eb55e",
   "metadata": {},
   "outputs": [],
   "source": []
  },
  {
   "cell_type": "code",
   "execution_count": null,
   "id": "4508c6bb",
   "metadata": {},
   "outputs": [],
   "source": []
  },
  {
   "cell_type": "code",
   "execution_count": null,
   "id": "a41d48de",
   "metadata": {},
   "outputs": [],
   "source": []
  }
 ],
 "metadata": {
  "kernelspec": {
   "display_name": "Python 3",
   "language": "python",
   "name": "python3"
  },
  "language_info": {
   "codemirror_mode": {
    "name": "ipython",
    "version": 3
   },
   "file_extension": ".py",
   "mimetype": "text/x-python",
   "name": "python",
   "nbconvert_exporter": "python",
   "pygments_lexer": "ipython3",
   "version": "3.11.9"
  }
 },
 "nbformat": 4,
 "nbformat_minor": 5
}
